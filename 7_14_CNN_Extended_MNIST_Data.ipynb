{
  "nbformat": 4,
  "nbformat_minor": 0,
  "metadata": {
    "colab": {
      "name": "7/14 CNN Extended MNIST Data.ipynb",
      "provenance": [],
      "authorship_tag": "ABX9TyMmB6jXvNhJtkMIi3xEau/7",
      "include_colab_link": true
    },
    "kernelspec": {
      "name": "python3",
      "display_name": "Python 3"
    },
    "language_info": {
      "name": "python"
    }
  },
  "cells": [
    {
      "cell_type": "markdown",
      "metadata": {
        "id": "view-in-github",
        "colab_type": "text"
      },
      "source": [
        "<a href=\"https://colab.research.google.com/github/CharlotteY2003/MIT-Futuremakers/blob/main/7_14_CNN_Extended_MNIST_Data.ipynb\" target=\"_parent\"><img src=\"https://colab.research.google.com/assets/colab-badge.svg\" alt=\"Open In Colab\"/></a>"
      ]
    },
    {
      "cell_type": "code",
      "metadata": {
        "id": "PwlOs2-6LSmo"
      },
      "source": [
        "import numpy as np\n",
        "import pandas as pd\n",
        "import seaborn as sns\n",
        "import matplotlib.pyplot as plt\n",
        "import os\n",
        "from sklearn.preprocessing import OneHotEncoder\n",
        "from sklearn.model_selection import train_test_split\n",
        "from keras.models import Sequential\n",
        "from keras.layers import *\n",
        "from sklearn.metrics import confusion_matrix\n",
        "from keras.optimizers import RMSprop, Adam\n",
        "from keras.preprocessing.image import ImageDataGenerator\n",
        "import gzip\n",
        "from keras.datasets import mnist"
      ],
      "execution_count": 1,
      "outputs": []
    },
    {
      "cell_type": "code",
      "metadata": {
        "id": "egntK55cxyoq"
      },
      "source": [
        "(X_train, y_train), (X_test, y_test) = mnist.load_data()"
      ],
      "execution_count": 2,
      "outputs": []
    },
    {
      "cell_type": "code",
      "metadata": {
        "colab": {
          "base_uri": "https://localhost:8080/"
        },
        "id": "L9pu1hA0DLSS",
        "outputId": "b1df8192-2c11-40ef-a505-d667a59cde47"
      },
      "source": [
        "X_train.shape, y_train.shape, X_test.shape, y_test.shape"
      ],
      "execution_count": 3,
      "outputs": [
        {
          "output_type": "execute_result",
          "data": {
            "text/plain": [
              "((60000, 28, 28), (60000,), (10000, 28, 28), (10000,))"
            ]
          },
          "metadata": {
            "tags": []
          },
          "execution_count": 3
        }
      ]
    },
    {
      "cell_type": "code",
      "metadata": {
        "id": "P8ONXMIDPUG9",
        "colab": {
          "base_uri": "https://localhost:8080/",
          "height": 533
        },
        "outputId": "2da3fd4d-2e6d-4cf4-cff9-ebd1978a478d"
      },
      "source": [
        "plt.figure(figsize = (15,7))\n",
        "g = sns.countplot(y_train, palette='icefire')\n",
        "plt.title(\"Number of digit classes\")\n",
        "np.unique(y_train, return_counts = True)"
      ],
      "execution_count": 4,
      "outputs": [
        {
          "output_type": "stream",
          "text": [
            "/usr/local/lib/python3.7/dist-packages/seaborn/_decorators.py:43: FutureWarning: Pass the following variable as a keyword arg: x. From version 0.12, the only valid positional argument will be `data`, and passing other arguments without an explicit keyword will result in an error or misinterpretation.\n",
            "  FutureWarning\n"
          ],
          "name": "stderr"
        },
        {
          "output_type": "execute_result",
          "data": {
            "text/plain": [
              "(array([0, 1, 2, 3, 4, 5, 6, 7, 8, 9], dtype=uint8),\n",
              " array([5923, 6742, 5958, 6131, 5842, 5421, 5918, 6265, 5851, 5949]))"
            ]
          },
          "metadata": {
            "tags": []
          },
          "execution_count": 4
        },
        {
          "output_type": "display_data",
          "data": {
            "image/png": "[encoded data removed]",
            "text/plain": [
              "<Figure size 1080x504 with 1 Axes>"
            ]
          },
          "metadata": {
            "tags": [],
            "needs_background": "light"
          }
        }
      ]
    },
    {
      "cell_type": "code",
      "metadata": {
        "id": "RwKEiGZ6PwJG",
        "colab": {
          "base_uri": "https://localhost:8080/",
          "height": 264
        },
        "outputId": "a2d18f34-5c48-43f8-8ddd-ddc87553d552"
      },
      "source": [
        "img = X_train[0]\n",
        "img = img.reshape(28,28)\n",
        "plt.imshow(img, cmap = 'gray')\n",
        "plt.title(y_train[0])\n",
        "plt.axis('off')\n",
        "plt.show()"
      ],
      "execution_count": 5,
      "outputs": [
        {
          "output_type": "display_data",
          "data": {
            "image/png": "[encoded data removed]",
            "text/plain": [
              "<Figure size 432x288 with 1 Axes>"
            ]
          },
          "metadata": {
            "tags": [],
            "needs_background": "light"
          }
        }
      ]
    },
    {
      "cell_type": "code",
      "metadata": {
        "id": "N4gUfNB6Q7Eq",
        "colab": {
          "base_uri": "https://localhost:8080/"
        },
        "outputId": "6d1c85e3-6a31-49b6-e2fa-65f5c2be759f"
      },
      "source": [
        "#Normalization to reduce illimination's differences influences\n",
        "X_train = X_train/255.0\n",
        "X_test = X_test/255.0\n",
        "print(X_train.shape)\n",
        "print(X_test.shape)"
      ],
      "execution_count": 6,
      "outputs": [
        {
          "output_type": "stream",
          "text": [
            "(60000, 28, 28)\n",
            "(10000, 28, 28)\n"
          ],
          "name": "stdout"
        }
      ]
    },
    {
      "cell_type": "code",
      "metadata": {
        "id": "N54EsjwmRmh4",
        "colab": {
          "base_uri": "https://localhost:8080/"
        },
        "outputId": "88dcf178-c3f9-42d5-c29f-48896f3dc77f"
      },
      "source": [
        "#Make samples 3D through 28 x 28 x 1 matrices\n",
        "X_train = X_train.reshape(-1,28,28,1)\n",
        "X_test = X_test.reshape(-1,28,28,1)\n",
        "print(\"X_train shape: \",X_train.shape)\n",
        "print(\"X_test shape: \",X_test.shape)"
      ],
      "execution_count": 7,
      "outputs": [
        {
          "output_type": "stream",
          "text": [
            "X_train shape:  (60000, 28, 28, 1)\n",
            "X_test shape:  (10000, 28, 28, 1)\n"
          ],
          "name": "stdout"
        }
      ]
    },
    {
      "cell_type": "code",
      "metadata": {
        "id": "N4r5MFDVYoDD",
        "colab": {
          "base_uri": "https://localhost:8080/"
        },
        "outputId": "1ece0ada-f6a2-4525-a601-fe9cf54e2f74"
      },
      "source": [
        "y_train = y_train.reshape(-1,1)\n",
        "y_test = y_test.reshape(-1,1)\n",
        "print(y_train.shape)"
      ],
      "execution_count": 8,
      "outputs": [
        {
          "output_type": "stream",
          "text": [
            "(60000, 1)\n"
          ],
          "name": "stdout"
        }
      ]
    },
    {
      "cell_type": "code",
      "metadata": {
        "id": "1K6cr8PiR7GN"
      },
      "source": [
        "enc = OneHotEncoder()\n",
        "y_train = enc.fit_transform(y_train).toarray()"
      ],
      "execution_count": 9,
      "outputs": []
    },
    {
      "cell_type": "code",
      "metadata": {
        "id": "-z6NmKW-GcSq"
      },
      "source": [
        "X_train, X_val, y_train, y_val = train_test_split(X_train, y_train, test_size = .1, random_state = 2)"
      ],
      "execution_count": 10,
      "outputs": []
    },
    {
      "cell_type": "code",
      "metadata": {
        "id": "be4anWIlZc_u"
      },
      "source": [
        "model = Sequential()\n",
        "model.add(Conv2D(8, kernel_size = (5,5), padding = 'Same', activation = 'relu', input_shape=(28,28,1)))\n",
        "model.add(MaxPool2D(pool_size = (2,2)))\n",
        "model.add(Dropout(.25))\n",
        "model.add(Conv2D(16, kernel_size = (3,3), activation = 'relu', padding = 'Same'))\n",
        "model.add(MaxPool2D(pool_size = (2,2), strides=(2,2)))\n",
        "model.add(Dropout(.25))\n",
        "model.add(Flatten())\n",
        "model.add(Dense(256, activation='softmax'))\n",
        "model.add(Dropout(.5))\n",
        "model.add(Dense(10, activation='softmax'))"
      ],
      "execution_count": 11,
      "outputs": []
    },
    {
      "cell_type": "code",
      "metadata": {
        "id": "oM9IcpFaeoYy",
        "colab": {
          "base_uri": "https://localhost:8080/"
        },
        "outputId": "f32ecc77-112e-4d8a-d421-923d99ec70a6"
      },
      "source": [
        "optimizer = Adam(lr=.001, beta_1 = .9, beta_2 = .999)"
      ],
      "execution_count": 12,
      "outputs": [
        {
          "output_type": "stream",
          "text": [
            "/usr/local/lib/python3.7/dist-packages/tensorflow/python/keras/optimizer_v2/optimizer_v2.py:375: UserWarning: The `lr` argument is deprecated, use `learning_rate` instead.\n",
            "  \"The `lr` argument is deprecated, use `learning_rate` instead.\")\n"
          ],
          "name": "stderr"
        }
      ]
    },
    {
      "cell_type": "code",
      "metadata": {
        "id": "630UIkaBezk3"
      },
      "source": [
        "model.compile(loss = 'categorical_crossentropy', optimizer = optimizer, metrics = ['accuracy'])"
      ],
      "execution_count": 13,
      "outputs": []
    },
    {
      "cell_type": "code",
      "metadata": {
        "id": "2mkCzo5nfFHY"
      },
      "source": [
        "epochs = 10\n",
        "batch_size = 250"
      ],
      "execution_count": 14,
      "outputs": []
    },
    {
      "cell_type": "code",
      "metadata": {
        "id": "tr_lFmzLkJZz"
      },
      "source": [
        "#Data Augumentation = artifically expand X_train by rotating image\n",
        "datagen = ImageDataGenerator(rotation_range = 5, zoom_range = .1, width_shift_range = .1, height_shift_range = .1)\n",
        "datagen.fit(X_train)"
      ],
      "execution_count": 15,
      "outputs": []
    },
    {
      "cell_type": "code",
      "metadata": {
        "id": "qxcY5-E2koyZ",
        "colab": {
          "base_uri": "https://localhost:8080/"
        },
        "outputId": "a90135aa-ab6a-4a20-d6b8-22d9c4125960"
      },
      "source": [
        "history = model.fit_generator(datagen.flow(X_train, y_train, batch_size = batch_size), epochs = epochs,\n",
        "                              validation_data = (X_val, y_val), steps_per_epoch = X_train.shape[0] // batch_size)"
      ],
      "execution_count": 16,
      "outputs": [
        {
          "output_type": "stream",
          "text": [
            "/usr/local/lib/python3.7/dist-packages/keras/engine/training.py:1915: UserWarning: `Model.fit_generator` is deprecated and will be removed in a future version. Please use `Model.fit`, which supports generators.\n",
            "  warnings.warn('`Model.fit_generator` is deprecated and '\n"
          ],
          "name": "stderr"
        },
        {
          "output_type": "stream",
          "text": [
            "Epoch 1/10\n",
            "216/216 [==============================] - 55s 186ms/step - loss: 2.2327 - accuracy: 0.2265 - val_loss: 1.9729 - val_accuracy: 0.5712\n",
            "Epoch 2/10\n",
            "216/216 [==============================] - 39s 180ms/step - loss: 2.0140 - accuracy: 0.3097 - val_loss: 1.7562 - val_accuracy: 0.6635\n",
            "Epoch 3/10\n",
            "216/216 [==============================] - 39s 181ms/step - loss: 1.8634 - accuracy: 0.3570 - val_loss: 1.5162 - val_accuracy: 0.7947\n",
            "Epoch 4/10\n",
            "216/216 [==============================] - 39s 179ms/step - loss: 1.6982 - accuracy: 0.4272 - val_loss: 1.2811 - val_accuracy: 0.8517\n",
            "Epoch 5/10\n",
            "216/216 [==============================] - 39s 179ms/step - loss: 1.5649 - accuracy: 0.4606 - val_loss: 1.1147 - val_accuracy: 0.8648\n",
            "Epoch 6/10\n",
            "216/216 [==============================] - 39s 179ms/step - loss: 1.4866 - accuracy: 0.4722 - val_loss: 0.9973 - val_accuracy: 0.8720\n",
            "Epoch 7/10\n",
            "216/216 [==============================] - 39s 179ms/step - loss: 1.4351 - accuracy: 0.4808 - val_loss: 0.9129 - val_accuracy: 0.8740\n",
            "Epoch 8/10\n",
            "216/216 [==============================] - 39s 180ms/step - loss: 1.3921 - accuracy: 0.4861 - val_loss: 0.8627 - val_accuracy: 0.8775\n",
            "Epoch 9/10\n",
            "216/216 [==============================] - 39s 179ms/step - loss: 1.3685 - accuracy: 0.4957 - val_loss: 0.8024 - val_accuracy: 0.8788\n",
            "Epoch 10/10\n",
            "216/216 [==============================] - 39s 180ms/step - loss: 1.3308 - accuracy: 0.5045 - val_loss: 0.7480 - val_accuracy: 0.8803\n"
          ],
          "name": "stdout"
        }
      ]
    },
    {
      "cell_type": "code",
      "metadata": {
        "id": "oNVI3K__nl3P",
        "colab": {
          "base_uri": "https://localhost:8080/",
          "height": 295
        },
        "outputId": "0717b690-cf69-478d-d526-cf8688406e22"
      },
      "source": [
        "plt.plot(history.history['val_loss'], color = 'b', label = 'Val Loss' )\n",
        "plt.title('Value Loss over Epochs')\n",
        "plt.xlabel(\"Epochs\")\n",
        "plt.ylabel(\"Value Loss\")\n",
        "plt.legend()\n",
        "plt.show()"
      ],
      "execution_count": 17,
      "outputs": [
        {
          "output_type": "display_data",
          "data": {
            "image/png": "[encoded data removed]",
            "text/plain": [
              "<Figure size 432x288 with 1 Axes>"
            ]
          },
          "metadata": {
            "tags": [],
            "needs_background": "light"
          }
        }
      ]
    },
    {
      "cell_type": "code",
      "metadata": {
        "id": "Sn5Uo0igohQb",
        "colab": {
          "base_uri": "https://localhost:8080/",
          "height": 548
        },
        "outputId": "6480f05b-0aa5-473f-e4c3-4ba1a966d118"
      },
      "source": [
        "y_pred = model.predict(X_test)\n",
        "y_pred = np.argmax(y_pred, axis=1)\n",
        "print(y_pred)\n",
        "enc = OneHotEncoder()\n",
        "y_test = enc.fit_transform(y_test).toarray()\n",
        "y_test = np.argmax(y_test, axis=1)\n",
        "con_matrix = confusion_matrix(y_test, y_pred)\n",
        "print(y_test)\n",
        "f, ax = plt.subplots(figsize=(8,8))\n",
        "sns.heatmap(con_matrix, annot=True, linewidths=.01, cmap = \"Greens\", linecolor = 'gray', fmt = '.1f', ax=ax)\n",
        "plt.xlabel(\"Predicted label\")\n",
        "plt.ylabel(\"True label\")\n",
        "plt.title(\"Confusion Matrix\")\n",
        "plt.show()\n"
      ],
      "execution_count": 18,
      "outputs": [
        {
          "output_type": "stream",
          "text": [
            "[7 3 1 ... 4 5 6]\n",
            "[7 2 1 ... 4 5 6]\n"
          ],
          "name": "stdout"
        },
        {
          "output_type": "display_data",
          "data": {
            "image/png": "[encoded data removed]",
            "text/plain": [
              "<Figure size 576x576 with 2 Axes>"
            ]
          },
          "metadata": {
            "tags": [],
            "needs_background": "light"
          }
        }
      ]
    }
  ]
}