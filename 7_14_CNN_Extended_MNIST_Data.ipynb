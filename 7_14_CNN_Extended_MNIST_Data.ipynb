{
  "nbformat": 4,
  "nbformat_minor": 0,
  "metadata": {
    "colab": {
      "name": "7/14 CNN Extended MNIST Data.ipynb",
      "provenance": [],
      "collapsed_sections": [],
      "authorship_tag": "ABX9TyOnPH66Utrg6tR2dFING+Zd",
      "include_colab_link": true
    },
    "kernelspec": {
      "name": "python3",
      "display_name": "Python 3"
    },
    "language_info": {
      "name": "python"
    }
  },
  "cells": [
    {
      "cell_type": "markdown",
      "metadata": {
        "id": "view-in-github",
        "colab_type": "text"
      },
      "source": [
        "<a href=\"https://colab.research.google.com/github/CharlotteY2003/MIT-Futuremakers/blob/main/7_14_CNN_Extended_MNIST_Data.ipynb\" target=\"_parent\"><img src=\"https://colab.research.google.com/assets/colab-badge.svg\" alt=\"Open In Colab\"/></a>"
      ]
    },
    {
      "cell_type": "code",
      "metadata": {
        "id": "PwlOs2-6LSmo"
      },
      "source": [
        "import numpy as np\n",
        "import pandas as pd\n",
        "import seaborn as sns\n",
        "import matplotlib.pyplot as plt\n",
        "import os\n",
        "from sklearn.preprocessing import OneHotEncoder\n",
        "from sklearn.model_selection import train_test_split\n",
        "from keras.models import Sequential\n",
        "from keras.layers import *\n",
        "from sklearn.metrics import confusion_matrix\n",
        "from keras.optimizers import RMSprop, Adam\n",
        "from keras.preprocessing.image import ImageDataGenerator\n",
        "from keras.utils.np_utils import to_categorical\n",
        "import gzip\n",
        "from keras.datasets import mnist"
      ],
      "execution_count": null,
      "outputs": []
    },
    {
      "cell_type": "code",
      "metadata": {
        "id": "egntK55cxyoq"
      },
      "source": [
        "(X_train, y_train), (X_test, y_test) = mnist.load_data()"
      ],
      "execution_count": null,
      "outputs": []
    },
    {
      "cell_type": "code",
      "metadata": {
        "colab": {
          "base_uri": "https://localhost:8080/"
        },
        "id": "L9pu1hA0DLSS",
        "outputId": "396f967e-5b11-44c3-dff2-5cf20f0d7e56"
      },
      "source": [
        "X_train.shape, y_train.shape, X_test.shape, y_test.shape"
      ],
      "execution_count": null,
      "outputs": [
        {
          "output_type": "execute_result",
          "data": {
            "text/plain": [
              "((60000, 28, 28), (60000,), (10000, 28, 28), (10000,))"
            ]
          },
          "metadata": {
            "tags": []
          },
          "execution_count": 3
        }
      ]
    },
    {
      "cell_type": "code",
      "metadata": {
        "id": "P8ONXMIDPUG9",
        "colab": {
          "base_uri": "https://localhost:8080/",
          "height": 533
        },
        "outputId": "bd105be6-ccae-4df9-b082-dc3ec84e59a9"
      },
      "source": [
        "plt.figure(figsize = (15,7))\n",
        "g = sns.countplot(y_train, palette='icefire')\n",
        "plt.title(\"Number of digit classes\")\n",
        "np.unique(y_train, return_counts = True)"
      ],
      "execution_count": null,
      "outputs": [
        {
          "output_type": "stream",
          "text": [
            "/usr/local/lib/python3.7/dist-packages/seaborn/_decorators.py:43: FutureWarning: Pass the following variable as a keyword arg: x. From version 0.12, the only valid positional argument will be `data`, and passing other arguments without an explicit keyword will result in an error or misinterpretation.\n",
            "  FutureWarning\n"
          ],
          "name": "stderr"
        },
        {
          "output_type": "execute_result",
          "data": {
            "text/plain": [
              "(array([0, 1, 2, 3, 4, 5, 6, 7, 8, 9], dtype=uint8),\n",
              " array([5923, 6742, 5958, 6131, 5842, 5421, 5918, 6265, 5851, 5949]))"
            ]
          },
          "metadata": {
            "tags": []
          },
          "execution_count": 4
        },
        {
          "output_type": "display_data",
          "data": {
            "image/png": "[encoded data removed]",
            "text/plain": [
              "<Figure size 1080x504 with 1 Axes>"
            ]
          },
          "metadata": {
            "tags": [],
            "needs_background": "light"
          }
        }
      ]
    },
    {
      "cell_type": "code",
      "metadata": {
        "id": "RwKEiGZ6PwJG",
        "colab": {
          "base_uri": "https://localhost:8080/",
          "height": 264
        },
        "outputId": "d34aa5d5-7947-4a43-9b21-d80c9b747498"
      },
      "source": [
        "img = X_train[0]\n",
        "img = img.reshape(28,28)\n",
        "plt.imshow(img, cmap = 'gray')\n",
        "plt.title(y_train[0])\n",
        "plt.axis('off')\n",
        "plt.show()"
      ],
      "execution_count": null,
      "outputs": [
        {
          "output_type": "display_data",
          "data": {
            "image/png": "[encoded data removed]",
            "text/plain": [
              "<Figure size 432x288 with 1 Axes>"
            ]
          },
          "metadata": {
            "tags": [],
            "needs_background": "light"
          }
        }
      ]
    },
    {
      "cell_type": "code",
      "metadata": {
        "id": "N4gUfNB6Q7Eq",
        "colab": {
          "base_uri": "https://localhost:8080/"
        },
        "outputId": "7ee2d9b8-6e9d-43a7-83ff-03ae703e1924"
      },
      "source": [
        "#Normalization to reduce illimination's differences influences\n",
        "X_train = X_train/255.0\n",
        "X_test = X_test/255.0\n",
        "print(X_train.shape)\n",
        "print(X_test.shape)"
      ],
      "execution_count": null,
      "outputs": [
        {
          "output_type": "stream",
          "text": [
            "(60000, 28, 28)\n",
            "(10000, 28, 28)\n"
          ],
          "name": "stdout"
        }
      ]
    },
    {
      "cell_type": "code",
      "metadata": {
        "id": "N54EsjwmRmh4",
        "colab": {
          "base_uri": "https://localhost:8080/"
        },
        "outputId": "df05ffcf-79fe-4ca4-abe5-0b396f10d7d8"
      },
      "source": [
        "#Make samples 3D through 28 x 28 x 1 matrices\n",
        "X_train = X_train.reshape(-1,28,28,1)\n",
        "X_test = X_test.reshape(-1,28,28,1)\n",
        "print(\"X_train shape: \",X_train.shape)\n",
        "print(\"X_test shape: \",X_test.shape)"
      ],
      "execution_count": null,
      "outputs": [
        {
          "output_type": "stream",
          "text": [
            "X_train shape:  (60000, 28, 28, 1)\n",
            "X_test shape:  (10000, 28, 28, 1)\n"
          ],
          "name": "stdout"
        }
      ]
    },
    {
      "cell_type": "code",
      "metadata": {
        "id": "N4r5MFDVYoDD"
      },
      "source": [
        "#y_train = y_train.reshape(-1,1)\n",
        "#y_test = y_test.reshape(-1,1)\n",
        "#print(y_train.shape)"
      ],
      "execution_count": null,
      "outputs": []
    },
    {
      "cell_type": "code",
      "metadata": {
        "id": "1K6cr8PiR7GN"
      },
      "source": [
        "y_train = to_categorical(y_train, num_classes=10)\n",
        "y_test = to_categorical(y_test, num_classes=10)"
      ],
      "execution_count": null,
      "outputs": []
    },
    {
      "cell_type": "code",
      "metadata": {
        "id": "-z6NmKW-GcSq",
        "colab": {
          "base_uri": "https://localhost:8080/"
        },
        "outputId": "ec4c168d-0931-4157-d3cb-d465ffb7a13e"
      },
      "source": [
        "X_train, X_val, y_train, y_val = train_test_split(X_train, y_train, test_size = .1, random_state = 2)\n",
        "print(X_train.shape)\n",
        "print(X_val.shape)\n",
        "print(y_train.shape)\n",
        "print(y_val.shape)"
      ],
      "execution_count": null,
      "outputs": [
        {
          "output_type": "stream",
          "text": [
            "(54000, 28, 28, 1)\n",
            "(6000, 28, 28, 1)\n",
            "(54000, 10)\n",
            "(6000, 10)\n"
          ],
          "name": "stdout"
        }
      ]
    },
    {
      "cell_type": "code",
      "metadata": {
        "id": "be4anWIlZc_u"
      },
      "source": [
        "model = Sequential()\n",
        "model.add(Conv2D(filters=8, kernel_size = (5,5), padding = 'Same', activation = 'relu', input_shape=(28,28,1)))\n",
        "model.add(MaxPool2D(pool_size = (2,2)))\n",
        "model.add(Dropout(.25))\n",
        "model.add(Conv2D(filters=16, kernel_size = (3,3), activation = 'relu', padding = 'Same'))\n",
        "model.add(MaxPool2D(pool_size = (2,2), strides=(2,2)))\n",
        "model.add(Dropout(.25))\n",
        "model.add(Flatten())\n",
        "model.add(Dense(256, activation='relu'))\n",
        "model.add(Dropout(.5))\n",
        "model.add(Dense(10, activation='softmax'))"
      ],
      "execution_count": null,
      "outputs": []
    },
    {
      "cell_type": "code",
      "metadata": {
        "id": "oM9IcpFaeoYy",
        "colab": {
          "base_uri": "https://localhost:8080/"
        },
        "outputId": "7aec3118-4312-4c5c-b6f3-ec40cdc419f1"
      },
      "source": [
        "optimizer = Adam(lr=.001, beta_1 = .9, beta_2 = .999)"
      ],
      "execution_count": null,
      "outputs": [
        {
          "output_type": "stream",
          "text": [
            "/usr/local/lib/python3.7/dist-packages/tensorflow/python/keras/optimizer_v2/optimizer_v2.py:375: UserWarning: The `lr` argument is deprecated, use `learning_rate` instead.\n",
            "  \"The `lr` argument is deprecated, use `learning_rate` instead.\")\n"
          ],
          "name": "stderr"
        }
      ]
    },
    {
      "cell_type": "code",
      "metadata": {
        "id": "630UIkaBezk3"
      },
      "source": [
        "model.compile(loss = 'categorical_crossentropy', optimizer = optimizer, metrics = ['accuracy'])"
      ],
      "execution_count": null,
      "outputs": []
    },
    {
      "cell_type": "code",
      "metadata": {
        "id": "2mkCzo5nfFHY"
      },
      "source": [
        "epochs = 10\n",
        "batch_size = 250"
      ],
      "execution_count": null,
      "outputs": []
    },
    {
      "cell_type": "code",
      "metadata": {
        "id": "tr_lFmzLkJZz"
      },
      "source": [
        "#Data Augumentation = artifically expand X_train by rotating image\n",
        "datagen = ImageDataGenerator(rotation_range = 5, zoom_range = .1, width_shift_range = .1, height_shift_range = .1)\n",
        "datagen.fit(X_train)"
      ],
      "execution_count": null,
      "outputs": []
    },
    {
      "cell_type": "code",
      "metadata": {
        "id": "qxcY5-E2koyZ",
        "colab": {
          "base_uri": "https://localhost:8080/"
        },
        "outputId": "a4a54e38-aae3-4c65-c691-d6621b47d23e"
      },
      "source": [
        "history = model.fit_generator(datagen.flow(X_train, y_train, batch_size = batch_size), epochs = epochs,\n",
        "                              validation_data = (X_val, y_val), steps_per_epoch = X_train.shape[0] // batch_size)"
      ],
      "execution_count": null,
      "outputs": [
        {
          "output_type": "stream",
          "text": [
            "/usr/local/lib/python3.7/dist-packages/keras/engine/training.py:1915: UserWarning: `Model.fit_generator` is deprecated and will be removed in a future version. Please use `Model.fit`, which supports generators.\n",
            "  warnings.warn('`Model.fit_generator` is deprecated and '\n"
          ],
          "name": "stderr"
        },
        {
          "output_type": "stream",
          "text": [
            "Epoch 1/10\n",
            "216/216 [==============================] - 57s 192ms/step - loss: 1.3512 - accuracy: 0.5342 - val_loss: 0.1618 - val_accuracy: 0.9525\n",
            "Epoch 2/10\n",
            "216/216 [==============================] - 41s 188ms/step - loss: 0.3769 - accuracy: 0.8809 - val_loss: 0.1034 - val_accuracy: 0.9700\n",
            "Epoch 3/10\n",
            "216/216 [==============================] - 41s 188ms/step - loss: 0.2833 - accuracy: 0.9117 - val_loss: 0.0881 - val_accuracy: 0.9725\n",
            "Epoch 4/10\n",
            "216/216 [==============================] - 41s 188ms/step - loss: 0.2327 - accuracy: 0.9285 - val_loss: 0.0751 - val_accuracy: 0.9763\n",
            "Epoch 5/10\n",
            "216/216 [==============================] - 41s 188ms/step - loss: 0.2090 - accuracy: 0.9351 - val_loss: 0.0667 - val_accuracy: 0.9795\n",
            "Epoch 6/10\n",
            "216/216 [==============================] - 41s 188ms/step - loss: 0.1894 - accuracy: 0.9428 - val_loss: 0.0633 - val_accuracy: 0.9813\n",
            "Epoch 7/10\n",
            "216/216 [==============================] - 41s 188ms/step - loss: 0.1735 - accuracy: 0.9469 - val_loss: 0.0558 - val_accuracy: 0.9827\n",
            "Epoch 8/10\n",
            "216/216 [==============================] - 41s 188ms/step - loss: 0.1607 - accuracy: 0.9504 - val_loss: 0.0516 - val_accuracy: 0.9837\n",
            "Epoch 9/10\n",
            "216/216 [==============================] - 41s 189ms/step - loss: 0.1556 - accuracy: 0.9525 - val_loss: 0.0476 - val_accuracy: 0.9847\n",
            "Epoch 10/10\n",
            "216/216 [==============================] - 41s 189ms/step - loss: 0.1493 - accuracy: 0.9543 - val_loss: 0.0466 - val_accuracy: 0.9843\n"
          ],
          "name": "stdout"
        }
      ]
    },
    {
      "cell_type": "code",
      "metadata": {
        "id": "oNVI3K__nl3P",
        "colab": {
          "base_uri": "https://localhost:8080/",
          "height": 295
        },
        "outputId": "ddde7d6c-e6c4-4fed-bff9-886f582616f6"
      },
      "source": [
        "plt.plot(history.history['val_loss'], color = 'b', label = 'Val Loss' )\n",
        "plt.title('Value Loss over Epochs')\n",
        "plt.xlabel(\"Epochs\")\n",
        "plt.ylabel(\"Value Loss\")\n",
        "plt.legend()\n",
        "plt.show()"
      ],
      "execution_count": null,
      "outputs": [
        {
          "output_type": "display_data",
          "data": {
            "image/png": "[encoded data removed]",
            "text/plain": [
              "<Figure size 432x288 with 1 Axes>"
            ]
          },
          "metadata": {
            "tags": [],
            "needs_background": "light"
          }
        }
      ]
    },
    {
      "cell_type": "code",
      "metadata": {
        "id": "Sn5Uo0igohQb",
        "colab": {
          "base_uri": "https://localhost:8080/",
          "height": 530
        },
        "outputId": "a1a63338-d8ed-43d3-a17b-82ff328cf6b1"
      },
      "source": [
        "y_pred = model.predict(X_test)\n",
        "y_pred_classes = np.argmax(y_pred, axis=1)\n",
        "\n",
        "y_true = np.argmax(y_test, axis=1)\n",
        "print(y_pred_classes, y_true)\n",
        "con_matrix = confusion_matrix(y_true, y_pred_classes)\n",
        "\n",
        "f, ax = plt.subplots(figsize=(8,8))\n",
        "sns.heatmap(con_matrix, annot=True, linewidths=.01, cmap = \"Greens\", linecolor = 'gray', fmt = '.1f', ax=ax)\n",
        "plt.xlabel(\"Predicted label\")\n",
        "plt.ylabel(\"True label\")\n",
        "plt.title(\"Confusion Matrix\")\n",
        "plt.show()\n"
      ],
      "execution_count": null,
      "outputs": [
        {
          "output_type": "stream",
          "text": [
            "[7 2 1 ... 4 5 6] [7 2 1 ... 4 5 6]\n"
          ],
          "name": "stdout"
        },
        {
          "output_type": "display_data",
          "data": {
            "image/png": "[encoded data removed]",
            "text/plain": [
              "<Figure size 576x576 with 2 Axes>"
            ]
          },
          "metadata": {
            "tags": [],
            "needs_background": "light"
          }
        }
      ]
    },
    {
      "cell_type": "markdown",
      "metadata": {
        "id": "y0aoTIwloxbD"
      },
      "source": [
        "#Evaluation"
      ]
    },
    {
      "cell_type": "markdown",
      "metadata": {
        "id": "MGaMTJMyozn7"
      },
      "source": [
        "Both CNNs performed well, although the CNN with the extended dataset performed slightly better possibly due to having a larger dataset, therefore more samples to train off of. "
      ]
    }
  ]
}