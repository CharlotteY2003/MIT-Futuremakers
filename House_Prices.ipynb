{
  "nbformat": 4,
  "nbformat_minor": 0,
  "metadata": {
    "colab": {
      "name": "House Prices.ipynb",
      "provenance": [],
      "authorship_tag": "ABX9TyNHJMGnL2+oGKmgPLI+4iMR",
      "include_colab_link": true
    },
    "kernelspec": {
      "name": "python3",
      "display_name": "Python 3"
    },
    "language_info": {
      "name": "python"
    }
  },
  "cells": [
    {
      "cell_type": "markdown",
      "metadata": {
        "id": "view-in-github",
        "colab_type": "text"
      },
      "source": [
        "<a href=\"https://colab.research.google.com/github/CharlotteY2003/MIT-Futuremakers/blob/main/House_Prices.ipynb\" target=\"_parent\"><img src=\"https://colab.research.google.com/assets/colab-badge.svg\" alt=\"Open In Colab\"/></a>"
      ]
    },
    {
      "cell_type": "code",
      "metadata": {
        "id": "JKZK9dSCQnl3"
      },
      "source": [
        "import pandas as pd\n",
        "import numpy as np\n",
        "import matplotlib.pyplot as plt\n",
        "from keras.models import Sequential\n",
        "from keras.layers import *\n",
        "from sklearn.model_selection import train_test_split\n",
        "from sklearn.preprocessing import StandardScaler, MinMaxScaler\n",
        "from keras.optimizers import SGD\n",
        "from keras import regularizers"
      ],
      "execution_count": 1,
      "outputs": []
    },
    {
      "cell_type": "markdown",
      "metadata": {
        "id": "6H67nAZ5YbBm"
      },
      "source": [
        "#Data Preprocessing"
      ]
    },
    {
      "cell_type": "code",
      "metadata": {
        "colab": {
          "base_uri": "https://localhost:8080/",
          "height": 225
        },
        "id": "HTvYohwURHwE",
        "outputId": "c3f981d8-b365-4b52-f1e7-46b44a175755"
      },
      "source": [
        "data = pd.read_csv('housepricedata.csv')\n",
        "data.head()"
      ],
      "execution_count": 2,
      "outputs": [
        {
          "output_type": "execute_result",
          "data": {
            "text/html": [
              "<div>\n",
              "<style scoped>\n",
              "    .dataframe tbody tr th:only-of-type {\n",
              "        vertical-align: middle;\n",
              "    }\n",
              "\n",
              "    .dataframe tbody tr th {\n",
              "        vertical-align: top;\n",
              "    }\n",
              "\n",
              "    .dataframe thead th {\n",
              "        text-align: right;\n",
              "    }\n",
              "</style>\n",
              "<table border=\"1\" class=\"dataframe\">\n",
              "  <thead>\n",
              "    <tr style=\"text-align: right;\">\n",
              "      <th></th>\n",
              "      <th>LotArea</th>\n",
              "      <th>OverallQual</th>\n",
              "      <th>OverallCond</th>\n",
              "      <th>TotalBsmtSF</th>\n",
              "      <th>FullBath</th>\n",
              "      <th>HalfBath</th>\n",
              "      <th>BedroomAbvGr</th>\n",
              "      <th>TotRmsAbvGrd</th>\n",
              "      <th>Fireplaces</th>\n",
              "      <th>GarageArea</th>\n",
              "      <th>AboveMedianPrice</th>\n",
              "    </tr>\n",
              "  </thead>\n",
              "  <tbody>\n",
              "    <tr>\n",
              "      <th>0</th>\n",
              "      <td>8450</td>\n",
              "      <td>7</td>\n",
              "      <td>5</td>\n",
              "      <td>856</td>\n",
              "      <td>2</td>\n",
              "      <td>1</td>\n",
              "      <td>3</td>\n",
              "      <td>8</td>\n",
              "      <td>0</td>\n",
              "      <td>548</td>\n",
              "      <td>1</td>\n",
              "    </tr>\n",
              "    <tr>\n",
              "      <th>1</th>\n",
              "      <td>9600</td>\n",
              "      <td>6</td>\n",
              "      <td>8</td>\n",
              "      <td>1262</td>\n",
              "      <td>2</td>\n",
              "      <td>0</td>\n",
              "      <td>3</td>\n",
              "      <td>6</td>\n",
              "      <td>1</td>\n",
              "      <td>460</td>\n",
              "      <td>1</td>\n",
              "    </tr>\n",
              "    <tr>\n",
              "      <th>2</th>\n",
              "      <td>11250</td>\n",
              "      <td>7</td>\n",
              "      <td>5</td>\n",
              "      <td>920</td>\n",
              "      <td>2</td>\n",
              "      <td>1</td>\n",
              "      <td>3</td>\n",
              "      <td>6</td>\n",
              "      <td>1</td>\n",
              "      <td>608</td>\n",
              "      <td>1</td>\n",
              "    </tr>\n",
              "    <tr>\n",
              "      <th>3</th>\n",
              "      <td>9550</td>\n",
              "      <td>7</td>\n",
              "      <td>5</td>\n",
              "      <td>756</td>\n",
              "      <td>1</td>\n",
              "      <td>0</td>\n",
              "      <td>3</td>\n",
              "      <td>7</td>\n",
              "      <td>1</td>\n",
              "      <td>642</td>\n",
              "      <td>0</td>\n",
              "    </tr>\n",
              "    <tr>\n",
              "      <th>4</th>\n",
              "      <td>14260</td>\n",
              "      <td>8</td>\n",
              "      <td>5</td>\n",
              "      <td>1145</td>\n",
              "      <td>2</td>\n",
              "      <td>1</td>\n",
              "      <td>4</td>\n",
              "      <td>9</td>\n",
              "      <td>1</td>\n",
              "      <td>836</td>\n",
              "      <td>1</td>\n",
              "    </tr>\n",
              "  </tbody>\n",
              "</table>\n",
              "</div>"
            ],
            "text/plain": [
              "   LotArea  OverallQual  OverallCond  ...  Fireplaces  GarageArea  AboveMedianPrice\n",
              "0     8450            7            5  ...           0         548                 1\n",
              "1     9600            6            8  ...           1         460                 1\n",
              "2    11250            7            5  ...           1         608                 1\n",
              "3     9550            7            5  ...           1         642                 0\n",
              "4    14260            8            5  ...           1         836                 1\n",
              "\n",
              "[5 rows x 11 columns]"
            ]
          },
          "metadata": {
            "tags": []
          },
          "execution_count": 2
        }
      ]
    },
    {
      "cell_type": "code",
      "metadata": {
        "id": "g92zBx0tRrjJ"
      },
      "source": [
        "data = data.values"
      ],
      "execution_count": 3,
      "outputs": []
    },
    {
      "cell_type": "code",
      "metadata": {
        "id": "V0GDEAcHRxhy"
      },
      "source": [
        "y = data[:, 10]\n",
        "X = data[:, 0:10]"
      ],
      "execution_count": 4,
      "outputs": []
    },
    {
      "cell_type": "code",
      "metadata": {
        "id": "ZfsD1scASKTo"
      },
      "source": [
        "scaler = MinMaxScaler()\n",
        "X_scale = scaler.fit_transform(X)"
      ],
      "execution_count": 5,
      "outputs": []
    },
    {
      "cell_type": "code",
      "metadata": {
        "id": "Gv04VOYOTcGh"
      },
      "source": [
        "X_train, X_val_test, y_train, y_val_test = train_test_split(X_scale, y, test_size = .3)\n",
        "X_val, X_test, y_val, y_test = train_test_split(X_val_test, y_val_test, test_size = .5)"
      ],
      "execution_count": 6,
      "outputs": []
    },
    {
      "cell_type": "code",
      "metadata": {
        "colab": {
          "base_uri": "https://localhost:8080/"
        },
        "id": "Bib2DMhVT0n4",
        "outputId": "8d9658db-4662-4e86-874a-b8a4f0849da1"
      },
      "source": [
        "print(X_train.shape)"
      ],
      "execution_count": 7,
      "outputs": [
        {
          "output_type": "stream",
          "text": [
            "(1022, 10)\n"
          ],
          "name": "stdout"
        }
      ]
    },
    {
      "cell_type": "markdown",
      "metadata": {
        "id": "q_eBo80iYeeh"
      },
      "source": [
        "#First Model Development (Good and fully connected neural network)"
      ]
    },
    {
      "cell_type": "code",
      "metadata": {
        "id": "ihTsFGUlUExl"
      },
      "source": [
        "model = Sequential()\n",
        "model.add(Dense(units = 32, activation='relu', input_shape = (10,)))\n",
        "model.add(Dense(units = 64, activation = 'relu'))\n",
        "model.add(Dense(units = 1, activation = 'sigmoid'))"
      ],
      "execution_count": 8,
      "outputs": []
    },
    {
      "cell_type": "code",
      "metadata": {
        "id": "lI5SPGN7Uykq"
      },
      "source": [
        "model.compile(optimizer = 'sgd', loss= 'binary_crossentropy', metrics = ['accuracy'])"
      ],
      "execution_count": 9,
      "outputs": []
    },
    {
      "cell_type": "code",
      "metadata": {
        "id": "tnu4-c-6VHnR"
      },
      "source": [
        "history = model.fit(X_train, y_train, validation_data = (X_val, y_val), batch_size = 32, epochs = 100)"
      ],
      "execution_count": null,
      "outputs": []
    },
    {
      "cell_type": "code",
      "metadata": {
        "colab": {
          "base_uri": "https://localhost:8080/"
        },
        "id": "BvsM7tRPVb1z",
        "outputId": "bfb7a587-3579-49f4-b78e-190eafe18f41"
      },
      "source": [
        "model.evaluate(X_test, y_test)[1]"
      ],
      "execution_count": 11,
      "outputs": [
        {
          "output_type": "stream",
          "text": [
            "7/7 [==============================] - 0s 2ms/step - loss: 0.2638 - accuracy: 0.8813\n"
          ],
          "name": "stdout"
        },
        {
          "output_type": "execute_result",
          "data": {
            "text/plain": [
              "0.8812785148620605"
            ]
          },
          "metadata": {
            "tags": []
          },
          "execution_count": 11
        }
      ]
    },
    {
      "cell_type": "code",
      "metadata": {
        "colab": {
          "base_uri": "https://localhost:8080/",
          "height": 295
        },
        "id": "MFhTzft3VqmE",
        "outputId": "57ed3a87-7313-4bed-b469-526e395b8bbb"
      },
      "source": [
        "plt.plot(history.history['loss'], color = 'blue', label = 'training')\n",
        "plt.xlabel('Epochs')\n",
        "plt.ylabel('Model loss')\n",
        "plt.title('Model loss in epochs')\n",
        "plt.plot(history.history['val_loss'], color='orange', label = 'validation')\n",
        "plt.show()"
      ],
      "execution_count": 12,
      "outputs": [
        {
          "output_type": "display_data",
          "data": {
            "image/png": "[encoded data removed]",
            "text/plain": [
              "<Figure size 432x288 with 1 Axes>"
            ]
          },
          "metadata": {
            "tags": [],
            "needs_background": "light"
          }
        }
      ]
    },
    {
      "cell_type": "code",
      "metadata": {
        "colab": {
          "base_uri": "https://localhost:8080/",
          "height": 295
        },
        "id": "fqkaNa3mXCrC",
        "outputId": "c0d93ea5-5f48-4981-c142-8a0eb64b33c7"
      },
      "source": [
        "plt.plot(history.history['accuracy'], color = 'blue', label = 'training')\n",
        "plt.xlabel('Epochs')\n",
        "plt.ylabel('Accuracy')\n",
        "plt.title('Model accuracy in epochs')\n",
        "plt.plot(history.history['val_accuracy'], color='orange', label = 'validation')\n",
        "plt.show()"
      ],
      "execution_count": 13,
      "outputs": [
        {
          "output_type": "display_data",
          "data": {
            "image/png": "[encoded data removed]",
            "text/plain": [
              "<Figure size 432x288 with 1 Axes>"
            ]
          },
          "metadata": {
            "tags": [],
            "needs_background": "light"
          }
        }
      ]
    },
    {
      "cell_type": "markdown",
      "metadata": {
        "id": "HZjA8ANLYm-q"
      },
      "source": [
        "#Second Model Development(FNN with Regularization)"
      ]
    },
    {
      "cell_type": "code",
      "metadata": {
        "id": "LuvTF0Y2YrIN"
      },
      "source": [
        "model = Sequential()\n",
        "model.add(Dense(1000, activation = 'relu', input_shape=(10,), kernel_regularizer=regularizers.l2(.01)))\n",
        "model.add(Dropout(.3))\n",
        "model.add(Dense(1000, activation='relu', kernel_regularizer=regularizers.l2(.01)))\n",
        "model.add(Dropout(.3))\n",
        "model.add(Dense(1000, activation='relu', kernel_regularizer=regularizers.l2(.01)))\n",
        "model.add(Dropout(.3))\n",
        "model.add(Dense(1000, activation = 'relu', kernel_regularizer=regularizers.l2(.01)))\n",
        "model.add(Dropout(.3))\n",
        "model.add(Dense(1, activation = 'sigmoid', kernel_regularizer=regularizers.l2(.01)))"
      ],
      "execution_count": 14,
      "outputs": []
    },
    {
      "cell_type": "code",
      "metadata": {
        "id": "4T3amGgHZKDr"
      },
      "source": [
        "model.compile(optimizer = 'sgd', loss='binary_crossentropy', metrics = ['accuracy'])"
      ],
      "execution_count": 15,
      "outputs": []
    },
    {
      "cell_type": "code",
      "metadata": {
        "colab": {
          "base_uri": "https://localhost:8080/"
        },
        "id": "Q3AHl4cKZS05",
        "outputId": "c0731fa9-3393-4c74-a6b0-b925970696bd"
      },
      "source": [
        "history = model.fit(X_train, y_train, validation_data=(X_val, y_val), batch_size = 32, epochs = 100)"
      ],
      "execution_count": 16,
      "outputs": [
        {
          "output_type": "stream",
          "text": [
            "Epoch 1/100\n",
            "32/32 [==============================] - 4s 66ms/step - loss: 30.8216 - accuracy: 0.4900 - val_loss: 30.5284 - val_accuracy: 0.4886\n",
            "Epoch 2/100\n",
            "32/32 [==============================] - 2s 49ms/step - loss: 30.4342 - accuracy: 0.5159 - val_loss: 30.1479 - val_accuracy: 0.4566\n",
            "Epoch 3/100\n",
            "32/32 [==============================] - 2s 48ms/step - loss: 30.0535 - accuracy: 0.5371 - val_loss: 29.7722 - val_accuracy: 0.4566\n",
            "Epoch 4/100\n",
            "32/32 [==============================] - 2s 48ms/step - loss: 29.6784 - accuracy: 0.5417 - val_loss: 29.4013 - val_accuracy: 0.4566\n",
            "Epoch 5/100\n",
            "32/32 [==============================] - 2s 48ms/step - loss: 29.3080 - accuracy: 0.5330 - val_loss: 29.0352 - val_accuracy: 0.4566\n",
            "Epoch 6/100\n",
            "32/32 [==============================] - 2s 47ms/step - loss: 28.9433 - accuracy: 0.5212 - val_loss: 28.6735 - val_accuracy: 0.4566\n",
            "Epoch 7/100\n",
            "32/32 [==============================] - 2s 48ms/step - loss: 28.5835 - accuracy: 0.5148 - val_loss: 28.3165 - val_accuracy: 0.4566\n",
            "Epoch 8/100\n",
            "32/32 [==============================] - 2s 48ms/step - loss: 28.2282 - accuracy: 0.5018 - val_loss: 27.9638 - val_accuracy: 0.4566\n",
            "Epoch 9/100\n",
            "32/32 [==============================] - 1s 47ms/step - loss: 27.8752 - accuracy: 0.5176 - val_loss: 27.6157 - val_accuracy: 0.4566\n",
            "Epoch 10/100\n",
            "32/32 [==============================] - 2s 47ms/step - loss: 27.5258 - accuracy: 0.5385 - val_loss: 27.2718 - val_accuracy: 0.4566\n",
            "Epoch 11/100\n",
            "32/32 [==============================] - 2s 48ms/step - loss: 27.1863 - accuracy: 0.5131 - val_loss: 26.9323 - val_accuracy: 0.4612\n",
            "Epoch 12/100\n",
            "32/32 [==============================] - 1s 46ms/step - loss: 26.8484 - accuracy: 0.5296 - val_loss: 26.5970 - val_accuracy: 0.4658\n",
            "Epoch 13/100\n",
            "32/32 [==============================] - 1s 47ms/step - loss: 26.5124 - accuracy: 0.5488 - val_loss: 26.2658 - val_accuracy: 0.4886\n",
            "Epoch 14/100\n",
            "32/32 [==============================] - 1s 47ms/step - loss: 26.1817 - accuracy: 0.5621 - val_loss: 25.9387 - val_accuracy: 0.5342\n",
            "Epoch 15/100\n",
            "32/32 [==============================] - 2s 48ms/step - loss: 25.8595 - accuracy: 0.5852 - val_loss: 25.6160 - val_accuracy: 0.5479\n",
            "Epoch 16/100\n",
            "32/32 [==============================] - 1s 47ms/step - loss: 25.5364 - accuracy: 0.5899 - val_loss: 25.2971 - val_accuracy: 0.5982\n",
            "Epoch 17/100\n",
            "32/32 [==============================] - 1s 46ms/step - loss: 25.2170 - accuracy: 0.6018 - val_loss: 24.9819 - val_accuracy: 0.6301\n",
            "Epoch 18/100\n",
            "32/32 [==============================] - 2s 48ms/step - loss: 24.9040 - accuracy: 0.6475 - val_loss: 24.6708 - val_accuracy: 0.6438\n",
            "Epoch 19/100\n",
            "32/32 [==============================] - 1s 47ms/step - loss: 24.5953 - accuracy: 0.6656 - val_loss: 24.3634 - val_accuracy: 0.6484\n",
            "Epoch 20/100\n",
            "32/32 [==============================] - 1s 47ms/step - loss: 24.2894 - accuracy: 0.6789 - val_loss: 24.0598 - val_accuracy: 0.6758\n",
            "Epoch 21/100\n",
            "32/32 [==============================] - 1s 47ms/step - loss: 23.9876 - accuracy: 0.6974 - val_loss: 23.7602 - val_accuracy: 0.6849\n",
            "Epoch 22/100\n",
            "32/32 [==============================] - 2s 47ms/step - loss: 23.6885 - accuracy: 0.7470 - val_loss: 23.4643 - val_accuracy: 0.6895\n",
            "Epoch 23/100\n",
            "32/32 [==============================] - 1s 47ms/step - loss: 23.3948 - accuracy: 0.7299 - val_loss: 23.1715 - val_accuracy: 0.7032\n",
            "Epoch 24/100\n",
            "32/32 [==============================] - 2s 48ms/step - loss: 23.1045 - accuracy: 0.7029 - val_loss: 22.8823 - val_accuracy: 0.7306\n",
            "Epoch 25/100\n",
            "32/32 [==============================] - 1s 47ms/step - loss: 22.8170 - accuracy: 0.7706 - val_loss: 22.5967 - val_accuracy: 0.7397\n",
            "Epoch 26/100\n",
            "32/32 [==============================] - 1s 46ms/step - loss: 22.5287 - accuracy: 0.7589 - val_loss: 22.3142 - val_accuracy: 0.7534\n",
            "Epoch 27/100\n",
            "32/32 [==============================] - 1s 46ms/step - loss: 22.2474 - accuracy: 0.7878 - val_loss: 22.0352 - val_accuracy: 0.7626\n",
            "Epoch 28/100\n",
            "32/32 [==============================] - 1s 46ms/step - loss: 21.9673 - accuracy: 0.7940 - val_loss: 21.7594 - val_accuracy: 0.7763\n",
            "Epoch 29/100\n",
            "32/32 [==============================] - 1s 47ms/step - loss: 21.6907 - accuracy: 0.7963 - val_loss: 21.4861 - val_accuracy: 0.7945\n",
            "Epoch 30/100\n",
            "32/32 [==============================] - 2s 47ms/step - loss: 21.4258 - accuracy: 0.7923 - val_loss: 21.2170 - val_accuracy: 0.7945\n",
            "Epoch 31/100\n",
            "32/32 [==============================] - 2s 47ms/step - loss: 21.1561 - accuracy: 0.8012 - val_loss: 20.9505 - val_accuracy: 0.7945\n",
            "Epoch 32/100\n",
            "32/32 [==============================] - 2s 49ms/step - loss: 20.8914 - accuracy: 0.7910 - val_loss: 20.6872 - val_accuracy: 0.7945\n",
            "Epoch 33/100\n",
            "32/32 [==============================] - 1s 47ms/step - loss: 20.6256 - accuracy: 0.8025 - val_loss: 20.4267 - val_accuracy: 0.7991\n",
            "Epoch 34/100\n",
            "32/32 [==============================] - 2s 47ms/step - loss: 20.3696 - accuracy: 0.8071 - val_loss: 20.1689 - val_accuracy: 0.7991\n",
            "Epoch 35/100\n",
            "32/32 [==============================] - 2s 47ms/step - loss: 20.1073 - accuracy: 0.8222 - val_loss: 19.9131 - val_accuracy: 0.8128\n",
            "Epoch 36/100\n",
            "32/32 [==============================] - 2s 48ms/step - loss: 19.8616 - accuracy: 0.8119 - val_loss: 19.6604 - val_accuracy: 0.8174\n",
            "Epoch 37/100\n",
            "32/32 [==============================] - 2s 48ms/step - loss: 19.6021 - accuracy: 0.8150 - val_loss: 19.4100 - val_accuracy: 0.8174\n",
            "Epoch 38/100\n",
            "32/32 [==============================] - 2s 50ms/step - loss: 19.3419 - accuracy: 0.8378 - val_loss: 19.1609 - val_accuracy: 0.8493\n",
            "Epoch 39/100\n",
            "32/32 [==============================] - 2s 48ms/step - loss: 19.1078 - accuracy: 0.8373 - val_loss: 18.9185 - val_accuracy: 0.8174\n",
            "Epoch 40/100\n",
            "32/32 [==============================] - 2s 48ms/step - loss: 18.8526 - accuracy: 0.8556 - val_loss: 18.6736 - val_accuracy: 0.8584\n",
            "Epoch 41/100\n",
            "32/32 [==============================] - 2s 48ms/step - loss: 18.6083 - accuracy: 0.8557 - val_loss: 18.4366 - val_accuracy: 0.8447\n",
            "Epoch 42/100\n",
            "32/32 [==============================] - 2s 47ms/step - loss: 18.3760 - accuracy: 0.8374 - val_loss: 18.1973 - val_accuracy: 0.8676\n",
            "Epoch 43/100\n",
            "32/32 [==============================] - 2s 47ms/step - loss: 18.1467 - accuracy: 0.8475 - val_loss: 17.9656 - val_accuracy: 0.8630\n",
            "Epoch 44/100\n",
            "32/32 [==============================] - 2s 47ms/step - loss: 17.9204 - accuracy: 0.8429 - val_loss: 17.7351 - val_accuracy: 0.8630\n",
            "Epoch 45/100\n",
            "32/32 [==============================] - 2s 47ms/step - loss: 17.6774 - accuracy: 0.8664 - val_loss: 17.5088 - val_accuracy: 0.8630\n",
            "Epoch 46/100\n",
            "32/32 [==============================] - 2s 49ms/step - loss: 17.4530 - accuracy: 0.8516 - val_loss: 17.2813 - val_accuracy: 0.8858\n",
            "Epoch 47/100\n",
            "32/32 [==============================] - 2s 48ms/step - loss: 17.2357 - accuracy: 0.8507 - val_loss: 17.0649 - val_accuracy: 0.8584\n",
            "Epoch 48/100\n",
            "32/32 [==============================] - 2s 49ms/step - loss: 17.0087 - accuracy: 0.8704 - val_loss: 16.8474 - val_accuracy: 0.8630\n",
            "Epoch 49/100\n",
            "32/32 [==============================] - 2s 50ms/step - loss: 16.7998 - accuracy: 0.8505 - val_loss: 16.6285 - val_accuracy: 0.8813\n",
            "Epoch 50/100\n",
            "32/32 [==============================] - 2s 48ms/step - loss: 16.5831 - accuracy: 0.8485 - val_loss: 16.4152 - val_accuracy: 0.8904\n",
            "Epoch 51/100\n",
            "32/32 [==============================] - 2s 48ms/step - loss: 16.3704 - accuracy: 0.8487 - val_loss: 16.2152 - val_accuracy: 0.8630\n",
            "Epoch 52/100\n",
            "32/32 [==============================] - 2s 48ms/step - loss: 16.1674 - accuracy: 0.8595 - val_loss: 15.9998 - val_accuracy: 0.8995\n",
            "Epoch 53/100\n",
            "32/32 [==============================] - 2s 50ms/step - loss: 15.9605 - accuracy: 0.8534 - val_loss: 15.7995 - val_accuracy: 0.8858\n",
            "Epoch 54/100\n",
            "32/32 [==============================] - 2s 48ms/step - loss: 15.7382 - accuracy: 0.8821 - val_loss: 15.5928 - val_accuracy: 0.8995\n",
            "Epoch 55/100\n",
            "32/32 [==============================] - 2s 47ms/step - loss: 15.5514 - accuracy: 0.8771 - val_loss: 15.4016 - val_accuracy: 0.8904\n",
            "Epoch 56/100\n",
            "32/32 [==============================] - 2s 48ms/step - loss: 15.3397 - accuracy: 0.8770 - val_loss: 15.2035 - val_accuracy: 0.8995\n",
            "Epoch 57/100\n",
            "32/32 [==============================] - 2s 47ms/step - loss: 15.1596 - accuracy: 0.8747 - val_loss: 15.0129 - val_accuracy: 0.8995\n",
            "Epoch 58/100\n",
            "32/32 [==============================] - 2s 47ms/step - loss: 14.9748 - accuracy: 0.8535 - val_loss: 14.8214 - val_accuracy: 0.9041\n",
            "Epoch 59/100\n",
            "32/32 [==============================] - 2s 48ms/step - loss: 14.7723 - accuracy: 0.8592 - val_loss: 14.6358 - val_accuracy: 0.9041\n",
            "Epoch 60/100\n",
            "32/32 [==============================] - 2s 48ms/step - loss: 14.6114 - accuracy: 0.8636 - val_loss: 14.4502 - val_accuracy: 0.9041\n",
            "Epoch 61/100\n",
            "32/32 [==============================] - 1s 47ms/step - loss: 14.4252 - accuracy: 0.8594 - val_loss: 14.2705 - val_accuracy: 0.9041\n",
            "Epoch 62/100\n",
            "32/32 [==============================] - 2s 48ms/step - loss: 14.2241 - accuracy: 0.8843 - val_loss: 14.0997 - val_accuracy: 0.8904\n",
            "Epoch 63/100\n",
            "32/32 [==============================] - 2s 47ms/step - loss: 14.0632 - accuracy: 0.8662 - val_loss: 13.9220 - val_accuracy: 0.8950\n",
            "Epoch 64/100\n",
            "32/32 [==============================] - 2s 48ms/step - loss: 13.8986 - accuracy: 0.8691 - val_loss: 13.7386 - val_accuracy: 0.9041\n",
            "Epoch 65/100\n",
            "32/32 [==============================] - 2s 47ms/step - loss: 13.7312 - accuracy: 0.8597 - val_loss: 13.5723 - val_accuracy: 0.9041\n",
            "Epoch 66/100\n",
            "32/32 [==============================] - 2s 49ms/step - loss: 13.5306 - accuracy: 0.8638 - val_loss: 13.4057 - val_accuracy: 0.9041\n",
            "Epoch 67/100\n",
            "32/32 [==============================] - 2s 48ms/step - loss: 13.3527 - accuracy: 0.8730 - val_loss: 13.2385 - val_accuracy: 0.9041\n",
            "Epoch 68/100\n",
            "32/32 [==============================] - 2s 49ms/step - loss: 13.1700 - accuracy: 0.8862 - val_loss: 13.0728 - val_accuracy: 0.9041\n",
            "Epoch 69/100\n",
            "32/32 [==============================] - 2s 48ms/step - loss: 13.0323 - accuracy: 0.8678 - val_loss: 12.9215 - val_accuracy: 0.8858\n",
            "Epoch 70/100\n",
            "32/32 [==============================] - 2s 48ms/step - loss: 12.8828 - accuracy: 0.8566 - val_loss: 12.7546 - val_accuracy: 0.9041\n",
            "Epoch 71/100\n",
            "32/32 [==============================] - 2s 48ms/step - loss: 12.6968 - accuracy: 0.8852 - val_loss: 12.5924 - val_accuracy: 0.9087\n",
            "Epoch 72/100\n",
            "32/32 [==============================] - 2s 47ms/step - loss: 12.5652 - accuracy: 0.8691 - val_loss: 12.4427 - val_accuracy: 0.8995\n",
            "Epoch 73/100\n",
            "32/32 [==============================] - 2s 47ms/step - loss: 12.3843 - accuracy: 0.8889 - val_loss: 12.2822 - val_accuracy: 0.9087\n",
            "Epoch 74/100\n",
            "32/32 [==============================] - 2s 48ms/step - loss: 12.2495 - accuracy: 0.8729 - val_loss: 12.1393 - val_accuracy: 0.8995\n",
            "Epoch 75/100\n",
            "32/32 [==============================] - 2s 48ms/step - loss: 12.0746 - accuracy: 0.8999 - val_loss: 11.9851 - val_accuracy: 0.9041\n",
            "Epoch 76/100\n",
            "32/32 [==============================] - 1s 46ms/step - loss: 11.9488 - accuracy: 0.8661 - val_loss: 11.8377 - val_accuracy: 0.9041\n",
            "Epoch 77/100\n",
            "32/32 [==============================] - 2s 48ms/step - loss: 11.8067 - accuracy: 0.8681 - val_loss: 11.6892 - val_accuracy: 0.9087\n",
            "Epoch 78/100\n",
            "32/32 [==============================] - 2s 48ms/step - loss: 11.6575 - accuracy: 0.8746 - val_loss: 11.5399 - val_accuracy: 0.9178\n",
            "Epoch 79/100\n",
            "32/32 [==============================] - 2s 48ms/step - loss: 11.5025 - accuracy: 0.8760 - val_loss: 11.4024 - val_accuracy: 0.9087\n",
            "Epoch 80/100\n",
            "32/32 [==============================] - 2s 48ms/step - loss: 11.3654 - accuracy: 0.8818 - val_loss: 11.2609 - val_accuracy: 0.9087\n",
            "Epoch 81/100\n",
            "32/32 [==============================] - 2s 48ms/step - loss: 11.2371 - accuracy: 0.8546 - val_loss: 11.1208 - val_accuracy: 0.9132\n",
            "Epoch 82/100\n",
            "32/32 [==============================] - 2s 47ms/step - loss: 11.0703 - accuracy: 0.9018 - val_loss: 10.9829 - val_accuracy: 0.9178\n",
            "Epoch 83/100\n",
            "32/32 [==============================] - 2s 48ms/step - loss: 10.9472 - accuracy: 0.8835 - val_loss: 10.8531 - val_accuracy: 0.9087\n",
            "Epoch 84/100\n",
            "32/32 [==============================] - 2s 47ms/step - loss: 10.8254 - accuracy: 0.8789 - val_loss: 10.7195 - val_accuracy: 0.9087\n",
            "Epoch 85/100\n",
            "32/32 [==============================] - 2s 48ms/step - loss: 10.6763 - accuracy: 0.8827 - val_loss: 10.5901 - val_accuracy: 0.9087\n",
            "Epoch 86/100\n",
            "32/32 [==============================] - 2s 48ms/step - loss: 10.5719 - accuracy: 0.8643 - val_loss: 10.4778 - val_accuracy: 0.8813\n",
            "Epoch 87/100\n",
            "32/32 [==============================] - 2s 48ms/step - loss: 10.4425 - accuracy: 0.8594 - val_loss: 10.3286 - val_accuracy: 0.9132\n",
            "Epoch 88/100\n",
            "32/32 [==============================] - 2s 48ms/step - loss: 10.2925 - accuracy: 0.8976 - val_loss: 10.2059 - val_accuracy: 0.9087\n",
            "Epoch 89/100\n",
            "32/32 [==============================] - 2s 48ms/step - loss: 10.1678 - accuracy: 0.8832 - val_loss: 10.0830 - val_accuracy: 0.9041\n",
            "Epoch 90/100\n",
            "32/32 [==============================] - 2s 49ms/step - loss: 10.0587 - accuracy: 0.8796 - val_loss: 9.9518 - val_accuracy: 0.9178\n",
            "Epoch 91/100\n",
            "32/32 [==============================] - 2s 47ms/step - loss: 9.9232 - accuracy: 0.8796 - val_loss: 9.8303 - val_accuracy: 0.9178\n",
            "Epoch 92/100\n",
            "32/32 [==============================] - 2s 47ms/step - loss: 9.8102 - accuracy: 0.8786 - val_loss: 9.7122 - val_accuracy: 0.9178\n",
            "Epoch 93/100\n",
            "32/32 [==============================] - 2s 47ms/step - loss: 9.6865 - accuracy: 0.8750 - val_loss: 9.5952 - val_accuracy: 0.9132\n",
            "Epoch 94/100\n",
            "32/32 [==============================] - 2s 48ms/step - loss: 9.5685 - accuracy: 0.8851 - val_loss: 9.4841 - val_accuracy: 0.9041\n",
            "Epoch 95/100\n",
            "32/32 [==============================] - 2s 48ms/step - loss: 9.4439 - accuracy: 0.8794 - val_loss: 9.3617 - val_accuracy: 0.9178\n",
            "Epoch 96/100\n",
            "32/32 [==============================] - 2s 48ms/step - loss: 9.3322 - accuracy: 0.8652 - val_loss: 9.2461 - val_accuracy: 0.9178\n",
            "Epoch 97/100\n",
            "32/32 [==============================] - 2s 49ms/step - loss: 9.2347 - accuracy: 0.8780 - val_loss: 9.1420 - val_accuracy: 0.9087\n",
            "Epoch 98/100\n",
            "32/32 [==============================] - 2s 48ms/step - loss: 9.0840 - accuracy: 0.8937 - val_loss: 9.0214 - val_accuracy: 0.9178\n",
            "Epoch 99/100\n",
            "32/32 [==============================] - 2s 49ms/step - loss: 8.9987 - accuracy: 0.8854 - val_loss: 8.9159 - val_accuracy: 0.9132\n",
            "Epoch 100/100\n",
            "32/32 [==============================] - 2s 49ms/step - loss: 8.8976 - accuracy: 0.8742 - val_loss: 8.8178 - val_accuracy: 0.9041\n"
          ],
          "name": "stdout"
        }
      ]
    },
    {
      "cell_type": "code",
      "metadata": {
        "colab": {
          "base_uri": "https://localhost:8080/",
          "height": 295
        },
        "id": "94Q2fX-kZv1N",
        "outputId": "88dffb63-616a-4bb7-e571-35987c3ea4b3"
      },
      "source": [
        "plt.plot(history.history['loss'], color = 'blue', label = 'train')\n",
        "plt.plot(history.history['val_loss'], color = 'orange', label = 'validation')\n",
        "plt.xlabel('Epochs')\n",
        "plt.ylabel('Loss')\n",
        "plt.title('Model Loss')\n",
        "plt.show()"
      ],
      "execution_count": 17,
      "outputs": [
        {
          "output_type": "display_data",
          "data": {
            "image/png": "[encoded data removed]",
            "text/plain": [
              "<Figure size 432x288 with 1 Axes>"
            ]
          },
          "metadata": {
            "tags": [],
            "needs_background": "light"
          }
        }
      ]
    },
    {
      "cell_type": "code",
      "metadata": {
        "colab": {
          "base_uri": "https://localhost:8080/",
          "height": 295
        },
        "id": "fZiGNdkra1wl",
        "outputId": "4e6d4d1c-1cd7-4efa-ab13-3ae3367804d5"
      },
      "source": [
        "plt.plot(history.history['accuracy'], color = 'blue', label = 'train')\n",
        "plt.plot(history.history['val_accuracy'], color = 'orange', label = 'valiation')\n",
        "plt.xlabel('Epochs')\n",
        "plt.ylabel('Loss')\n",
        "plt.title('Model Loss')\n",
        "plt.show()"
      ],
      "execution_count": 18,
      "outputs": [
        {
          "output_type": "display_data",
          "data": {
            "image/png": "[encoded data removed]",
            "text/plain": [
              "<Figure size 432x288 with 1 Axes>"
            ]
          },
          "metadata": {
            "tags": [],
            "needs_background": "light"
          }
        }
      ]
    }
  ]
}