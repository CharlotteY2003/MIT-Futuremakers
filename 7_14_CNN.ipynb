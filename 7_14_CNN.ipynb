{
  "nbformat": 4,
  "nbformat_minor": 0,
  "metadata": {
    "colab": {
      "name": "7/14 CNN.ipynb",
      "provenance": [],
      "authorship_tag": "ABX9TyNJ24uFRtAPJBzhTOjhzYXu",
      "include_colab_link": true
    },
    "kernelspec": {
      "name": "python3",
      "display_name": "Python 3"
    },
    "language_info": {
      "name": "python"
    }
  },
  "cells": [
    {
      "cell_type": "markdown",
      "metadata": {
        "id": "view-in-github",
        "colab_type": "text"
      },
      "source": [
        "<a href=\"https://colab.research.google.com/github/CharlotteY2003/MIT-Futuremakers/blob/main/7_14_CNN.ipynb\" target=\"_parent\"><img src=\"https://colab.research.google.com/assets/colab-badge.svg\" alt=\"Open In Colab\"/></a>"
      ]
    },
    {
      "cell_type": "code",
      "metadata": {
        "id": "PwlOs2-6LSmo"
      },
      "source": [
        "import numpy as np\n",
        "import pandas as pd\n",
        "import seaborn as sns\n",
        "import matplotlib.pyplot as plt\n",
        "import os\n",
        "from sklearn.preprocessing import OneHotEncoder\n",
        "from sklearn.model_selection import train_test_split\n",
        "from keras.models import Sequential\n",
        "from keras.layers import *\n",
        "from sklearn.metrics import confusion_matrix\n",
        "from keras.optimizers import RMSprop, Adam\n",
        "from keras.preprocessing.image import ImageDataGenerator\n",
        "from keras.utils.np_utils import to_categorical\n",
        "import gzip"
      ],
      "execution_count": 1,
      "outputs": []
    },
    {
      "cell_type": "code",
      "metadata": {
        "id": "XvzYCi4rLnHo"
      },
      "source": [
        "train = pd.read_csv('train.csv')\n",
        "test = pd.read_csv('test.csv')"
      ],
      "execution_count": 2,
      "outputs": []
    },
    {
      "cell_type": "code",
      "metadata": {
        "id": "pyeqkOM2YAWs",
        "colab": {
          "base_uri": "https://localhost:8080/"
        },
        "outputId": "f4c4dcde-385e-44c5-8685-b4ea4d287830"
      },
      "source": [
        "y_train = train['label']\n",
        "X_train = train.drop(labels=['label'], axis=1)\n",
        "X_train.shape"
      ],
      "execution_count": 3,
      "outputs": [
        {
          "output_type": "execute_result",
          "data": {
            "text/plain": [
              "(42000, 784)"
            ]
          },
          "metadata": {
            "tags": []
          },
          "execution_count": 3
        }
      ]
    },
    {
      "cell_type": "code",
      "metadata": {
        "colab": {
          "base_uri": "https://localhost:8080/",
          "height": 704
        },
        "id": "P8ONXMIDPUG9",
        "outputId": "af9ea7ca-b61f-4563-df71-14f25f640a03"
      },
      "source": [
        "plt.figure(figsize = (15,7))\n",
        "g = sns.countplot(y_train, palette='icefire')\n",
        "plt.title(\"Number of digit classes\")\n",
        "y_train.value_counts()"
      ],
      "execution_count": 4,
      "outputs": [
        {
          "output_type": "stream",
          "text": [
            "/usr/local/lib/python3.7/dist-packages/seaborn/_decorators.py:43: FutureWarning: Pass the following variable as a keyword arg: x. From version 0.12, the only valid positional argument will be `data`, and passing other arguments without an explicit keyword will result in an error or misinterpretation.\n",
            "  FutureWarning\n"
          ],
          "name": "stderr"
        },
        {
          "output_type": "execute_result",
          "data": {
            "text/plain": [
              "1    4684\n",
              "7    4401\n",
              "3    4351\n",
              "9    4188\n",
              "2    4177\n",
              "6    4137\n",
              "0    4132\n",
              "4    4072\n",
              "8    4063\n",
              "5    3795\n",
              "Name: label, dtype: int64"
            ]
          },
          "metadata": {
            "tags": []
          },
          "execution_count": 4
        },
        {
          "output_type": "display_data",
          "data": {
            "image/png": "[encoded data removed]",
            "text/plain": [
              "<Figure size 1080x504 with 1 Axes>"
            ]
          },
          "metadata": {
            "tags": [],
            "needs_background": "light"
          }
        }
      ]
    },
    {
      "cell_type": "code",
      "metadata": {
        "colab": {
          "base_uri": "https://localhost:8080/",
          "height": 264
        },
        "id": "RwKEiGZ6PwJG",
        "outputId": "fae2223e-bdf8-4ced-8a40-c0c4b5925a4c"
      },
      "source": [
        "img = X_train.iloc[0].values\n",
        "img = img.reshape(28,28)\n",
        "plt.imshow(img, cmap = 'gray')\n",
        "plt.title(train.iloc[0,0])\n",
        "plt.axis('off')\n",
        "plt.show()"
      ],
      "execution_count": 5,
      "outputs": [
        {
          "output_type": "display_data",
          "data": {
            "image/png": "[encoded data removed]",
            "text/plain": [
              "<Figure size 432x288 with 1 Axes>"
            ]
          },
          "metadata": {
            "tags": [],
            "needs_background": "light"
          }
        }
      ]
    },
    {
      "cell_type": "code",
      "metadata": {
        "colab": {
          "base_uri": "https://localhost:8080/"
        },
        "id": "N4gUfNB6Q7Eq",
        "outputId": "bab7524e-855f-4c92-dda8-2aa350ee59d0"
      },
      "source": [
        "X_train = X_train/255.0\n",
        "test = test/255.0\n",
        "print(X_train.shape)\n",
        "print(test.shape)"
      ],
      "execution_count": 6,
      "outputs": [
        {
          "output_type": "stream",
          "text": [
            "(42000, 784)\n",
            "(28000, 784)\n"
          ],
          "name": "stdout"
        }
      ]
    },
    {
      "cell_type": "code",
      "metadata": {
        "colab": {
          "base_uri": "https://localhost:8080/"
        },
        "id": "N54EsjwmRmh4",
        "outputId": "b9111358-5ff4-4d0e-d210-ada7e82e6d11"
      },
      "source": [
        "X_train = X_train.values.reshape(-1,28,28,1)\n",
        "test = test.values.reshape(-1,28,28,1)\n",
        "print(\"x_train shape: \",X_train.shape)\n",
        "print(\"test shape: \",test.shape)"
      ],
      "execution_count": 7,
      "outputs": [
        {
          "output_type": "stream",
          "text": [
            "x_train shape:  (42000, 28, 28, 1)\n",
            "test shape:  (28000, 28, 28, 1)\n"
          ],
          "name": "stdout"
        }
      ]
    },
    {
      "cell_type": "code",
      "metadata": {
        "id": "N4r5MFDVYoDD"
      },
      "source": [
        "#y_train = y_train.values.reshape(-1,1)\n",
        "#print(y_train.shape)"
      ],
      "execution_count": 8,
      "outputs": []
    },
    {
      "cell_type": "code",
      "metadata": {
        "id": "1K6cr8PiR7GN"
      },
      "source": [
        "#enc = OneHotEncoder()\n",
        "#y_train = enc.fit_transform(y_train).toarray()\n",
        "y_train = to_categorical(y_train, num_classes=10)"
      ],
      "execution_count": 9,
      "outputs": []
    },
    {
      "cell_type": "code",
      "metadata": {
        "id": "8C8X64IqXN8W",
        "colab": {
          "base_uri": "https://localhost:8080/"
        },
        "outputId": "08c25a1b-6c77-4c0a-92c7-f466bcbdc762"
      },
      "source": [
        "X_train, X_val, y_train, y_val = train_test_split(X_train, y_train, test_size = .1, random_state = 2)\n",
        "print(X_train.shape)\n",
        "print(X_val.shape)\n",
        "print(y_train.shape)\n",
        "print(y_val.shape)"
      ],
      "execution_count": 10,
      "outputs": [
        {
          "output_type": "stream",
          "text": [
            "(37800, 28, 28, 1)\n",
            "(4200, 28, 28, 1)\n",
            "(37800, 10)\n",
            "(4200, 10)\n"
          ],
          "name": "stdout"
        }
      ]
    },
    {
      "cell_type": "code",
      "metadata": {
        "id": "be4anWIlZc_u"
      },
      "source": [
        "model = Sequential()\n",
        "model.add(Conv2D(filters=8, kernel_size = (5,5), padding = 'Same', activation = 'relu', input_shape=(28,28,1)))\n",
        "model.add(MaxPool2D(pool_size = (2,2)))\n",
        "model.add(Dropout(.25))\n",
        "model.add(Conv2D(filters=16, kernel_size = (3,3), activation = 'relu', padding = 'Same'))\n",
        "model.add(MaxPool2D(pool_size = (2,2), strides=(2,2)))\n",
        "model.add(Dropout(.25))\n",
        "model.add(Flatten())\n",
        "model.add(Dense(256, activation='relu'))\n",
        "model.add(Dropout(.5))\n",
        "model.add(Dense(10, activation='softmax'))"
      ],
      "execution_count": 11,
      "outputs": []
    },
    {
      "cell_type": "code",
      "metadata": {
        "colab": {
          "base_uri": "https://localhost:8080/"
        },
        "id": "oM9IcpFaeoYy",
        "outputId": "e75de564-e60e-48d8-a9ad-91146f17f0a4"
      },
      "source": [
        "optimizer = Adam(lr=.001, beta_1 = .9, beta_2 = .999)"
      ],
      "execution_count": 12,
      "outputs": [
        {
          "output_type": "stream",
          "text": [
            "/usr/local/lib/python3.7/dist-packages/tensorflow/python/keras/optimizer_v2/optimizer_v2.py:375: UserWarning: The `lr` argument is deprecated, use `learning_rate` instead.\n",
            "  \"The `lr` argument is deprecated, use `learning_rate` instead.\")\n"
          ],
          "name": "stderr"
        }
      ]
    },
    {
      "cell_type": "code",
      "metadata": {
        "id": "630UIkaBezk3"
      },
      "source": [
        "model.compile(loss = 'categorical_crossentropy', optimizer = optimizer, metrics = ['accuracy'])"
      ],
      "execution_count": 13,
      "outputs": []
    },
    {
      "cell_type": "code",
      "metadata": {
        "id": "2mkCzo5nfFHY"
      },
      "source": [
        "epochs = 10\n",
        "batch_size = 250"
      ],
      "execution_count": 14,
      "outputs": []
    },
    {
      "cell_type": "code",
      "metadata": {
        "id": "tr_lFmzLkJZz"
      },
      "source": [
        "#Data Augumentation = artifically expand X_train by rotating image\n",
        "datagen = ImageDataGenerator(rotation_range = 5, zoom_range = .1, width_shift_range = .1, height_shift_range = .1)\n",
        "datagen.fit(X_train)"
      ],
      "execution_count": 15,
      "outputs": []
    },
    {
      "cell_type": "code",
      "metadata": {
        "colab": {
          "base_uri": "https://localhost:8080/"
        },
        "id": "qxcY5-E2koyZ",
        "outputId": "ee753409-d722-4856-be5c-d7c5da11aa08"
      },
      "source": [
        "history = model.fit_generator(datagen.flow(X_train, y_train, batch_size = batch_size), epochs = epochs,\n",
        "                              validation_data = (X_val, y_val), steps_per_epoch = X_train.shape[0] // batch_size)"
      ],
      "execution_count": 16,
      "outputs": [
        {
          "output_type": "stream",
          "text": [
            "/usr/local/lib/python3.7/dist-packages/keras/engine/training.py:1915: UserWarning: `Model.fit_generator` is deprecated and will be removed in a future version. Please use `Model.fit`, which supports generators.\n",
            "  warnings.warn('`Model.fit_generator` is deprecated and '\n"
          ],
          "name": "stderr"
        },
        {
          "output_type": "stream",
          "text": [
            "Epoch 1/10\n",
            "151/151 [==============================] - 45s 188ms/step - loss: 1.5316 - accuracy: 0.4791 - val_loss: 0.2133 - val_accuracy: 0.9448\n",
            "Epoch 2/10\n",
            "151/151 [==============================] - 28s 185ms/step - loss: 0.4790 - accuracy: 0.8492 - val_loss: 0.1429 - val_accuracy: 0.9583\n",
            "Epoch 3/10\n",
            "151/151 [==============================] - 28s 182ms/step - loss: 0.3288 - accuracy: 0.8977 - val_loss: 0.1147 - val_accuracy: 0.9664\n",
            "Epoch 4/10\n",
            "151/151 [==============================] - 27s 181ms/step - loss: 0.2806 - accuracy: 0.9123 - val_loss: 0.0939 - val_accuracy: 0.9733\n",
            "Epoch 5/10\n",
            "151/151 [==============================] - 27s 180ms/step - loss: 0.2438 - accuracy: 0.9254 - val_loss: 0.0890 - val_accuracy: 0.9731\n",
            "Epoch 6/10\n",
            "151/151 [==============================] - 27s 179ms/step - loss: 0.2316 - accuracy: 0.9309 - val_loss: 0.0764 - val_accuracy: 0.9748\n",
            "Epoch 7/10\n",
            "151/151 [==============================] - 27s 180ms/step - loss: 0.2118 - accuracy: 0.9347 - val_loss: 0.0705 - val_accuracy: 0.9769\n",
            "Epoch 8/10\n",
            "151/151 [==============================] - 27s 178ms/step - loss: 0.1925 - accuracy: 0.9401 - val_loss: 0.0627 - val_accuracy: 0.9810\n",
            "Epoch 9/10\n",
            "151/151 [==============================] - 28s 186ms/step - loss: 0.1757 - accuracy: 0.9444 - val_loss: 0.0598 - val_accuracy: 0.9817\n",
            "Epoch 10/10\n",
            "151/151 [==============================] - 28s 183ms/step - loss: 0.1803 - accuracy: 0.9444 - val_loss: 0.0573 - val_accuracy: 0.9829\n"
          ],
          "name": "stdout"
        }
      ]
    },
    {
      "cell_type": "code",
      "metadata": {
        "colab": {
          "base_uri": "https://localhost:8080/",
          "height": 295
        },
        "id": "oNVI3K__nl3P",
        "outputId": "bf0f7f7c-8448-4289-af3c-7bf2e43d18d0"
      },
      "source": [
        "plt.plot(history.history['val_loss'], color = 'b', label = 'Val Loss' )\n",
        "plt.title('Value Loss over Epochs')\n",
        "plt.xlabel(\"Epochs\")\n",
        "plt.ylabel(\"Value Loss\")\n",
        "plt.legend()\n",
        "plt.show()"
      ],
      "execution_count": 17,
      "outputs": [
        {
          "output_type": "display_data",
          "data": {
            "image/png": "[encoded data removed]",
            "text/plain": [
              "<Figure size 432x288 with 1 Axes>"
            ]
          },
          "metadata": {
            "tags": [],
            "needs_background": "light"
          }
        }
      ]
    },
    {
      "cell_type": "code",
      "metadata": {
        "colab": {
          "base_uri": "https://localhost:8080/",
          "height": 513
        },
        "id": "Sn5Uo0igohQb",
        "outputId": "4192072e-133d-45b6-cf6e-fb19d88724a5"
      },
      "source": [
        "y_pred = model.predict(X_val)\n",
        "y_pred_classes = np.argmax(y_pred, axis=1)\n",
        "\n",
        "\n",
        "y_true = np.argmax(y_val, axis=1)\n",
        "\n",
        "con_matrix = confusion_matrix(y_true, y_pred_classes)\n",
        "f, ax = plt.subplots(figsize=(8,8))\n",
        "sns.heatmap(con_matrix, annot=True, linewidths=.01, cmap = \"Greens\", linecolor = 'gray', fmt = '.1f', ax=ax)\n",
        "plt.xlabel(\"Predicted label\")\n",
        "plt.ylabel(\"True label\")\n",
        "plt.title(\"Confusion Matrix\")\n",
        "plt.show()\n"
      ],
      "execution_count": 18,
      "outputs": [
        {
          "output_type": "display_data",
          "data": {
            "image/png": "[encoded data removed]",
            "text/plain": [
              "<Figure size 576x576 with 2 Axes>"
            ]
          },
          "metadata": {
            "tags": [],
            "needs_background": "light"
          }
        }
      ]
    }
  ]
}