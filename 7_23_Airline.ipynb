{
  "nbformat": 4,
  "nbformat_minor": 0,
  "metadata": {
    "colab": {
      "name": "7_23-Airline.ipynb",
      "provenance": [],
      "authorship_tag": "ABX9TyMKRrR3aQ8PbPj0Vsf98QYE",
      "include_colab_link": true
    },
    "kernelspec": {
      "name": "python3",
      "display_name": "Python 3"
    },
    "language_info": {
      "name": "python"
    }
  },
  "cells": [
    {
      "cell_type": "markdown",
      "metadata": {
        "id": "view-in-github",
        "colab_type": "text"
      },
      "source": [
        "<a href=\"https://colab.research.google.com/github/CharlotteY2003/MIT-Futuremakers/blob/main/7_23_Airline.ipynb\" target=\"_parent\"><img src=\"https://colab.research.google.com/assets/colab-badge.svg\" alt=\"Open In Colab\"/></a>"
      ]
    },
    {
      "cell_type": "code",
      "metadata": {
        "colab": {
          "base_uri": "https://localhost:8080/"
        },
        "id": "BYoHJQttrSEj",
        "outputId": "727c3c61-9063-4f46-e556-1d3a11f80fdb"
      },
      "source": [
        "import matplotlib.pyplot as plt\n",
        "import pandas as pd\n",
        "import numpy as np\n",
        "from keras.layers import *\n",
        "from keras.models import Sequential\n",
        "import re\n",
        "import collections\n",
        "from pathlib import Path\n",
        "from sklearn.model_selection import train_test_split\n",
        "from nltk.corpus import stopwords\n",
        "from keras.preprocessing.text import Tokenizer\n",
        "from keras.utils.np_utils import to_categorical\n",
        "from sklearn.preprocessing import LabelEncoder\n",
        "from tensorflow.keras import regularizers\n",
        "from keras.optimizers import RMSprop\n",
        "import nltk\n",
        "nltk.download('stopwords')"
      ],
      "execution_count": 30,
      "outputs": [
        {
          "output_type": "stream",
          "text": [
            "[nltk_data] Downloading package stopwords to /root/nltk_data...\n",
            "[nltk_data]   Package stopwords is already up-to-date!\n"
          ],
          "name": "stdout"
        },
        {
          "output_type": "execute_result",
          "data": {
            "text/plain": [
              "True"
            ]
          },
          "metadata": {
            "tags": []
          },
          "execution_count": 30
        }
      ]
    },
    {
      "cell_type": "markdown",
      "metadata": {
        "id": "5bwwGjAbhlFG"
      },
      "source": [
        "#Helper functions"
      ]
    },
    {
      "cell_type": "code",
      "metadata": {
        "id": "0o0O3r5Lrj83"
      },
      "source": [
        "NB_WORDS = 1000 #num words we'll put in dictionary\n",
        "NB_START_EPOCHS = 20 #num epochs for training\n",
        "BATCH_SIZE = 512\n",
        "MAX_LEN = 20 #Max num words in sequence"
      ],
      "execution_count": 2,
      "outputs": []
    },
    {
      "cell_type": "code",
      "metadata": {
        "id": "ggxEjMKyKw7e"
      },
      "source": [
        "def deep_model(model, X_train, y_train, X_val, y_val):\n",
        "  model.compile(optimizer='rmsprop', loss='categorical_crossentropy', metrics=['accuracy'])\n",
        "  history = model.fit(X_train, y_train, validation_data=(X_val,y_val), batch_size=BATCH_SIZE, epochs=NB_START_EPOCHS, \n",
        "                      verbose=0)\n",
        "  return history"
      ],
      "execution_count": 3,
      "outputs": []
    },
    {
      "cell_type": "code",
      "metadata": {
        "id": "dj_Z0RHXLXYa"
      },
      "source": [
        "def eval_metric(model, history, metric_name):\n",
        "  metric = history.history[metric_name]\n",
        "  val_metric = history.history['val_' + metric_name]\n",
        "\n",
        "  e = range(1,NB_START_EPOCHS+1)\n",
        "\n",
        "  plt.plot(e, metric, 'bo', label='train ' + metric_name)\n",
        "  plt.plot(e, val_metric, 'b', label='val ' + metric_name)\n",
        "  plt.xlabel('Epochs')\n",
        "  plt.ylabel(metric_name)\n",
        "  plt.legend()\n",
        "  plt.show()\n"
      ],
      "execution_count": 4,
      "outputs": []
    },
    {
      "cell_type": "code",
      "metadata": {
        "id": "EmK0H3DdMVAb"
      },
      "source": [
        "def test_model(model, X_train, y_train, X_test, y_test, epoch_stop):\n",
        "  model.fit(X_train, y_train, batch_size=BATCH_SIZE, epochs=epoch_stop, \n",
        "                      verbose=0)\n",
        "  results = model.evaluate(X_test, y_test)\n",
        "  print()\n",
        "  print('Test accuracy: ' + str(results[1]))\n",
        "  return results"
      ],
      "execution_count": 5,
      "outputs": []
    },
    {
      "cell_type": "code",
      "metadata": {
        "id": "yFKHFFd-M5ix"
      },
      "source": [
        "def remove_stopwords(input_text):\n",
        "  clean_words = []\n",
        "  stopwords_list = stopwords.words('english')\n",
        "  whitelist = [\"n't\", \"not\", \"no\"] #stopwords that may indicate semantic meaning\n",
        "  words = input_text.split()\n",
        "  for word in words:\n",
        "    if (word not in stopwords_list or word in whitelist) and len(word) > 1:\n",
        "      clean_words.append(word)\n",
        "  return \" \".join(clean_words)"
      ],
      "execution_count": 6,
      "outputs": []
    },
    {
      "cell_type": "code",
      "metadata": {
        "id": "6cQxtBOsN15i"
      },
      "source": [
        "def remove_mentions(input_text):\n",
        "  return re.sub(r'@\\w+', '', input_text)"
      ],
      "execution_count": 7,
      "outputs": []
    },
    {
      "cell_type": "code",
      "metadata": {
        "id": "qttrRIDLOFLb"
      },
      "source": [
        "def compare_models_by_metric(model_1, model_2, model_hist1, model_hist2, metric):\n",
        "  metric_model1 = model_hist1.history[metric]\n",
        "  metric_model2 = model_hist2.history[metric]\n",
        "\n",
        "  e = range(1, NB_START_EPOCHS+1)\n",
        "\n",
        "  metrics_dict = {\n",
        "      'acc': 'Training Accuracy',\n",
        "      'loss': 'Training Loss',\n",
        "      'val_acc': 'Validation Accuracy',\n",
        "      'val_loss': 'Validation Loss'\n",
        "  }\n",
        "\n",
        "  metric_label = metrics_dict[metric]\n",
        "\n",
        "  plt.plot(e, metric_model1, 'bo', label=model_1.name)\n",
        "  plt.plot(e, metric_model2, 'b', label=model_2.name)\n",
        "  plt.xlabel('Epochs')\n",
        "  plt.ylabel(metric)\n",
        "  plt.legend()\n",
        "  plt.show"
      ],
      "execution_count": 8,
      "outputs": []
    },
    {
      "cell_type": "code",
      "metadata": {
        "id": "2rvpnQz5Pm9S"
      },
      "source": [
        "def optimal_epoch(model_hist):\n",
        "  min_epoch = np.argmin(model_hist.history['val_loss']) + 1\n",
        "  print('Minimum validation loss reached at ' + str(min_epoch))\n",
        "  return min_epoch"
      ],
      "execution_count": 9,
      "outputs": []
    },
    {
      "cell_type": "markdown",
      "metadata": {
        "id": "r1f8znJXhq3q"
      },
      "source": [
        "#Data preprocessing"
      ]
    },
    {
      "cell_type": "code",
      "metadata": {
        "id": "wTUCvGdTslwo"
      },
      "source": [
        "data = pd.read_csv('Tweets.csv')"
      ],
      "execution_count": 10,
      "outputs": []
    },
    {
      "cell_type": "code",
      "metadata": {
        "id": "cpRRpzR8tL97"
      },
      "source": [
        "data = data.reindex(np.random.permutation(data.index))\n",
        "data = data[['text', 'airline_sentiment']]\n",
        "data.text = data.text.apply(remove_stopwords).apply(remove_mentions)"
      ],
      "execution_count": 11,
      "outputs": []
    },
    {
      "cell_type": "code",
      "metadata": {
        "id": "JtaV2RAetwAN"
      },
      "source": [
        "X_train, X_test, y_train, y_test = train_test_split(data.text, data.airline_sentiment, test_size = .1, random_state = 37)"
      ],
      "execution_count": 12,
      "outputs": []
    },
    {
      "cell_type": "code",
      "metadata": {
        "id": "gLqU7vDCuEsB"
      },
      "source": [
        "tk = Tokenizer(num_words=NB_WORDS, filters = '!\"#$%&()*+,-./:;<=>?@[\\\\]^_`{\"}~\\t\\n',\n",
        "               lower=True, char_level=False, split = ' ')\n",
        "tk.fit_on_texts(X_train)"
      ],
      "execution_count": 13,
      "outputs": []
    },
    {
      "cell_type": "code",
      "metadata": {
        "id": "YgccluEFwG9_"
      },
      "source": [
        "X_train_oh = tk.texts_to_matrix(X_train, mode='binary')\n",
        "X_test_oh = tk.texts_to_matrix(X_test, mode='binary')"
      ],
      "execution_count": 14,
      "outputs": []
    },
    {
      "cell_type": "code",
      "metadata": {
        "id": "geHVd-ogHszG"
      },
      "source": [
        "le = LabelEncoder()\n",
        "y_train_le = le.fit_transform(y_train)\n",
        "y_test_le = le.fit_transform(y_test)\n",
        "y_train_oh = to_categorical(y_train_le)\n",
        "y_test_oh = to_categorical(y_test_le)"
      ],
      "execution_count": 15,
      "outputs": []
    },
    {
      "cell_type": "code",
      "metadata": {
        "id": "_2MtZ930IBSC"
      },
      "source": [
        "X_train_rest, X_val, y_train_rest, y_val = train_test_split(X_train_oh, y_train_oh, test_size=.1, random_state=37)"
      ],
      "execution_count": 16,
      "outputs": []
    },
    {
      "cell_type": "markdown",
      "metadata": {
        "id": "ExZTFOFaT49R"
      },
      "source": [
        "#Base Model\n",
        "\n"
      ]
    },
    {
      "cell_type": "code",
      "metadata": {
        "id": "RU4ZcWRYIbPy"
      },
      "source": [
        "base_model = Sequential()\n",
        "base_model.add(Dense(64, activation='relu', input_shape=(NB_WORDS,), name = \"Baseline_model\"))\n",
        "base_model.add(Dense(64, activation='relu'))\n",
        "base_model.add(Dense(3, activation='softmax'))"
      ],
      "execution_count": 17,
      "outputs": []
    },
    {
      "cell_type": "code",
      "metadata": {
        "colab": {
          "base_uri": "https://localhost:8080/",
          "height": 298
        },
        "id": "0V58d1FIJQFQ",
        "outputId": "3a6e8269-0213-4229-e636-68482cee0811"
      },
      "source": [
        "base_history = deep_model(base_model, X_train_rest, y_train_rest, X_val, y_val)\n",
        "base_min = optimal_epoch(base_history)\n",
        "eval_metric(base_model, base_history, 'loss')"
      ],
      "execution_count": 18,
      "outputs": [
        {
          "output_type": "stream",
          "text": [
            "Minimum validation loss reached at 5\n"
          ],
          "name": "stdout"
        },
        {
          "output_type": "display_data",
          "data": {
            "image/png": "[encoded data removed]",
            "text/plain": [
              "<Figure size 432x288 with 1 Axes>"
            ]
          },
          "metadata": {
            "tags": [],
            "needs_background": "light"
          }
        }
      ]
    },
    {
      "cell_type": "markdown",
      "metadata": {
        "id": "26lgdwqDT_O8"
      },
      "source": [
        "#Reduced Model"
      ]
    },
    {
      "cell_type": "code",
      "metadata": {
        "id": "ASis1uf_TG0K"
      },
      "source": [
        "reduced_model = Sequential()\n",
        "reduced_model.add(Dense(16, activation='relu', input_shape=(NB_WORDS,), name = \"Reduced_model\"))\n",
        "reduced_model.add(Dense(3, activation='softmax'))"
      ],
      "execution_count": 19,
      "outputs": []
    },
    {
      "cell_type": "code",
      "metadata": {
        "colab": {
          "base_uri": "https://localhost:8080/",
          "height": 296
        },
        "id": "CHR2NNOETdD8",
        "outputId": "ee26f066-3298-4b23-db31-f8b06c0deb19"
      },
      "source": [
        "reduced_history = deep_model(reduced_model, X_train_rest, y_train_rest, X_val, y_val)\n",
        "reduced_min = optimal_epoch(reduced_history)\n",
        "eval_metric(reduced_model,reduced_history,'loss')"
      ],
      "execution_count": 20,
      "outputs": [
        {
          "output_type": "stream",
          "text": [
            "Minimum validation loss reached at 13\n"
          ],
          "name": "stdout"
        },
        {
          "output_type": "display_data",
          "data": {
            "image/png": "[encoded data removed]",
            "text/plain": [
              "<Figure size 432x288 with 1 Axes>"
            ]
          },
          "metadata": {
            "tags": [],
            "needs_background": "light"
          }
        }
      ]
    },
    {
      "cell_type": "markdown",
      "metadata": {
        "id": "wkqK0pA6UXfo"
      },
      "source": [
        "#Comparison"
      ]
    },
    {
      "cell_type": "code",
      "metadata": {
        "colab": {
          "base_uri": "https://localhost:8080/",
          "height": 279
        },
        "id": "eRq8ZmnYUaNZ",
        "outputId": "4c089161-1053-4561-c8cf-85b575446d13"
      },
      "source": [
        "compare_models_by_metric(base_model,reduced_model,base_history,reduced_history,'val_loss')"
      ],
      "execution_count": 21,
      "outputs": [
        {
          "output_type": "display_data",
          "data": {
            "image/png": "[encoded data removed]",
            "text/plain": [
              "<Figure size 432x288 with 1 Axes>"
            ]
          },
          "metadata": {
            "tags": [],
            "needs_background": "light"
          }
        }
      ]
    },
    {
      "cell_type": "markdown",
      "metadata": {
        "id": "FuKDU9XOccV-"
      },
      "source": [
        "#Regularization Model"
      ]
    },
    {
      "cell_type": "code",
      "metadata": {
        "id": "1Ourqto0cf8G"
      },
      "source": [
        "reg_model = Sequential()\n",
        "reg_model.add(Dense(64,activation='relu', kernel_regularizer=regularizers.l2(.001), input_shape=(NB_WORDS,), name='L2_Regularization_model'))\n",
        "reg_model.add(Dense(64,activation='relu', kernel_regularizer=regularizers.l2(.001)))\n",
        "reg_model.add(Dense(3, activation='softmax'))"
      ],
      "execution_count": 32,
      "outputs": []
    },
    {
      "cell_type": "code",
      "metadata": {
        "colab": {
          "base_uri": "https://localhost:8080/",
          "height": 296
        },
        "id": "_PsP38xDdIlt",
        "outputId": "09d8e707-5ba5-4b5a-fc96-46a24a6efb43"
      },
      "source": [
        "reg_history = deep_model(reg_model, X_train_rest, y_train_rest, X_val, y_val)\n",
        "reg_min = optimal_epoch(reg_history)\n",
        "eval_metric(reg_model,reg_history,'loss')"
      ],
      "execution_count": 33,
      "outputs": [
        {
          "output_type": "stream",
          "text": [
            "Minimum validation loss reached at 10\n"
          ],
          "name": "stdout"
        },
        {
          "output_type": "display_data",
          "data": {
            "image/png": "[encoded data removed]",
            "text/plain": [
              "<Figure size 432x288 with 1 Axes>"
            ]
          },
          "metadata": {
            "tags": [],
            "needs_background": "light"
          }
        }
      ]
    },
    {
      "cell_type": "markdown",
      "metadata": {
        "id": "n64_CG0YeT9c"
      },
      "source": [
        "#Base model vs. Reg model"
      ]
    },
    {
      "cell_type": "code",
      "metadata": {
        "colab": {
          "base_uri": "https://localhost:8080/",
          "height": 279
        },
        "id": "KolX6Li_eP4_",
        "outputId": "e5ac1628-b5e6-400b-e3bd-5bd17b2825b0"
      },
      "source": [
        "compare_models_by_metric(base_model,reg_model,base_history,reg_history,\"val_loss\")"
      ],
      "execution_count": 34,
      "outputs": [
        {
          "output_type": "display_data",
          "data": {
            "image/png": "[encoded data removed]",
            "text/plain": [
              "<Figure size 432x288 with 1 Axes>"
            ]
          },
          "metadata": {
            "tags": [],
            "needs_background": "light"
          }
        }
      ]
    },
    {
      "cell_type": "markdown",
      "metadata": {
        "id": "LoOerI5ie3AH"
      },
      "source": [
        "#Dropout layers model"
      ]
    },
    {
      "cell_type": "code",
      "metadata": {
        "id": "mzCJ20z-e5hm"
      },
      "source": [
        "drop_model = Sequential()\n",
        "drop_model.add(Dense(64,activation='relu', input_shape=(NB_WORDS,), name='Drop_model'))\n",
        "drop_model.add(Dropout(.5))\n",
        "drop_model.add(Dense(64,activation='relu'))\n",
        "drop_model.add(Dropout(.5))\n",
        "drop_model.add(Dense(3, activation='softmax'))"
      ],
      "execution_count": 36,
      "outputs": []
    },
    {
      "cell_type": "code",
      "metadata": {
        "colab": {
          "base_uri": "https://localhost:8080/",
          "height": 296
        },
        "id": "Y43pdH0wfdwZ",
        "outputId": "6cf688ca-8272-4bb2-a6b0-17a39e05a3fe"
      },
      "source": [
        "drop_history = deep_model(drop_model, X_train_rest, y_train_rest, X_val, y_val)\n",
        "drop_min = optimal_epoch(drop_history)\n",
        "eval_metric(drop_model, drop_history,'loss')"
      ],
      "execution_count": 37,
      "outputs": [
        {
          "output_type": "stream",
          "text": [
            "Minimum validation loss reached at 10\n"
          ],
          "name": "stdout"
        },
        {
          "output_type": "display_data",
          "data": {
            "image/png": "[encoded data removed]",
            "text/plain": [
              "<Figure size 432x288 with 1 Axes>"
            ]
          },
          "metadata": {
            "tags": [],
            "needs_background": "light"
          }
        }
      ]
    },
    {
      "cell_type": "markdown",
      "metadata": {
        "id": "uJ40aiPBgVIt"
      },
      "source": [
        "#Dropout vs. Baseline"
      ]
    },
    {
      "cell_type": "code",
      "metadata": {
        "colab": {
          "base_uri": "https://localhost:8080/",
          "height": 279
        },
        "id": "EQXYD4SVgEF9",
        "outputId": "68bb0c7a-9e89-442c-9f8c-8027e750f821"
      },
      "source": [
        "compare_models_by_metric(base_model,drop_model,base_history,drop_history,'val_loss')"
      ],
      "execution_count": 38,
      "outputs": [
        {
          "output_type": "display_data",
          "data": {
            "image/png": "[encoded data removed]",
            "text/plain": [
              "<Figure size 432x288 with 1 Axes>"
            ]
          },
          "metadata": {
            "tags": [],
            "needs_background": "light"
          }
        }
      ]
    },
    {
      "cell_type": "markdown",
      "metadata": {
        "id": "tQK5SP_IgbcO"
      },
      "source": [
        "#Training on full data and evaluation on test data"
      ]
    },
    {
      "cell_type": "code",
      "metadata": {
        "colab": {
          "base_uri": "https://localhost:8080/"
        },
        "id": "StKRlwYPgi3d",
        "outputId": "2e530154-7060-490e-8ef9-f04970c060c6"
      },
      "source": [
        "base_results = test_model(base_model,X_train_oh,y_train_oh,X_test_oh,y_test_oh,epoch_stop=base_min)\n",
        "reduced_results = test_model(reduced_model,X_train_oh,y_train_oh,X_test_oh,y_test_oh,reduced_min)\n",
        "reg_results = test_model(reg_model,X_train_oh,y_train_oh,X_test_oh,y_test_oh,reg_min)\n",
        "drop_results = test_model(drop_model,X_train_oh,y_train_oh,X_test_oh,y_test_oh,drop_min)"
      ],
      "execution_count": 39,
      "outputs": [
        {
          "output_type": "stream",
          "text": [
            "46/46 [==============================] - 0s 1ms/step - loss: 0.8829 - accuracy: 0.7473\n",
            "\n",
            "Test accuracy: 0.7472677826881409\n",
            "46/46 [==============================] - 0s 1ms/step - loss: 0.5687 - accuracy: 0.7657\n",
            "\n",
            "Test accuracy: 0.7657103538513184\n",
            "46/46 [==============================] - 0s 1ms/step - loss: 0.7433 - accuracy: 0.7637\n",
            "\n",
            "Test accuracy: 0.7636612057685852\n",
            "46/46 [==============================] - 0s 1ms/step - loss: 0.6214 - accuracy: 0.7753\n",
            "\n",
            "Test accuracy: 0.7752732038497925\n"
          ],
          "name": "stdout"
        }
      ]
    }
  ]
}