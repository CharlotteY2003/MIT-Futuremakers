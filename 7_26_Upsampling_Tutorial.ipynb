{
  "nbformat": 4,
  "nbformat_minor": 0,
  "metadata": {
    "colab": {
      "name": "7_26-Upsampling Tutorial.ipynb",
      "provenance": [],
      "authorship_tag": "ABX9TyNRgz2gX4pfvCIwkjxuX1sf",
      "include_colab_link": true
    },
    "kernelspec": {
      "name": "python3",
      "display_name": "Python 3"
    },
    "language_info": {
      "name": "python"
    }
  },
  "cells": [
    {
      "cell_type": "markdown",
      "metadata": {
        "id": "view-in-github",
        "colab_type": "text"
      },
      "source": [
        "<a href=\"https://colab.research.google.com/github/CharlotteY2003/MIT-Futuremakers/blob/main/7_26_Upsampling_Tutorial.ipynb\" target=\"_parent\"><img src=\"https://colab.research.google.com/assets/colab-badge.svg\" alt=\"Open In Colab\"/></a>"
      ]
    },
    {
      "cell_type": "code",
      "metadata": {
        "id": "2V9KQcgqUQwp"
      },
      "source": [
        "import pandas as pd\n",
        "import numpy as np\n",
        "from keras.models import Sequential\n",
        "from keras.layers import *"
      ],
      "execution_count": 1,
      "outputs": []
    },
    {
      "cell_type": "code",
      "metadata": {
        "colab": {
          "base_uri": "https://localhost:8080/"
        },
        "id": "qjFE7yElU17K",
        "outputId": "43f5868b-5651-428b-96d1-223690bb273a"
      },
      "source": [
        "X = np.asarray([[1,2],\n",
        "               [3,4]])\n",
        "print(X)"
      ],
      "execution_count": 13,
      "outputs": [
        {
          "output_type": "stream",
          "text": [
            "[[1 2]\n",
            " [3 4]]\n"
          ],
          "name": "stdout"
        }
      ]
    },
    {
      "cell_type": "code",
      "metadata": {
        "id": "JnAi4qOxWk_w"
      },
      "source": [
        "X = X.reshape(1,2,2,1) #last 1 = channel dimension\n",
        "#Since input is grayscale (only have 1 channel)"
      ],
      "execution_count": 14,
      "outputs": []
    },
    {
      "cell_type": "markdown",
      "metadata": {
        "id": "9oMwoYLEZyo2"
      },
      "source": [
        "#Testing Upsampling layer"
      ]
    },
    {
      "cell_type": "code",
      "metadata": {
        "colab": {
          "base_uri": "https://localhost:8080/"
        },
        "id": "mGekT5jZUunn",
        "outputId": "10b79038-abb8-4671-f93f-8229b43c534f"
      },
      "source": [
        "model = Sequential()\n",
        "model.add(UpSampling2D(input_shape=(2,2,1), size=(2,3), interpolation='bilinear'))\n",
        "model.summary()"
      ],
      "execution_count": 15,
      "outputs": [
        {
          "output_type": "stream",
          "text": [
            "Model: \"sequential_3\"\n",
            "_________________________________________________________________\n",
            "Layer (type)                 Output Shape              Param #   \n",
            "=================================================================\n",
            "up_sampling2d_3 (UpSampling2 (None, 4, 6, 1)           0         \n",
            "=================================================================\n",
            "Total params: 0\n",
            "Trainable params: 0\n",
            "Non-trainable params: 0\n",
            "_________________________________________________________________\n"
          ],
          "name": "stdout"
        }
      ]
    },
    {
      "cell_type": "code",
      "metadata": {
        "id": "Etti8_u5XART"
      },
      "source": [
        "y_pred = model.predict(X) #Don't we need to compile and fit the model before prediction?\n",
        "#Probably not because model is not learning (no learned parameters) that the model has to train for and only needs to double the input"
      ],
      "execution_count": 16,
      "outputs": []
    },
    {
      "cell_type": "code",
      "metadata": {
        "colab": {
          "base_uri": "https://localhost:8080/"
        },
        "id": "2Vfj1nylXPej",
        "outputId": "51b5eed0-2941-4758-f158-82cd3cafe15f"
      },
      "source": [
        "y_pred = y_pred.reshape(4,6) #reshape output to remove channel to make printing easier\n",
        "#4 x 4 output because we are doubling input for upsampling\n",
        "print(y_pred)"
      ],
      "execution_count": 17,
      "outputs": [
        {
          "output_type": "stream",
          "text": [
            "[[1.        1.        1.3333334 1.6666667 2.        2.       ]\n",
            " [1.5       1.5       1.8333334 2.1666667 2.5       2.5      ]\n",
            " [2.5       2.5       2.8333335 3.1666667 3.5       3.5      ]\n",
            " [3.        3.        3.3333335 3.6666667 4.        4.       ]]\n"
          ],
          "name": "stdout"
        }
      ]
    },
    {
      "cell_type": "markdown",
      "metadata": {
        "id": "IIlhe0OiZ1Tb"
      },
      "source": [
        "#Simple Generator Model with Upsampling"
      ]
    },
    {
      "cell_type": "code",
      "metadata": {
        "colab": {
          "base_uri": "https://localhost:8080/"
        },
        "id": "Wa1Oo6P5Z-kj",
        "outputId": "d22fe936-b1fe-4b62-ae32-107720b512f9"
      },
      "source": [
        "model = Sequential()\n",
        "model.add(Dense(128*5*5,input_dim=100))\n",
        "model.add(Reshape((5,5,128))) #128 5x5 feature maps\n",
        "model.add(UpSampling2D())\n",
        "#Fill in detail of the upsampled feature maps\n",
        "model.add(Conv2D(1,(3,3),padding='same'))\n",
        "model.summary()"
      ],
      "execution_count": 21,
      "outputs": [
        {
          "output_type": "stream",
          "text": [
            "Model: \"sequential_5\"\n",
            "_________________________________________________________________\n",
            "Layer (type)                 Output Shape              Param #   \n",
            "=================================================================\n",
            "dense_1 (Dense)              (None, 3200)              323200    \n",
            "_________________________________________________________________\n",
            "reshape (Reshape)            (None, 5, 5, 128)         0         \n",
            "_________________________________________________________________\n",
            "up_sampling2d_4 (UpSampling2 (None, 10, 10, 128)       0         \n",
            "_________________________________________________________________\n",
            "conv2d (Conv2D)              (None, 10, 10, 1)         1153      \n",
            "=================================================================\n",
            "Total params: 324,353\n",
            "Trainable params: 324,353\n",
            "Non-trainable params: 0\n",
            "_________________________________________________________________\n"
          ],
          "name": "stdout"
        }
      ]
    },
    {
      "cell_type": "markdown",
      "metadata": {
        "id": "FCCu4s4SklQu"
      },
      "source": [
        "#Conv2D Transpose Model"
      ]
    },
    {
      "cell_type": "code",
      "metadata": {
        "colab": {
          "base_uri": "https://localhost:8080/"
        },
        "id": "kZ3Y94l3krCX",
        "outputId": "2ca112c5-48ac-4356-97fd-dc2ab91647c8"
      },
      "source": [
        "model = Sequential()\n",
        "model.add(Conv2DTranspose(input_shape=(2,2,1),filters=1,kernel_size=(1,1), strides=(2,2)))\n",
        "model.summary()"
      ],
      "execution_count": 22,
      "outputs": [
        {
          "output_type": "stream",
          "text": [
            "Model: \"sequential_6\"\n",
            "_________________________________________________________________\n",
            "Layer (type)                 Output Shape              Param #   \n",
            "=================================================================\n",
            "conv2d_transpose (Conv2DTran (None, 4, 4, 1)           2         \n",
            "=================================================================\n",
            "Total params: 2\n",
            "Trainable params: 2\n",
            "Non-trainable params: 0\n",
            "_________________________________________________________________\n"
          ],
          "name": "stdout"
        }
      ]
    },
    {
      "cell_type": "code",
      "metadata": {
        "id": "T9bm7m5PlG9l"
      },
      "source": [
        "weights = [np.asarray([[[[1]]]]), np.asarray([0])] #Set weight to 1 and bias to 0 to have no influence\n",
        "model.set_weights(weights)"
      ],
      "execution_count": 24,
      "outputs": []
    },
    {
      "cell_type": "code",
      "metadata": {
        "colab": {
          "base_uri": "https://localhost:8080/"
        },
        "id": "zOmzZzxolYJG",
        "outputId": "1905bc14-4450-4f55-e8a4-30e50d8a4f00"
      },
      "source": [
        "y_pred = model.predict(X)\n",
        "y_pred = y_pred.reshape(4,4)\n",
        "print(y_pred)"
      ],
      "execution_count": 25,
      "outputs": [
        {
          "output_type": "stream",
          "text": [
            "[[1. 0. 2. 0.]\n",
            " [0. 0. 0. 0.]\n",
            " [3. 0. 4. 0.]\n",
            " [0. 0. 0. 0.]]\n"
          ],
          "name": "stdout"
        }
      ]
    },
    {
      "cell_type": "markdown",
      "metadata": {
        "id": "TsAVfb4QmHiA"
      },
      "source": [
        "#Simple Generator Model With the Conv2DTranspose Layer"
      ]
    },
    {
      "cell_type": "code",
      "metadata": {
        "colab": {
          "base_uri": "https://localhost:8080/"
        },
        "id": "fx_aj1IhmIVV",
        "outputId": "405b4680-8fe2-466a-b71d-22e983edf675"
      },
      "source": [
        "model = Sequential()\n",
        "model.add(Dense(128 * 5 * 5,input_dim=100))\n",
        "model.add(Reshape((5, 5, 128)))\n",
        "model.add(Conv2DTranspose(1,(3,3),strides=(2,2),padding='same'))\n",
        "model.summary()"
      ],
      "execution_count": 29,
      "outputs": [
        {
          "output_type": "stream",
          "text": [
            "Model: \"sequential_9\"\n",
            "_________________________________________________________________\n",
            "Layer (type)                 Output Shape              Param #   \n",
            "=================================================================\n",
            "dense_4 (Dense)              (None, 3200)              323200    \n",
            "_________________________________________________________________\n",
            "reshape_1 (Reshape)          (None, 5, 5, 128)         0         \n",
            "_________________________________________________________________\n",
            "conv2d_transpose_1 (Conv2DTr (None, 10, 10, 1)         1153      \n",
            "=================================================================\n",
            "Total params: 324,353\n",
            "Trainable params: 324,353\n",
            "Non-trainable params: 0\n",
            "_________________________________________________________________\n"
          ],
          "name": "stdout"
        }
      ]
    }
  ]
}