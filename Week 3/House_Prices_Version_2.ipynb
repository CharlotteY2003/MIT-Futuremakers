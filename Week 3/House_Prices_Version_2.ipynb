{
  "nbformat": 4,
  "nbformat_minor": 0,
  "metadata": {
    "colab": {
      "name": "House Prices Version 2.ipynb",
      "provenance": [],
      "authorship_tag": "ABX9TyNN624WdGnxCoTPfNjj/n35",
      "include_colab_link": true
    },
    "kernelspec": {
      "name": "python3",
      "display_name": "Python 3"
    },
    "language_info": {
      "name": "python"
    }
  },
  "cells": [
    {
      "cell_type": "markdown",
      "metadata": {
        "id": "view-in-github",
        "colab_type": "text"
      },
      "source": [
        "<a href=\"https://colab.research.google.com/github/CharlotteY2003/MIT-Futuremakers/blob/main/House_Prices_Version_2.ipynb\" target=\"_parent\"><img src=\"https://colab.research.google.com/assets/colab-badge.svg\" alt=\"Open In Colab\"/></a>"
      ]
    },
    {
      "cell_type": "code",
      "metadata": {
        "id": "JKZK9dSCQnl3"
      },
      "source": [
        "import pandas as pd\n",
        "import numpy as np\n",
        "import matplotlib.pyplot as plt\n",
        "from keras.models import Sequential\n",
        "from keras.layers import *\n",
        "from sklearn.model_selection import train_test_split\n",
        "from sklearn.preprocessing import StandardScaler, MinMaxScaler\n",
        "from keras.optimizers import SGD\n",
        "from keras import regularizers"
      ],
      "execution_count": null,
      "outputs": []
    },
    {
      "cell_type": "markdown",
      "metadata": {
        "id": "6H67nAZ5YbBm"
      },
      "source": [
        "#Data Preprocessing"
      ]
    },
    {
      "cell_type": "code",
      "metadata": {
        "colab": {
          "base_uri": "https://localhost:8080/",
          "height": 225
        },
        "id": "HTvYohwURHwE",
        "outputId": "51c9fc9c-5390-4397-e864-d6e7c00b3bd9"
      },
      "source": [
        "data = pd.read_csv('housepricedata.csv')\n",
        "data.head()"
      ],
      "execution_count": null,
      "outputs": [
        {
          "output_type": "execute_result",
          "data": {
            "text/html": [
              "<div>\n",
              "<style scoped>\n",
              "    .dataframe tbody tr th:only-of-type {\n",
              "        vertical-align: middle;\n",
              "    }\n",
              "\n",
              "    .dataframe tbody tr th {\n",
              "        vertical-align: top;\n",
              "    }\n",
              "\n",
              "    .dataframe thead th {\n",
              "        text-align: right;\n",
              "    }\n",
              "</style>\n",
              "<table border=\"1\" class=\"dataframe\">\n",
              "  <thead>\n",
              "    <tr style=\"text-align: right;\">\n",
              "      <th></th>\n",
              "      <th>LotArea</th>\n",
              "      <th>OverallQual</th>\n",
              "      <th>OverallCond</th>\n",
              "      <th>TotalBsmtSF</th>\n",
              "      <th>FullBath</th>\n",
              "      <th>HalfBath</th>\n",
              "      <th>BedroomAbvGr</th>\n",
              "      <th>TotRmsAbvGrd</th>\n",
              "      <th>Fireplaces</th>\n",
              "      <th>GarageArea</th>\n",
              "      <th>AboveMedianPrice</th>\n",
              "    </tr>\n",
              "  </thead>\n",
              "  <tbody>\n",
              "    <tr>\n",
              "      <th>0</th>\n",
              "      <td>8450</td>\n",
              "      <td>7</td>\n",
              "      <td>5</td>\n",
              "      <td>856</td>\n",
              "      <td>2</td>\n",
              "      <td>1</td>\n",
              "      <td>3</td>\n",
              "      <td>8</td>\n",
              "      <td>0</td>\n",
              "      <td>548</td>\n",
              "      <td>1</td>\n",
              "    </tr>\n",
              "    <tr>\n",
              "      <th>1</th>\n",
              "      <td>9600</td>\n",
              "      <td>6</td>\n",
              "      <td>8</td>\n",
              "      <td>1262</td>\n",
              "      <td>2</td>\n",
              "      <td>0</td>\n",
              "      <td>3</td>\n",
              "      <td>6</td>\n",
              "      <td>1</td>\n",
              "      <td>460</td>\n",
              "      <td>1</td>\n",
              "    </tr>\n",
              "    <tr>\n",
              "      <th>2</th>\n",
              "      <td>11250</td>\n",
              "      <td>7</td>\n",
              "      <td>5</td>\n",
              "      <td>920</td>\n",
              "      <td>2</td>\n",
              "      <td>1</td>\n",
              "      <td>3</td>\n",
              "      <td>6</td>\n",
              "      <td>1</td>\n",
              "      <td>608</td>\n",
              "      <td>1</td>\n",
              "    </tr>\n",
              "    <tr>\n",
              "      <th>3</th>\n",
              "      <td>9550</td>\n",
              "      <td>7</td>\n",
              "      <td>5</td>\n",
              "      <td>756</td>\n",
              "      <td>1</td>\n",
              "      <td>0</td>\n",
              "      <td>3</td>\n",
              "      <td>7</td>\n",
              "      <td>1</td>\n",
              "      <td>642</td>\n",
              "      <td>0</td>\n",
              "    </tr>\n",
              "    <tr>\n",
              "      <th>4</th>\n",
              "      <td>14260</td>\n",
              "      <td>8</td>\n",
              "      <td>5</td>\n",
              "      <td>1145</td>\n",
              "      <td>2</td>\n",
              "      <td>1</td>\n",
              "      <td>4</td>\n",
              "      <td>9</td>\n",
              "      <td>1</td>\n",
              "      <td>836</td>\n",
              "      <td>1</td>\n",
              "    </tr>\n",
              "  </tbody>\n",
              "</table>\n",
              "</div>"
            ],
            "text/plain": [
              "   LotArea  OverallQual  OverallCond  ...  Fireplaces  GarageArea  AboveMedianPrice\n",
              "0     8450            7            5  ...           0         548                 1\n",
              "1     9600            6            8  ...           1         460                 1\n",
              "2    11250            7            5  ...           1         608                 1\n",
              "3     9550            7            5  ...           1         642                 0\n",
              "4    14260            8            5  ...           1         836                 1\n",
              "\n",
              "[5 rows x 11 columns]"
            ]
          },
          "metadata": {
            "tags": []
          },
          "execution_count": 2
        }
      ]
    },
    {
      "cell_type": "code",
      "metadata": {
        "id": "g92zBx0tRrjJ"
      },
      "source": [
        "data = data.values"
      ],
      "execution_count": null,
      "outputs": []
    },
    {
      "cell_type": "code",
      "metadata": {
        "id": "V0GDEAcHRxhy"
      },
      "source": [
        "y = data[:, 10]\n",
        "X = data[:, 0:10]"
      ],
      "execution_count": null,
      "outputs": []
    },
    {
      "cell_type": "code",
      "metadata": {
        "id": "ZfsD1scASKTo"
      },
      "source": [
        "scaler = MinMaxScaler()\n",
        "X_scale = scaler.fit_transform(X)"
      ],
      "execution_count": null,
      "outputs": []
    },
    {
      "cell_type": "code",
      "metadata": {
        "id": "Gv04VOYOTcGh"
      },
      "source": [
        "X_train, X_val_test, y_train, y_val_test = train_test_split(X_scale, y, test_size = .3)\n",
        "X_val, X_test, y_val, y_test = train_test_split(X_val_test, y_val_test, test_size = .5)"
      ],
      "execution_count": null,
      "outputs": []
    },
    {
      "cell_type": "code",
      "metadata": {
        "colab": {
          "base_uri": "https://localhost:8080/"
        },
        "id": "Bib2DMhVT0n4",
        "outputId": "0f7d5a31-b1e4-4bdf-f568-51d2b4db1263"
      },
      "source": [
        "print(X_train.shape)"
      ],
      "execution_count": null,
      "outputs": [
        {
          "output_type": "stream",
          "text": [
            "(1022, 10)\n"
          ],
          "name": "stdout"
        }
      ]
    },
    {
      "cell_type": "markdown",
      "metadata": {
        "id": "q_eBo80iYeeh"
      },
      "source": [
        "#First Model Development (Good and fully connected neural network)"
      ]
    },
    {
      "cell_type": "code",
      "metadata": {
        "id": "ihTsFGUlUExl"
      },
      "source": [
        "model = Sequential()\n",
        "model.add(Dense(units = 32, activation='relu', input_shape = (10,)))\n",
        "model.add(Dense(units = 64, activation = 'relu'))\n",
        "model.add(Dense(units = 1, activation = 'sigmoid'))"
      ],
      "execution_count": null,
      "outputs": []
    },
    {
      "cell_type": "code",
      "metadata": {
        "id": "lI5SPGN7Uykq"
      },
      "source": [
        "model.compile(optimizer = 'sgd', loss= 'binary_crossentropy', metrics = ['accuracy'])"
      ],
      "execution_count": null,
      "outputs": []
    },
    {
      "cell_type": "code",
      "metadata": {
        "id": "tnu4-c-6VHnR",
        "colab": {
          "base_uri": "https://localhost:8080/"
        },
        "outputId": "8bcec913-453d-44e8-8613-02c3106266ac"
      },
      "source": [
        "history = model.fit(X_train, y_train, validation_data = (X_val, y_val), batch_size = 32, epochs = 100)"
      ],
      "execution_count": null,
      "outputs": [
        {
          "output_type": "stream",
          "text": [
            "Epoch 1/100\n",
            "32/32 [==============================] - 14s 17ms/step - loss: 0.6824 - accuracy: 0.5089 - val_loss: 0.6852 - val_accuracy: 0.4932\n",
            "Epoch 2/100\n",
            "32/32 [==============================] - 0s 2ms/step - loss: 0.6758 - accuracy: 0.5229 - val_loss: 0.6799 - val_accuracy: 0.4977\n",
            "Epoch 3/100\n",
            "32/32 [==============================] - 0s 2ms/step - loss: 0.6738 - accuracy: 0.5176 - val_loss: 0.6748 - val_accuracy: 0.5023\n",
            "Epoch 4/100\n",
            "32/32 [==============================] - 0s 2ms/step - loss: 0.6679 - accuracy: 0.5424 - val_loss: 0.6697 - val_accuracy: 0.5342\n",
            "Epoch 5/100\n",
            "32/32 [==============================] - 0s 2ms/step - loss: 0.6659 - accuracy: 0.5690 - val_loss: 0.6650 - val_accuracy: 0.5525\n",
            "Epoch 6/100\n",
            "32/32 [==============================] - 0s 2ms/step - loss: 0.6582 - accuracy: 0.6086 - val_loss: 0.6605 - val_accuracy: 0.5936\n",
            "Epoch 7/100\n",
            "32/32 [==============================] - 0s 2ms/step - loss: 0.6547 - accuracy: 0.6580 - val_loss: 0.6558 - val_accuracy: 0.6347\n",
            "Epoch 8/100\n",
            "32/32 [==============================] - 0s 2ms/step - loss: 0.6452 - accuracy: 0.6686 - val_loss: 0.6511 - val_accuracy: 0.6484\n",
            "Epoch 9/100\n",
            "32/32 [==============================] - 0s 2ms/step - loss: 0.6429 - accuracy: 0.7192 - val_loss: 0.6463 - val_accuracy: 0.6667\n",
            "Epoch 10/100\n",
            "32/32 [==============================] - 0s 2ms/step - loss: 0.6382 - accuracy: 0.7481 - val_loss: 0.6413 - val_accuracy: 0.6986\n",
            "Epoch 11/100\n",
            "32/32 [==============================] - 0s 2ms/step - loss: 0.6325 - accuracy: 0.7617 - val_loss: 0.6361 - val_accuracy: 0.7123\n",
            "Epoch 12/100\n",
            "32/32 [==============================] - 0s 2ms/step - loss: 0.6299 - accuracy: 0.7648 - val_loss: 0.6305 - val_accuracy: 0.7078\n",
            "Epoch 13/100\n",
            "32/32 [==============================] - 0s 2ms/step - loss: 0.6202 - accuracy: 0.8037 - val_loss: 0.6245 - val_accuracy: 0.7443\n",
            "Epoch 14/100\n",
            "32/32 [==============================] - 0s 3ms/step - loss: 0.6140 - accuracy: 0.7987 - val_loss: 0.6181 - val_accuracy: 0.7717\n",
            "Epoch 15/100\n",
            "32/32 [==============================] - 0s 2ms/step - loss: 0.6067 - accuracy: 0.8195 - val_loss: 0.6111 - val_accuracy: 0.7854\n",
            "Epoch 16/100\n",
            "32/32 [==============================] - 0s 2ms/step - loss: 0.5953 - accuracy: 0.8325 - val_loss: 0.6034 - val_accuracy: 0.7991\n",
            "Epoch 17/100\n",
            "32/32 [==============================] - 0s 2ms/step - loss: 0.5869 - accuracy: 0.8463 - val_loss: 0.5950 - val_accuracy: 0.8082\n",
            "Epoch 18/100\n",
            "32/32 [==============================] - 0s 2ms/step - loss: 0.5749 - accuracy: 0.8646 - val_loss: 0.5866 - val_accuracy: 0.8219\n",
            "Epoch 19/100\n",
            "32/32 [==============================] - 0s 2ms/step - loss: 0.5674 - accuracy: 0.8561 - val_loss: 0.5781 - val_accuracy: 0.8311\n",
            "Epoch 20/100\n",
            "32/32 [==============================] - 0s 2ms/step - loss: 0.5583 - accuracy: 0.8657 - val_loss: 0.5699 - val_accuracy: 0.8311\n",
            "Epoch 21/100\n",
            "32/32 [==============================] - 0s 2ms/step - loss: 0.5504 - accuracy: 0.8628 - val_loss: 0.5612 - val_accuracy: 0.8402\n",
            "Epoch 22/100\n",
            "32/32 [==============================] - 0s 2ms/step - loss: 0.5417 - accuracy: 0.8642 - val_loss: 0.5523 - val_accuracy: 0.8493\n",
            "Epoch 23/100\n",
            "32/32 [==============================] - 0s 2ms/step - loss: 0.5312 - accuracy: 0.8829 - val_loss: 0.5437 - val_accuracy: 0.8493\n",
            "Epoch 24/100\n",
            "32/32 [==============================] - 0s 2ms/step - loss: 0.5202 - accuracy: 0.8842 - val_loss: 0.5343 - val_accuracy: 0.8539\n",
            "Epoch 25/100\n",
            "32/32 [==============================] - 0s 2ms/step - loss: 0.5156 - accuracy: 0.8663 - val_loss: 0.5249 - val_accuracy: 0.8584\n",
            "Epoch 26/100\n",
            "32/32 [==============================] - 0s 2ms/step - loss: 0.5049 - accuracy: 0.8659 - val_loss: 0.5154 - val_accuracy: 0.8584\n",
            "Epoch 27/100\n",
            "32/32 [==============================] - 0s 2ms/step - loss: 0.4879 - accuracy: 0.8828 - val_loss: 0.5060 - val_accuracy: 0.8539\n",
            "Epoch 28/100\n",
            "32/32 [==============================] - 0s 2ms/step - loss: 0.4774 - accuracy: 0.8986 - val_loss: 0.4965 - val_accuracy: 0.8539\n",
            "Epoch 29/100\n",
            "32/32 [==============================] - 0s 2ms/step - loss: 0.4748 - accuracy: 0.8813 - val_loss: 0.4876 - val_accuracy: 0.8539\n",
            "Epoch 30/100\n",
            "32/32 [==============================] - 0s 3ms/step - loss: 0.4575 - accuracy: 0.8884 - val_loss: 0.4780 - val_accuracy: 0.8539\n",
            "Epoch 31/100\n",
            "32/32 [==============================] - 0s 3ms/step - loss: 0.4598 - accuracy: 0.8763 - val_loss: 0.4701 - val_accuracy: 0.8493\n",
            "Epoch 32/100\n",
            "32/32 [==============================] - 0s 2ms/step - loss: 0.4455 - accuracy: 0.8833 - val_loss: 0.4607 - val_accuracy: 0.8539\n",
            "Epoch 33/100\n",
            "32/32 [==============================] - 0s 3ms/step - loss: 0.4332 - accuracy: 0.8786 - val_loss: 0.4521 - val_accuracy: 0.8539\n",
            "Epoch 34/100\n",
            "32/32 [==============================] - 0s 2ms/step - loss: 0.4227 - accuracy: 0.8895 - val_loss: 0.4445 - val_accuracy: 0.8539\n",
            "Epoch 35/100\n",
            "32/32 [==============================] - 0s 3ms/step - loss: 0.4096 - accuracy: 0.8880 - val_loss: 0.4361 - val_accuracy: 0.8721\n",
            "Epoch 36/100\n",
            "32/32 [==============================] - 0s 3ms/step - loss: 0.3965 - accuracy: 0.9035 - val_loss: 0.4297 - val_accuracy: 0.8539\n",
            "Epoch 37/100\n",
            "32/32 [==============================] - 0s 2ms/step - loss: 0.3926 - accuracy: 0.8888 - val_loss: 0.4224 - val_accuracy: 0.8630\n",
            "Epoch 38/100\n",
            "32/32 [==============================] - 0s 2ms/step - loss: 0.3861 - accuracy: 0.8868 - val_loss: 0.4158 - val_accuracy: 0.8630\n",
            "Epoch 39/100\n",
            "32/32 [==============================] - 0s 2ms/step - loss: 0.3984 - accuracy: 0.8697 - val_loss: 0.4098 - val_accuracy: 0.8630\n",
            "Epoch 40/100\n",
            "32/32 [==============================] - 0s 2ms/step - loss: 0.3710 - accuracy: 0.8779 - val_loss: 0.4039 - val_accuracy: 0.8721\n",
            "Epoch 41/100\n",
            "32/32 [==============================] - 0s 2ms/step - loss: 0.3710 - accuracy: 0.8867 - val_loss: 0.3986 - val_accuracy: 0.8721\n",
            "Epoch 42/100\n",
            "32/32 [==============================] - 0s 2ms/step - loss: 0.3605 - accuracy: 0.8893 - val_loss: 0.3937 - val_accuracy: 0.8721\n",
            "Epoch 43/100\n",
            "32/32 [==============================] - 0s 2ms/step - loss: 0.3613 - accuracy: 0.8842 - val_loss: 0.3904 - val_accuracy: 0.8584\n",
            "Epoch 44/100\n",
            "32/32 [==============================] - 0s 3ms/step - loss: 0.3540 - accuracy: 0.8860 - val_loss: 0.3861 - val_accuracy: 0.8584\n",
            "Epoch 45/100\n",
            "32/32 [==============================] - 0s 2ms/step - loss: 0.3398 - accuracy: 0.8912 - val_loss: 0.3825 - val_accuracy: 0.8447\n",
            "Epoch 46/100\n",
            "32/32 [==============================] - 0s 2ms/step - loss: 0.3363 - accuracy: 0.8906 - val_loss: 0.3774 - val_accuracy: 0.8721\n",
            "Epoch 47/100\n",
            "32/32 [==============================] - 0s 2ms/step - loss: 0.3369 - accuracy: 0.8837 - val_loss: 0.3744 - val_accuracy: 0.8721\n",
            "Epoch 48/100\n",
            "32/32 [==============================] - 0s 3ms/step - loss: 0.3422 - accuracy: 0.8817 - val_loss: 0.3719 - val_accuracy: 0.8676\n",
            "Epoch 49/100\n",
            "32/32 [==============================] - 0s 2ms/step - loss: 0.3306 - accuracy: 0.8782 - val_loss: 0.3699 - val_accuracy: 0.8584\n",
            "Epoch 50/100\n",
            "32/32 [==============================] - 0s 2ms/step - loss: 0.3186 - accuracy: 0.8879 - val_loss: 0.3660 - val_accuracy: 0.8721\n",
            "Epoch 51/100\n",
            "32/32 [==============================] - 0s 2ms/step - loss: 0.3102 - accuracy: 0.8997 - val_loss: 0.3636 - val_accuracy: 0.8767\n",
            "Epoch 52/100\n",
            "32/32 [==============================] - 0s 2ms/step - loss: 0.3112 - accuracy: 0.8875 - val_loss: 0.3614 - val_accuracy: 0.8721\n",
            "Epoch 53/100\n",
            "32/32 [==============================] - 0s 2ms/step - loss: 0.3201 - accuracy: 0.8826 - val_loss: 0.3597 - val_accuracy: 0.8721\n",
            "Epoch 54/100\n",
            "32/32 [==============================] - 0s 2ms/step - loss: 0.3086 - accuracy: 0.8874 - val_loss: 0.3579 - val_accuracy: 0.8721\n",
            "Epoch 55/100\n",
            "32/32 [==============================] - 0s 3ms/step - loss: 0.3077 - accuracy: 0.8801 - val_loss: 0.3561 - val_accuracy: 0.8767\n",
            "Epoch 56/100\n",
            "32/32 [==============================] - 0s 2ms/step - loss: 0.2875 - accuracy: 0.9035 - val_loss: 0.3546 - val_accuracy: 0.8767\n",
            "Epoch 57/100\n",
            "32/32 [==============================] - 0s 2ms/step - loss: 0.2720 - accuracy: 0.8986 - val_loss: 0.3532 - val_accuracy: 0.8767\n",
            "Epoch 58/100\n",
            "32/32 [==============================] - 0s 2ms/step - loss: 0.3055 - accuracy: 0.8754 - val_loss: 0.3523 - val_accuracy: 0.8721\n",
            "Epoch 59/100\n",
            "32/32 [==============================] - 0s 2ms/step - loss: 0.2844 - accuracy: 0.8995 - val_loss: 0.3519 - val_accuracy: 0.8630\n",
            "Epoch 60/100\n",
            "32/32 [==============================] - 0s 3ms/step - loss: 0.3024 - accuracy: 0.8814 - val_loss: 0.3501 - val_accuracy: 0.8721\n",
            "Epoch 61/100\n",
            "32/32 [==============================] - 0s 2ms/step - loss: 0.2750 - accuracy: 0.8950 - val_loss: 0.3489 - val_accuracy: 0.8767\n",
            "Epoch 62/100\n",
            "32/32 [==============================] - 0s 2ms/step - loss: 0.2919 - accuracy: 0.8856 - val_loss: 0.3487 - val_accuracy: 0.8767\n",
            "Epoch 63/100\n",
            "32/32 [==============================] - 0s 2ms/step - loss: 0.2894 - accuracy: 0.8747 - val_loss: 0.3473 - val_accuracy: 0.8767\n",
            "Epoch 64/100\n",
            "32/32 [==============================] - 0s 2ms/step - loss: 0.2857 - accuracy: 0.8852 - val_loss: 0.3470 - val_accuracy: 0.8721\n",
            "Epoch 65/100\n",
            "32/32 [==============================] - 0s 2ms/step - loss: 0.2681 - accuracy: 0.9003 - val_loss: 0.3461 - val_accuracy: 0.8767\n",
            "Epoch 66/100\n",
            "32/32 [==============================] - 0s 2ms/step - loss: 0.2759 - accuracy: 0.8886 - val_loss: 0.3453 - val_accuracy: 0.8767\n",
            "Epoch 67/100\n",
            "32/32 [==============================] - 0s 3ms/step - loss: 0.2729 - accuracy: 0.8856 - val_loss: 0.3448 - val_accuracy: 0.8767\n",
            "Epoch 68/100\n",
            "32/32 [==============================] - 0s 2ms/step - loss: 0.2756 - accuracy: 0.8823 - val_loss: 0.3444 - val_accuracy: 0.8721\n",
            "Epoch 69/100\n",
            "32/32 [==============================] - 0s 3ms/step - loss: 0.2712 - accuracy: 0.8826 - val_loss: 0.3439 - val_accuracy: 0.8767\n",
            "Epoch 70/100\n",
            "32/32 [==============================] - 0s 3ms/step - loss: 0.2930 - accuracy: 0.8820 - val_loss: 0.3440 - val_accuracy: 0.8767\n",
            "Epoch 71/100\n",
            "32/32 [==============================] - 0s 3ms/step - loss: 0.2850 - accuracy: 0.8746 - val_loss: 0.3431 - val_accuracy: 0.8767\n",
            "Epoch 72/100\n",
            "32/32 [==============================] - 0s 3ms/step - loss: 0.2851 - accuracy: 0.8716 - val_loss: 0.3434 - val_accuracy: 0.8676\n",
            "Epoch 73/100\n",
            "32/32 [==============================] - 0s 2ms/step - loss: 0.2600 - accuracy: 0.9069 - val_loss: 0.3426 - val_accuracy: 0.8721\n",
            "Epoch 74/100\n",
            "32/32 [==============================] - 0s 2ms/step - loss: 0.2621 - accuracy: 0.8900 - val_loss: 0.3428 - val_accuracy: 0.8676\n",
            "Epoch 75/100\n",
            "32/32 [==============================] - 0s 2ms/step - loss: 0.2761 - accuracy: 0.8911 - val_loss: 0.3424 - val_accuracy: 0.8676\n",
            "Epoch 76/100\n",
            "32/32 [==============================] - 0s 2ms/step - loss: 0.2605 - accuracy: 0.8863 - val_loss: 0.3417 - val_accuracy: 0.8721\n",
            "Epoch 77/100\n",
            "32/32 [==============================] - 0s 2ms/step - loss: 0.2510 - accuracy: 0.9059 - val_loss: 0.3416 - val_accuracy: 0.8767\n",
            "Epoch 78/100\n",
            "32/32 [==============================] - 0s 2ms/step - loss: 0.2658 - accuracy: 0.8978 - val_loss: 0.3413 - val_accuracy: 0.8721\n",
            "Epoch 79/100\n",
            "32/32 [==============================] - 0s 2ms/step - loss: 0.2822 - accuracy: 0.8859 - val_loss: 0.3425 - val_accuracy: 0.8676\n",
            "Epoch 80/100\n",
            "32/32 [==============================] - 0s 3ms/step - loss: 0.2657 - accuracy: 0.8877 - val_loss: 0.3419 - val_accuracy: 0.8676\n",
            "Epoch 81/100\n",
            "32/32 [==============================] - 0s 2ms/step - loss: 0.2550 - accuracy: 0.8901 - val_loss: 0.3409 - val_accuracy: 0.8721\n",
            "Epoch 82/100\n",
            "32/32 [==============================] - 0s 2ms/step - loss: 0.2535 - accuracy: 0.9014 - val_loss: 0.3407 - val_accuracy: 0.8721\n",
            "Epoch 83/100\n",
            "32/32 [==============================] - 0s 2ms/step - loss: 0.2522 - accuracy: 0.8994 - val_loss: 0.3405 - val_accuracy: 0.8721\n",
            "Epoch 84/100\n",
            "32/32 [==============================] - 0s 2ms/step - loss: 0.2494 - accuracy: 0.8960 - val_loss: 0.3412 - val_accuracy: 0.8676\n",
            "Epoch 85/100\n",
            "32/32 [==============================] - 0s 3ms/step - loss: 0.2535 - accuracy: 0.8999 - val_loss: 0.3402 - val_accuracy: 0.8721\n",
            "Epoch 86/100\n",
            "32/32 [==============================] - 0s 2ms/step - loss: 0.2499 - accuracy: 0.9043 - val_loss: 0.3412 - val_accuracy: 0.8767\n",
            "Epoch 87/100\n",
            "32/32 [==============================] - 0s 2ms/step - loss: 0.2581 - accuracy: 0.8815 - val_loss: 0.3404 - val_accuracy: 0.8676\n",
            "Epoch 88/100\n",
            "32/32 [==============================] - 0s 2ms/step - loss: 0.2389 - accuracy: 0.9114 - val_loss: 0.3402 - val_accuracy: 0.8721\n",
            "Epoch 89/100\n",
            "32/32 [==============================] - 0s 2ms/step - loss: 0.2774 - accuracy: 0.8760 - val_loss: 0.3399 - val_accuracy: 0.8721\n",
            "Epoch 90/100\n",
            "32/32 [==============================] - 0s 2ms/step - loss: 0.2754 - accuracy: 0.8838 - val_loss: 0.3403 - val_accuracy: 0.8676\n",
            "Epoch 91/100\n",
            "32/32 [==============================] - 0s 2ms/step - loss: 0.2806 - accuracy: 0.8839 - val_loss: 0.3402 - val_accuracy: 0.8676\n",
            "Epoch 92/100\n",
            "32/32 [==============================] - 0s 2ms/step - loss: 0.2517 - accuracy: 0.8909 - val_loss: 0.3421 - val_accuracy: 0.8630\n",
            "Epoch 93/100\n",
            "32/32 [==============================] - 0s 2ms/step - loss: 0.2642 - accuracy: 0.8881 - val_loss: 0.3395 - val_accuracy: 0.8721\n",
            "Epoch 94/100\n",
            "32/32 [==============================] - 0s 2ms/step - loss: 0.2497 - accuracy: 0.8902 - val_loss: 0.3396 - val_accuracy: 0.8721\n",
            "Epoch 95/100\n",
            "32/32 [==============================] - 0s 3ms/step - loss: 0.2504 - accuracy: 0.8930 - val_loss: 0.3399 - val_accuracy: 0.8721\n",
            "Epoch 96/100\n",
            "32/32 [==============================] - 0s 2ms/step - loss: 0.2658 - accuracy: 0.8841 - val_loss: 0.3403 - val_accuracy: 0.8676\n",
            "Epoch 97/100\n",
            "32/32 [==============================] - 0s 2ms/step - loss: 0.2578 - accuracy: 0.8904 - val_loss: 0.3395 - val_accuracy: 0.8676\n",
            "Epoch 98/100\n",
            "32/32 [==============================] - 0s 2ms/step - loss: 0.2410 - accuracy: 0.9024 - val_loss: 0.3397 - val_accuracy: 0.8676\n",
            "Epoch 99/100\n",
            "32/32 [==============================] - 0s 2ms/step - loss: 0.2546 - accuracy: 0.8924 - val_loss: 0.3398 - val_accuracy: 0.8721\n",
            "Epoch 100/100\n",
            "32/32 [==============================] - 0s 2ms/step - loss: 0.2434 - accuracy: 0.9013 - val_loss: 0.3394 - val_accuracy: 0.8676\n"
          ],
          "name": "stdout"
        }
      ]
    },
    {
      "cell_type": "code",
      "metadata": {
        "colab": {
          "base_uri": "https://localhost:8080/"
        },
        "id": "BvsM7tRPVb1z",
        "outputId": "d8479f38-a43c-4c24-d6c8-92d90d24e6b6"
      },
      "source": [
        "model.evaluate(X_test, y_test)[1]"
      ],
      "execution_count": null,
      "outputs": [
        {
          "output_type": "stream",
          "text": [
            "7/7 [==============================] - 0s 2ms/step - loss: 0.3165 - accuracy: 0.8813\n"
          ],
          "name": "stdout"
        },
        {
          "output_type": "execute_result",
          "data": {
            "text/plain": [
              "0.8812785148620605"
            ]
          },
          "metadata": {
            "tags": []
          },
          "execution_count": 11
        }
      ]
    },
    {
      "cell_type": "code",
      "metadata": {
        "colab": {
          "base_uri": "https://localhost:8080/",
          "height": 295
        },
        "id": "MFhTzft3VqmE",
        "outputId": "2118bd1f-74fc-440d-cb53-c11c8ef6b366"
      },
      "source": [
        "plt.plot(history.history['loss'], color = 'blue', label = 'training')\n",
        "plt.xlabel('Epochs')\n",
        "plt.ylabel('Model loss')\n",
        "plt.title('Model loss in epochs')\n",
        "plt.plot(history.history['val_loss'], color='orange', label = 'validation')\n",
        "plt.show()"
      ],
      "execution_count": null,
      "outputs": [
        {
          "output_type": "display_data",
          "data": {
            "image/png": "[encoded data removed]",
            "text/plain": [
              "<Figure size 432x288 with 1 Axes>"
            ]
          },
          "metadata": {
            "tags": [],
            "needs_background": "light"
          }
        }
      ]
    },
    {
      "cell_type": "code",
      "metadata": {
        "colab": {
          "base_uri": "https://localhost:8080/",
          "height": 295
        },
        "id": "fqkaNa3mXCrC",
        "outputId": "3847632f-8c4d-4be0-d2bf-c63cbcb7de9e"
      },
      "source": [
        "plt.plot(history.history['accuracy'], color = 'blue', label = 'training')\n",
        "plt.xlabel('Epochs')\n",
        "plt.ylabel('Accuracy')\n",
        "plt.title('Model accuracy in epochs')\n",
        "plt.plot(history.history['val_accuracy'], color='orange', label = 'validation')\n",
        "plt.show()"
      ],
      "execution_count": null,
      "outputs": [
        {
          "output_type": "display_data",
          "data": {
            "image/png": "[encoded data removed]",
            "text/plain": [
              "<Figure size 432x288 with 1 Axes>"
            ]
          },
          "metadata": {
            "tags": [],
            "needs_background": "light"
          }
        }
      ]
    },
    {
      "cell_type": "markdown",
      "metadata": {
        "id": "HZjA8ANLYm-q"
      },
      "source": [
        "#Second Model Development(FNN with Regularization)"
      ]
    },
    {
      "cell_type": "code",
      "metadata": {
        "id": "LuvTF0Y2YrIN"
      },
      "source": [
        "model = Sequential()\n",
        "model.add(Dense(1000, activation = 'relu', input_shape=(10,), kernel_regularizer=regularizers.l2(.01)))\n",
        "model.add(Dropout(.3))\n",
        "model.add(Dense(1000, activation='relu', kernel_regularizer=regularizers.l2(.01)))\n",
        "model.add(Dropout(.3))\n",
        "model.add(Dense(1000, activation='relu', kernel_regularizer=regularizers.l2(.01)))\n",
        "model.add(Dropout(.3))\n",
        "model.add(Dense(1000, activation = 'relu', kernel_regularizer=regularizers.l2(.01)))\n",
        "model.add(Dropout(.3))\n",
        "model.add(Dense(1, activation = 'sigmoid', kernel_regularizer=regularizers.l2(.01)))"
      ],
      "execution_count": null,
      "outputs": []
    },
    {
      "cell_type": "code",
      "metadata": {
        "id": "4T3amGgHZKDr"
      },
      "source": [
        "model.compile(optimizer = 'sgd', loss='binary_crossentropy', metrics = ['accuracy'])"
      ],
      "execution_count": null,
      "outputs": []
    },
    {
      "cell_type": "code",
      "metadata": {
        "id": "Q3AHl4cKZS05"
      },
      "source": [
        "history = model.fit(X_train, y_train, validation_data=(X_val, y_val), batch_size = 32, epochs = 100)"
      ],
      "execution_count": null,
      "outputs": []
    },
    {
      "cell_type": "code",
      "metadata": {
        "colab": {
          "base_uri": "https://localhost:8080/",
          "height": 295
        },
        "id": "94Q2fX-kZv1N",
        "outputId": "782e2cce-15f6-48bc-fae3-0778cea09237"
      },
      "source": [
        "plt.plot(history.history['loss'], color = 'blue', label = 'train')\n",
        "plt.plot(history.history['val_loss'], color = 'orange', label = 'validation')\n",
        "plt.xlabel('Epochs')\n",
        "plt.ylabel('Loss')\n",
        "plt.title('Model Loss')\n",
        "plt.show()"
      ],
      "execution_count": null,
      "outputs": [
        {
          "output_type": "display_data",
          "data": {
            "image/png": "[encoded data removed]",
            "text/plain": [
              "<Figure size 432x288 with 1 Axes>"
            ]
          },
          "metadata": {
            "tags": [],
            "needs_background": "light"
          }
        }
      ]
    },
    {
      "cell_type": "code",
      "metadata": {
        "colab": {
          "base_uri": "https://localhost:8080/",
          "height": 295
        },
        "id": "fZiGNdkra1wl",
        "outputId": "0cce89bf-9d23-4317-c8d6-29505a93f29e"
      },
      "source": [
        "plt.plot(history.history['accuracy'], color = 'blue', label = 'train')\n",
        "plt.plot(history.history['val_accuracy'], color = 'orange', label = 'valiation')\n",
        "plt.xlabel('Epochs')\n",
        "plt.ylabel('Accuracy')\n",
        "plt.title('Model Accuracy')\n",
        "plt.show()"
      ],
      "execution_count": null,
      "outputs": [
        {
          "output_type": "display_data",
          "data": {
            "image/png": "[encoded data removed]",
            "text/plain": [
              "<Figure size 432x288 with 1 Axes>"
            ]
          },
          "metadata": {
            "tags": [],
            "needs_background": "light"
          }
        }
      ]
    },
    {
      "cell_type": "markdown",
      "metadata": {
        "id": "Cmd5sbnhQFc8"
      },
      "source": [
        "#Model with FNN and Regularization and Regression Loss Function"
      ]
    },
    {
      "cell_type": "code",
      "metadata": {
        "id": "2P7xnkLRQKSt"
      },
      "source": [
        "model = Sequential()\n",
        "model.add(Dense(1000, activation = 'relu', input_shape=(10,), kernel_regularizer=regularizers.l2(.01)))\n",
        "model.add(Dropout(.3))\n",
        "model.add(Dense(1000, activation='relu', kernel_regularizer=regularizers.l2(.01)))\n",
        "model.add(Dropout(.3))\n",
        "model.add(Dense(1000, activation='relu', kernel_regularizer=regularizers.l2(.01)))\n",
        "model.add(Dropout(.3))\n",
        "model.add(Dense(1000, activation = 'relu', kernel_regularizer=regularizers.l2(.01)))\n",
        "model.add(Dropout(.3))\n",
        "model.add(Dense(1, activation = 'sigmoid', kernel_regularizer=regularizers.l2(.01)))"
      ],
      "execution_count": null,
      "outputs": []
    },
    {
      "cell_type": "code",
      "metadata": {
        "id": "Z2jP1_UbQLnp"
      },
      "source": [
        "model.compile(optimizer = 'sgd', loss = 'mse', metrics=['accuracy'])"
      ],
      "execution_count": null,
      "outputs": []
    },
    {
      "cell_type": "code",
      "metadata": {
        "id": "gq3MUs2BT3NB"
      },
      "source": [
        "history = model.fit(X_train, y_train, validation_data=(X_val, y_val), batch_size = 32, epochs = 100)"
      ],
      "execution_count": null,
      "outputs": []
    },
    {
      "cell_type": "code",
      "metadata": {
        "colab": {
          "base_uri": "https://localhost:8080/",
          "height": 295
        },
        "id": "ZCFupQ46Qjkp",
        "outputId": "bcb3aedb-6719-4a7a-8af9-d40a9c87c690"
      },
      "source": [
        "plt.plot(history.history['loss'], color = 'blue', label = 'train')\n",
        "plt.plot(history.history['val_loss'], color = 'orange', label = 'validation')\n",
        "plt.xlabel('Epochs')\n",
        "plt.ylabel('Loss')\n",
        "plt.title('Model Loss')\n",
        "plt.legend()\n",
        "plt.show()"
      ],
      "execution_count": null,
      "outputs": [
        {
          "output_type": "display_data",
          "data": {
            "image/png": "[encoded data removed]",
            "text/plain": [
              "<Figure size 432x288 with 1 Axes>"
            ]
          },
          "metadata": {
            "tags": [],
            "needs_background": "light"
          }
        }
      ]
    },
    {
      "cell_type": "code",
      "metadata": {
        "colab": {
          "base_uri": "https://localhost:8080/",
          "height": 295
        },
        "id": "36BApHUzQrLb",
        "outputId": "14041d56-858f-4f0b-d58d-8fccf684f712"
      },
      "source": [
        "plt.plot(history.history['accuracy'], color = 'blue', label = 'train')\n",
        "plt.plot(history.history['val_accuracy'], color = 'orange', label = 'valiation')\n",
        "plt.xlabel('Epochs')\n",
        "plt.ylabel('Loss')\n",
        "plt.title('Model Accuracy')\n",
        "plt.legend()\n",
        "plt.show()"
      ],
      "execution_count": null,
      "outputs": [
        {
          "output_type": "display_data",
          "data": {
            "image/png": "[encoded data removed]",
            "text/plain": [
              "<Figure size 432x288 with 1 Axes>"
            ]
          },
          "metadata": {
            "tags": [],
            "needs_background": "light"
          }
        }
      ]
    },
    {
      "cell_type": "markdown",
      "metadata": {
        "id": "9yo_j4JkQxFq"
      },
      "source": [
        "# FNN with Regularization and MAE Loss Function"
      ]
    },
    {
      "cell_type": "code",
      "metadata": {
        "id": "HB6e5h4cQ3dH"
      },
      "source": [
        "model = Sequential()\n",
        "model.add(Dense(1000, activation = 'relu', input_shape=(10,), kernel_regularizer=regularizers.l2(.01)))\n",
        "model.add(Dropout(.3))\n",
        "model.add(Dense(1000, activation='relu', kernel_regularizer=regularizers.l2(.01)))\n",
        "model.add(Dropout(.3))\n",
        "model.add(Dense(1000, activation='relu', kernel_regularizer=regularizers.l2(.01)))\n",
        "model.add(Dropout(.3))\n",
        "model.add(Dense(1000, activation = 'relu', kernel_regularizer=regularizers.l2(.01)))\n",
        "model.add(Dropout(.3))\n",
        "model.add(Dense(1, activation = 'sigmoid', kernel_regularizer=regularizers.l2(.01)))"
      ],
      "execution_count": null,
      "outputs": []
    },
    {
      "cell_type": "code",
      "metadata": {
        "id": "Lz0ibw2sQ5qC"
      },
      "source": [
        "model.compile(optimizer = 'sgd', loss = 'mae', metrics=['accuracy'])"
      ],
      "execution_count": null,
      "outputs": []
    },
    {
      "cell_type": "code",
      "metadata": {
        "id": "rPY3uMXET43j"
      },
      "source": [
        "history = model.fit(X_train, y_train, validation_data=(X_val, y_val), batch_size = 32, epochs = 100)"
      ],
      "execution_count": null,
      "outputs": []
    },
    {
      "cell_type": "code",
      "metadata": {
        "colab": {
          "base_uri": "https://localhost:8080/",
          "height": 295
        },
        "id": "sKoICQfdQ93r",
        "outputId": "3ce43971-7ec1-41bb-bd62-b38f92cdac0d"
      },
      "source": [
        "plt.plot(history.history['loss'], color = 'blue', label = 'train')\n",
        "plt.plot(history.history['val_loss'], color = 'orange', label = 'validation')\n",
        "plt.xlabel('Epochs')\n",
        "plt.ylabel('Loss')\n",
        "plt.title('Model Loss')\n",
        "plt.legend()\n",
        "plt.show()"
      ],
      "execution_count": null,
      "outputs": [
        {
          "output_type": "display_data",
          "data": {
            "image/png": "[encoded data removed]",
            "text/plain": [
              "<Figure size 432x288 with 1 Axes>"
            ]
          },
          "metadata": {
            "tags": [],
            "needs_background": "light"
          }
        }
      ]
    },
    {
      "cell_type": "code",
      "metadata": {
        "colab": {
          "base_uri": "https://localhost:8080/",
          "height": 295
        },
        "id": "QlE4f6kXRAtg",
        "outputId": "cc90d170-ef8e-4b5f-dfd3-a583af43e773"
      },
      "source": [
        "plt.plot(history.history['accuracy'], color = 'blue', label = 'train')\n",
        "plt.plot(history.history['val_accuracy'], color = 'orange', label = 'valiation')\n",
        "plt.xlabel('Epochs')\n",
        "plt.ylabel('Loss')\n",
        "plt.title('Model Accuracy')\n",
        "plt.legend()\n",
        "plt.show()"
      ],
      "execution_count": null,
      "outputs": [
        {
          "output_type": "display_data",
          "data": {
            "image/png": "[encoded data removed]",
            "text/plain": [
              "<Figure size 432x288 with 1 Axes>"
            ]
          },
          "metadata": {
            "tags": [],
            "needs_background": "light"
          }
        }
      ]
    }
  ]
}
