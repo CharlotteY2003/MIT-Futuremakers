{
  "nbformat": 4,
  "nbformat_minor": 0,
  "metadata": {
    "colab": {
      "name": "Gender Classification.ipynb",
      "provenance": [],
      "authorship_tag": "ABX9TyMFu4/sAq7z6PkfrjykqBjX",
      "include_colab_link": true
    },
    "kernelspec": {
      "name": "python3",
      "display_name": "Python 3"
    },
    "language_info": {
      "name": "python"
    }
  },
  "cells": [
    {
      "cell_type": "markdown",
      "metadata": {
        "id": "view-in-github",
        "colab_type": "text"
      },
      "source": [
        "<a href=\"https://colab.research.google.com/github/CharlotteY2003/MIT-Futuremakers/blob/main/Gender_Classification.ipynb\" target=\"_parent\"><img src=\"https://colab.research.google.com/assets/colab-badge.svg\" alt=\"Open In Colab\"/></a>"
      ]
    },
    {
      "cell_type": "markdown",
      "metadata": {
        "id": "a6h-JS51HIJV"
      },
      "source": [
        "## Warning: Not fully completed, as accuracy is not as high as Kaggle notebook due to the fact that this notebook was not a complete code by code copy of it (tried to do notebook without looking first, then added some of Kaggle notebook's lines). Will refine over the weekend. Also computing error - took too long to compile so unsure of results. "
      ]
    },
    {
      "cell_type": "code",
      "metadata": {
        "id": "0Gsvl58r7saw"
      },
      "source": [
        "import pandas as pd\n",
        "import numpy as np\n",
        "from keras.models import Sequential\n",
        "from keras.layers import *\n",
        "import matplotlib.pyplot as plt\n",
        "from keras.preprocessing.image import load_img\n",
        "from sklearn.model_selection import train_test_split, KFold\n",
        "from keras.optimizers import SGD, Adam\n",
        "from keras.callbacks import ModelCheckpoint, EarlyStopping\n",
        "from keras.preprocessing.image import ImageDataGenerator\n",
        "import seaborn as sns\n",
        "from sklearn.metrics import confusion_matrix\n",
        "from numpy.random import seed"
      ],
      "execution_count": 1,
      "outputs": []
    },
    {
      "cell_type": "code",
      "metadata": {
        "colab": {
          "base_uri": "https://localhost:8080/",
          "height": 205
        },
        "id": "0MuZJWGR73_B",
        "outputId": "d3956be0-d3c6-4cfc-c24b-5924a9770509"
      },
      "source": [
        "data = pd.read_csv('age_gender.csv')\n",
        "data.head()"
      ],
      "execution_count": 2,
      "outputs": [
        {
          "output_type": "execute_result",
          "data": {
            "text/html": [
              "<div>\n",
              "<style scoped>\n",
              "    .dataframe tbody tr th:only-of-type {\n",
              "        vertical-align: middle;\n",
              "    }\n",
              "\n",
              "    .dataframe tbody tr th {\n",
              "        vertical-align: top;\n",
              "    }\n",
              "\n",
              "    .dataframe thead th {\n",
              "        text-align: right;\n",
              "    }\n",
              "</style>\n",
              "<table border=\"1\" class=\"dataframe\">\n",
              "  <thead>\n",
              "    <tr style=\"text-align: right;\">\n",
              "      <th></th>\n",
              "      <th>age</th>\n",
              "      <th>ethnicity</th>\n",
              "      <th>gender</th>\n",
              "      <th>img_name</th>\n",
              "      <th>pixels</th>\n",
              "    </tr>\n",
              "  </thead>\n",
              "  <tbody>\n",
              "    <tr>\n",
              "      <th>0</th>\n",
              "      <td>1</td>\n",
              "      <td>2</td>\n",
              "      <td>0</td>\n",
              "      <td>20161219203650636.jpg.chip.jpg</td>\n",
              "      <td>129 128 128 126 127 130 133 135 139 142 145 14...</td>\n",
              "    </tr>\n",
              "    <tr>\n",
              "      <th>1</th>\n",
              "      <td>1</td>\n",
              "      <td>2</td>\n",
              "      <td>0</td>\n",
              "      <td>20161219222752047.jpg.chip.jpg</td>\n",
              "      <td>164 74 111 168 169 171 175 182 184 188 193 199...</td>\n",
              "    </tr>\n",
              "    <tr>\n",
              "      <th>2</th>\n",
              "      <td>1</td>\n",
              "      <td>2</td>\n",
              "      <td>0</td>\n",
              "      <td>20161219222832191.jpg.chip.jpg</td>\n",
              "      <td>67 70 71 70 69 67 70 79 90 103 116 132 145 155...</td>\n",
              "    </tr>\n",
              "    <tr>\n",
              "      <th>3</th>\n",
              "      <td>1</td>\n",
              "      <td>2</td>\n",
              "      <td>0</td>\n",
              "      <td>20161220144911423.jpg.chip.jpg</td>\n",
              "      <td>193 197 198 200 199 200 202 203 204 205 208 21...</td>\n",
              "    </tr>\n",
              "    <tr>\n",
              "      <th>4</th>\n",
              "      <td>1</td>\n",
              "      <td>2</td>\n",
              "      <td>0</td>\n",
              "      <td>20161220144914327.jpg.chip.jpg</td>\n",
              "      <td>202 205 209 210 209 209 210 211 212 214 218 21...</td>\n",
              "    </tr>\n",
              "  </tbody>\n",
              "</table>\n",
              "</div>"
            ],
            "text/plain": [
              "   age  ...                                             pixels\n",
              "0    1  ...  129 128 128 126 127 130 133 135 139 142 145 14...\n",
              "1    1  ...  164 74 111 168 169 171 175 182 184 188 193 199...\n",
              "2    1  ...  67 70 71 70 69 67 70 79 90 103 116 132 145 155...\n",
              "3    1  ...  193 197 198 200 199 200 202 203 204 205 208 21...\n",
              "4    1  ...  202 205 209 210 209 209 210 211 212 214 218 21...\n",
              "\n",
              "[5 rows x 5 columns]"
            ]
          },
          "metadata": {
            "tags": []
          },
          "execution_count": 2
        }
      ]
    },
    {
      "cell_type": "code",
      "metadata": {
        "id": "XGnoONav-AKA"
      },
      "source": [
        "#Convert each item of pixels into array\n",
        "def string_to_arr(X, width, height):\n",
        "  X = X.apply(lambda x: np.array(x.split(), dtype='float32'))\n",
        "  X = np.array(X)/255.0\n",
        "  X = np.array([X[i].reshape(width, height, 1) for i in range(X.shape[0])])\n",
        "  return X"
      ],
      "execution_count": 3,
      "outputs": []
    },
    {
      "cell_type": "code",
      "metadata": {
        "id": "YABGzaEMxWlW"
      },
      "source": [
        "def data_preprocess(data):\n",
        "  data = data[data['age'] >= 18]\n",
        "  data.reset_index(drop=True, inplace=True)\n",
        "  data = data.dropna()\n",
        "\n",
        "  num_pixels = len(data['pixels'][0].split())\n",
        "  dimensions = int(np.sqrt(num_pixels))\n",
        "  width = dimensions\n",
        "  height = dimensions\n",
        "\n",
        "  X = data.pixels\n",
        "  y = np.array(data.gender)\n",
        "\n",
        "  X = string_to_arr(X, width, height)\n",
        "\n",
        "  return X,y"
      ],
      "execution_count": 4,
      "outputs": []
    },
    {
      "cell_type": "code",
      "metadata": {
        "id": "HTMbczhA6ibM"
      },
      "source": [
        "def data_aug(X_val, y_val, X_test, y_test):\n",
        "  train_data_gen = ImageDataGenerator(rotation_range=30,\n",
        "                                      width_shift_range = 10,\n",
        "                                      brightness_range=[.8,1.2],\n",
        "                                      zoom_range = [.8,1.2],\n",
        "                                      rescale=1/255)\n",
        "  val_data_gen = ImageDataGenerator(rescale=1/255)\n",
        "  test_data_gen = ImageDataGenerator(rescale=1/255)\n",
        "\n",
        "  #set_seed(11)\n",
        "  #random.seed(11)\n",
        "  np.random.seed(11)\n",
        "\n",
        "  val_data = val_data_gen.flow(X_val, y_val, shuffle = False, seed= 11)\n",
        "  test_data = test_data_gen.flow(X_test, y_test, shuffle=False, seed=11)\n",
        "  \n",
        "  return val_data, test_data, train_data_gen"
      ],
      "execution_count": 5,
      "outputs": []
    },
    {
      "cell_type": "code",
      "metadata": {
        "id": "X2cOVHeZLLEP"
      },
      "source": [
        "def build_model():\n",
        "  model = Sequential()\n",
        "  model.add(Conv2D(filters=64, kernel_size=(3,3), activation='relu', kernel_initializer='he_uniform', input_shape = (48,48,1,)))\n",
        "  model.add(MaxPooling2D())\n",
        "  model.add(BatchNormalization())\n",
        "  \n",
        "  model.add(Conv2D(filters=128, kernel_size=(3,3), activation='relu', kernel_initializer='he_uniform', padding='same'))\n",
        "  model.add(Conv2D(filters=128, kernel_size=(3,3), activation='relu', kernel_initializer='he_uniform'))\n",
        "  model.add(MaxPooling2D())\n",
        "  model.add(Dropout(.3))\n",
        "  model.add(BatchNormalization())\n",
        "\n",
        "  model.add(Conv2D(filters=256, kernel_size=(3,3), activation='relu', kernel_initializer='he_uniform', padding='same'))\n",
        "  model.add(Conv2D(filters=256, kernel_size=(3,3), activation='relu', kernel_initializer='he_uniform'))\n",
        "  model.add(MaxPooling2D())\n",
        "  model.add(Dropout(.3))\n",
        "  model.add(BatchNormalization())\n",
        "  \n",
        "  model.add(Conv2D(filters=512, kernel_size=(3,3), activation='relu', kernel_initializer='he_uniform', padding='same'))\n",
        "  model.add(MaxPooling2D())\n",
        "  model.add(Dropout(.5))\n",
        "  model.add(BatchNormalization())\n",
        "\n",
        "  model.add(Flatten())\n",
        "  model.add(Dense(128, activation='relu', kernel_initializer='he_uniform'))\n",
        "  model.add(Dense(128, activation='softmax', kernel_initializer='he_uniform')) #Why is ouput units not 1 or 2?\n",
        "\n",
        "  #optimizer = SGD(learning_rate=.01, momentum=.9)\n",
        "  model.compile(optimizer = 'adam', loss = 'sparse_categorical_crossentropy', metrics=['accuracy'])\n",
        "  \n",
        "  return model"
      ],
      "execution_count": 6,
      "outputs": []
    },
    {
      "cell_type": "code",
      "metadata": {
        "id": "kWBN13sXMb6Y"
      },
      "source": [
        "def train_test(model, X, y, train_data_gen, nsplit=10):\n",
        "  \n",
        "  histories = list()\n",
        "  scores = list()\n",
        "  kf = KFold(n_splits = nsplit, shuffle=True, random_state=2)\n",
        "\n",
        "  es = EarlyStopping(min_delta=.01, patience=5, mode='min', restore_best_weights=True)\n",
        "  checkpoint = ModelCheckpoint('weights.h5', mode = 'min', save_best_only=True)\n",
        "  \n",
        "  for traini, testi in kf.split(X,y):\n",
        "    #print('hi')\n",
        "    #X_train, X_val = X[traini], X[testi]\n",
        "    #y_train, y_val = y[traini], y[testi]\n",
        "    train_data = train_data_gen.flow(X[traini], y[traini], shuffle=False, seed=11)\n",
        "    temp_val_data = train_data_gen.flow(X[testi], y[testi], shuffle=False, seed=11)\n",
        "    history = model.fit(train_data, epochs = 20, batch_size = 32, validation_data = temp_val_data, \n",
        "                        verbose = 1, steps_per_epoch = 10,\n",
        "                        callbacks=[es,checkpoint])\n",
        "  \n",
        "    _, acc = model.evaluate(temp_val_data)\n",
        "    scores.append(acc)\n",
        "    histories.append(history)\n",
        "\n",
        "  model.load_weights('weights.h5')\n",
        "  \n",
        "  return scores, histories, model"
      ],
      "execution_count": 7,
      "outputs": []
    },
    {
      "cell_type": "code",
      "metadata": {
        "id": "bb4s57RTgkPA"
      },
      "source": [
        "def evaluate_performance(scores, histories):\n",
        "  for i in range(len(histories)):\n",
        "    plt.plot(histories[i].history['loss'], label='train', color='blue')\n",
        "    plt.plot(histories[i].history['val_loss'], label='test', color='orange')\n",
        "    plt.title('Model ' + str(i+1) + \" loss\")\n",
        "    plt.show()\n",
        "\n",
        "    plt.plot(histories[i].history['accuracy'], label = 'train', color='blue')\n",
        "    plt.plot(histories[i].history['val_accuracy'], label = 'test', color='orange')\n",
        "    plt.title('Model ' + str(i+1) + \" accuracy\")\n",
        "    plt.show()\n",
        "\n",
        "  plt.plot(scores)\n",
        "  plt.title('Overall scores')\n",
        "  plt.show()"
      ],
      "execution_count": 8,
      "outputs": []
    },
    {
      "cell_type": "code",
      "metadata": {
        "id": "e2nfH7ofhdfd"
      },
      "source": [
        "def run_test(data):\n",
        "  X,y = data_preprocess(data)\n",
        "  model = build_model()\n",
        "  \n",
        "  X_train, X_te, y_train, y_te = train_test_split(X, y, test_size = .3, random_state = 2)\n",
        "  X_val, X_test, y_val, y_test = train_test_split(X_te, y_te, test_size=.15, random_state=2)\n",
        "  \n",
        "  val_data, test_data, train_data_gen = data_aug(X_val, y_val, X_test, y_test)\n",
        "  \n",
        "  scores, histories, best_model = train_test(model, X_train, y_train, train_data_gen)\n",
        "  evaluate_performance(scores, histories)\n",
        "  \n",
        "  final_train = np.append(X_train, X_val, axis=0)\n",
        "  final_val = np.append(y_train, y_val, axis=0) #Shouldn't it be x,y?\n",
        "  final_training_data = train_data_gen.flow(final_train, final_val, seed=11) #What's the point of this if we're not going to use it?\n",
        "\n",
        "  history = best_model.fit(final_training_data, epochs = 50, batch_size = 32, validation_data = val_data, \n",
        "                        verbose = 1, steps_per_epoch = 10) #confused on this line\n",
        "  print(best_model.evaluate(test_data))\n",
        "\n",
        "  y_pred = best_model.predict_classes(test_data)\n",
        "\n",
        "  cm = confusion_matrix(y_test, y_pred)\n",
        "  sns.heatmap(cm, cmap = 'Greens', cbar=False, annot=True, fmt='d')"
      ],
      "execution_count": 9,
      "outputs": []
    },
    {
      "cell_type": "code",
      "metadata": {
        "colab": {
          "base_uri": "https://localhost:8080/",
          "height": 295
        },
        "id": "xOma5OYLmrDo",
        "outputId": "f2de239d-6725-463f-aef2-bef3dcbf4ec2"
      },
      "source": [
        "run_test(data)"
      ],
      "execution_count": 10,
      "outputs": [
        {
          "output_type": "error",
          "ename": "ValueError",
          "evalue": "ignored",
          "traceback": [
            "\u001b[0;31m---------------------------------------------------------------------------\u001b[0m",
            "\u001b[0;31mValueError\u001b[0m                                Traceback (most recent call last)",
            "\u001b[0;32m<ipython-input-10-548011197378>\u001b[0m in \u001b[0;36m<module>\u001b[0;34m()\u001b[0m\n\u001b[0;32m----> 1\u001b[0;31m \u001b[0mrun_test\u001b[0m\u001b[0;34m(\u001b[0m\u001b[0mdata\u001b[0m\u001b[0;34m)\u001b[0m\u001b[0;34m\u001b[0m\u001b[0;34m\u001b[0m\u001b[0m\n\u001b[0m",
            "\u001b[0;32m<ipython-input-9-51a820751a04>\u001b[0m in \u001b[0;36mrun_test\u001b[0;34m(data)\u001b[0m\n\u001b[1;32m      1\u001b[0m \u001b[0;32mdef\u001b[0m \u001b[0mrun_test\u001b[0m\u001b[0;34m(\u001b[0m\u001b[0mdata\u001b[0m\u001b[0;34m)\u001b[0m\u001b[0;34m:\u001b[0m\u001b[0;34m\u001b[0m\u001b[0;34m\u001b[0m\u001b[0m\n\u001b[0;32m----> 2\u001b[0;31m   \u001b[0mX\u001b[0m\u001b[0;34m,\u001b[0m\u001b[0my\u001b[0m \u001b[0;34m=\u001b[0m \u001b[0mdata_preprocess\u001b[0m\u001b[0;34m(\u001b[0m\u001b[0mdata\u001b[0m\u001b[0;34m)\u001b[0m\u001b[0;34m\u001b[0m\u001b[0;34m\u001b[0m\u001b[0m\n\u001b[0m\u001b[1;32m      3\u001b[0m   \u001b[0mmodel\u001b[0m \u001b[0;34m=\u001b[0m \u001b[0mbuild_model\u001b[0m\u001b[0;34m(\u001b[0m\u001b[0;34m)\u001b[0m\u001b[0;34m\u001b[0m\u001b[0;34m\u001b[0m\u001b[0m\n\u001b[1;32m      4\u001b[0m \u001b[0;34m\u001b[0m\u001b[0m\n\u001b[1;32m      5\u001b[0m   \u001b[0mX_train\u001b[0m\u001b[0;34m,\u001b[0m \u001b[0mX_te\u001b[0m\u001b[0;34m,\u001b[0m \u001b[0my_train\u001b[0m\u001b[0;34m,\u001b[0m \u001b[0my_te\u001b[0m \u001b[0;34m=\u001b[0m \u001b[0mtrain_test_split\u001b[0m\u001b[0;34m(\u001b[0m\u001b[0mX\u001b[0m\u001b[0;34m,\u001b[0m \u001b[0my\u001b[0m\u001b[0;34m,\u001b[0m \u001b[0mtest_size\u001b[0m \u001b[0;34m=\u001b[0m \u001b[0;36m.3\u001b[0m\u001b[0;34m,\u001b[0m \u001b[0mrandom_state\u001b[0m \u001b[0;34m=\u001b[0m \u001b[0;36m2\u001b[0m\u001b[0;34m)\u001b[0m\u001b[0;34m\u001b[0m\u001b[0;34m\u001b[0m\u001b[0m\n",
            "\u001b[0;32m<ipython-input-4-0e81a28ace38>\u001b[0m in \u001b[0;36mdata_preprocess\u001b[0;34m(data)\u001b[0m\n\u001b[1;32m     12\u001b[0m   \u001b[0my\u001b[0m \u001b[0;34m=\u001b[0m \u001b[0mnp\u001b[0m\u001b[0;34m.\u001b[0m\u001b[0marray\u001b[0m\u001b[0;34m(\u001b[0m\u001b[0mdata\u001b[0m\u001b[0;34m.\u001b[0m\u001b[0mgender\u001b[0m\u001b[0;34m)\u001b[0m\u001b[0;34m\u001b[0m\u001b[0;34m\u001b[0m\u001b[0m\n\u001b[1;32m     13\u001b[0m \u001b[0;34m\u001b[0m\u001b[0m\n\u001b[0;32m---> 14\u001b[0;31m   \u001b[0mX\u001b[0m \u001b[0;34m=\u001b[0m \u001b[0mstring_to_arr\u001b[0m\u001b[0;34m(\u001b[0m\u001b[0mX\u001b[0m\u001b[0;34m,\u001b[0m \u001b[0mwidth\u001b[0m\u001b[0;34m,\u001b[0m \u001b[0mheight\u001b[0m\u001b[0;34m)\u001b[0m\u001b[0;34m\u001b[0m\u001b[0;34m\u001b[0m\u001b[0m\n\u001b[0m\u001b[1;32m     15\u001b[0m \u001b[0;34m\u001b[0m\u001b[0m\n\u001b[1;32m     16\u001b[0m   \u001b[0;32mreturn\u001b[0m \u001b[0mX\u001b[0m\u001b[0;34m,\u001b[0m\u001b[0my\u001b[0m\u001b[0;34m\u001b[0m\u001b[0;34m\u001b[0m\u001b[0m\n",
            "\u001b[0;32m<ipython-input-3-4b7ba12d3834>\u001b[0m in \u001b[0;36mstring_to_arr\u001b[0;34m(X, width, height)\u001b[0m\n\u001b[1;32m      3\u001b[0m   \u001b[0mX\u001b[0m \u001b[0;34m=\u001b[0m \u001b[0mX\u001b[0m\u001b[0;34m.\u001b[0m\u001b[0mapply\u001b[0m\u001b[0;34m(\u001b[0m\u001b[0;32mlambda\u001b[0m \u001b[0mx\u001b[0m\u001b[0;34m:\u001b[0m \u001b[0mnp\u001b[0m\u001b[0;34m.\u001b[0m\u001b[0marray\u001b[0m\u001b[0;34m(\u001b[0m\u001b[0mx\u001b[0m\u001b[0;34m.\u001b[0m\u001b[0msplit\u001b[0m\u001b[0;34m(\u001b[0m\u001b[0;34m)\u001b[0m\u001b[0;34m,\u001b[0m \u001b[0mdtype\u001b[0m\u001b[0;34m=\u001b[0m\u001b[0;34m'float32'\u001b[0m\u001b[0;34m)\u001b[0m\u001b[0;34m)\u001b[0m\u001b[0;34m\u001b[0m\u001b[0;34m\u001b[0m\u001b[0m\n\u001b[1;32m      4\u001b[0m   \u001b[0mX\u001b[0m \u001b[0;34m=\u001b[0m \u001b[0mnp\u001b[0m\u001b[0;34m.\u001b[0m\u001b[0marray\u001b[0m\u001b[0;34m(\u001b[0m\u001b[0mX\u001b[0m\u001b[0;34m)\u001b[0m\u001b[0;34m/\u001b[0m\u001b[0;36m255.0\u001b[0m\u001b[0;34m\u001b[0m\u001b[0;34m\u001b[0m\u001b[0m\n\u001b[0;32m----> 5\u001b[0;31m   \u001b[0mX\u001b[0m \u001b[0;34m=\u001b[0m \u001b[0mnp\u001b[0m\u001b[0;34m.\u001b[0m\u001b[0marray\u001b[0m\u001b[0;34m(\u001b[0m\u001b[0;34m[\u001b[0m\u001b[0mX\u001b[0m\u001b[0;34m[\u001b[0m\u001b[0mi\u001b[0m\u001b[0;34m]\u001b[0m\u001b[0;34m.\u001b[0m\u001b[0mreshape\u001b[0m\u001b[0;34m(\u001b[0m\u001b[0mwidth\u001b[0m\u001b[0;34m,\u001b[0m \u001b[0mheight\u001b[0m\u001b[0;34m,\u001b[0m \u001b[0;36m1\u001b[0m\u001b[0;34m)\u001b[0m \u001b[0;32mfor\u001b[0m \u001b[0mi\u001b[0m \u001b[0;32min\u001b[0m \u001b[0mrange\u001b[0m\u001b[0;34m(\u001b[0m\u001b[0mX\u001b[0m\u001b[0;34m.\u001b[0m\u001b[0mshape\u001b[0m\u001b[0;34m[\u001b[0m\u001b[0;36m0\u001b[0m\u001b[0;34m]\u001b[0m\u001b[0;34m)\u001b[0m\u001b[0;34m]\u001b[0m\u001b[0;34m)\u001b[0m\u001b[0;34m\u001b[0m\u001b[0;34m\u001b[0m\u001b[0m\n\u001b[0m\u001b[1;32m      6\u001b[0m   \u001b[0;32mreturn\u001b[0m \u001b[0mX\u001b[0m\u001b[0;34m\u001b[0m\u001b[0;34m\u001b[0m\u001b[0m\n",
            "\u001b[0;32m<ipython-input-3-4b7ba12d3834>\u001b[0m in \u001b[0;36m<listcomp>\u001b[0;34m(.0)\u001b[0m\n\u001b[1;32m      3\u001b[0m   \u001b[0mX\u001b[0m \u001b[0;34m=\u001b[0m \u001b[0mX\u001b[0m\u001b[0;34m.\u001b[0m\u001b[0mapply\u001b[0m\u001b[0;34m(\u001b[0m\u001b[0;32mlambda\u001b[0m \u001b[0mx\u001b[0m\u001b[0;34m:\u001b[0m \u001b[0mnp\u001b[0m\u001b[0;34m.\u001b[0m\u001b[0marray\u001b[0m\u001b[0;34m(\u001b[0m\u001b[0mx\u001b[0m\u001b[0;34m.\u001b[0m\u001b[0msplit\u001b[0m\u001b[0;34m(\u001b[0m\u001b[0;34m)\u001b[0m\u001b[0;34m,\u001b[0m \u001b[0mdtype\u001b[0m\u001b[0;34m=\u001b[0m\u001b[0;34m'float32'\u001b[0m\u001b[0;34m)\u001b[0m\u001b[0;34m)\u001b[0m\u001b[0;34m\u001b[0m\u001b[0;34m\u001b[0m\u001b[0m\n\u001b[1;32m      4\u001b[0m   \u001b[0mX\u001b[0m \u001b[0;34m=\u001b[0m \u001b[0mnp\u001b[0m\u001b[0;34m.\u001b[0m\u001b[0marray\u001b[0m\u001b[0;34m(\u001b[0m\u001b[0mX\u001b[0m\u001b[0;34m)\u001b[0m\u001b[0;34m/\u001b[0m\u001b[0;36m255.0\u001b[0m\u001b[0;34m\u001b[0m\u001b[0;34m\u001b[0m\u001b[0m\n\u001b[0;32m----> 5\u001b[0;31m   \u001b[0mX\u001b[0m \u001b[0;34m=\u001b[0m \u001b[0mnp\u001b[0m\u001b[0;34m.\u001b[0m\u001b[0marray\u001b[0m\u001b[0;34m(\u001b[0m\u001b[0;34m[\u001b[0m\u001b[0mX\u001b[0m\u001b[0;34m[\u001b[0m\u001b[0mi\u001b[0m\u001b[0;34m]\u001b[0m\u001b[0;34m.\u001b[0m\u001b[0mreshape\u001b[0m\u001b[0;34m(\u001b[0m\u001b[0mwidth\u001b[0m\u001b[0;34m,\u001b[0m \u001b[0mheight\u001b[0m\u001b[0;34m,\u001b[0m \u001b[0;36m1\u001b[0m\u001b[0;34m)\u001b[0m \u001b[0;32mfor\u001b[0m \u001b[0mi\u001b[0m \u001b[0;32min\u001b[0m \u001b[0mrange\u001b[0m\u001b[0;34m(\u001b[0m\u001b[0mX\u001b[0m\u001b[0;34m.\u001b[0m\u001b[0mshape\u001b[0m\u001b[0;34m[\u001b[0m\u001b[0;36m0\u001b[0m\u001b[0;34m]\u001b[0m\u001b[0;34m)\u001b[0m\u001b[0;34m]\u001b[0m\u001b[0;34m)\u001b[0m\u001b[0;34m\u001b[0m\u001b[0;34m\u001b[0m\u001b[0m\n\u001b[0m\u001b[1;32m      6\u001b[0m   \u001b[0;32mreturn\u001b[0m \u001b[0mX\u001b[0m\u001b[0;34m\u001b[0m\u001b[0;34m\u001b[0m\u001b[0m\n",
            "\u001b[0;31mValueError\u001b[0m: cannot reshape array of size 172 into shape (48,48,1)"
          ]
        }
      ]
    }
  ]
}