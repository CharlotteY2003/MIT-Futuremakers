{
  "nbformat": 4,
  "nbformat_minor": 0,
  "metadata": {
    "colab": {
      "name": "Autoencoder.ipynb",
      "provenance": [],
      "collapsed_sections": [],
      "authorship_tag": "ABX9TyO7ljC1+W5m5fkvv0nH/4v8",
      "include_colab_link": true
    },
    "kernelspec": {
      "name": "python3",
      "display_name": "Python 3"
    },
    "language_info": {
      "name": "python"
    }
  },
  "cells": [
    {
      "cell_type": "markdown",
      "metadata": {
        "id": "view-in-github",
        "colab_type": "text"
      },
      "source": [
        "<a href=\"https://colab.research.google.com/github/CharlotteY2003/MIT-Futuremakers/blob/main/Autoencoder.ipynb\" target=\"_parent\"><img src=\"https://colab.research.google.com/assets/colab-badge.svg\" alt=\"Open In Colab\"/></a>"
      ]
    },
    {
      "cell_type": "code",
      "metadata": {
        "id": "BcbWiJqE3Rjw"
      },
      "source": [
        "import pandas as pd\n",
        "import numpy as np\n",
        "import keras\n",
        "from keras.models import Sequential\n",
        "from keras.layers import *\n",
        "from keras.optimizers import Adam\n",
        "from keras.datasets import mnist\n",
        "import matplotlib.pyplot as plt\n",
        "from keras import regularizers\n",
        "from keras import backend as K"
      ],
      "execution_count": 1,
      "outputs": []
    },
    {
      "cell_type": "code",
      "metadata": {
        "id": "MED4hhPi3mk4"
      },
      "source": [
        "encoding_dim = 32"
      ],
      "execution_count": 2,
      "outputs": []
    },
    {
      "cell_type": "code",
      "metadata": {
        "id": "v5OCO6ee3eh7"
      },
      "source": [
        "input_img = Input(shape=(784,))\n",
        "encoded = Dense(encoding_dim,activation='relu', activity_regularizer=regularizers.l1(10e-5))(input_img)\n",
        "decoded = Dense(784,activation='sigmoid')(encoded)\n",
        "\n",
        "autoencoder = keras.Model(input_img,decoded)\n"
      ],
      "execution_count": 3,
      "outputs": []
    },
    {
      "cell_type": "code",
      "metadata": {
        "id": "OBBTFLrb4U7Y"
      },
      "source": [
        "encoder = keras.Model(input_img, encoded)"
      ],
      "execution_count": 4,
      "outputs": []
    },
    {
      "cell_type": "code",
      "metadata": {
        "id": "5yxgy-Eb5MYM"
      },
      "source": [
        "encoded_input = keras.Input(shape=(encoding_dim,))\n",
        "decoder_layer = autoencoder.layers[-1]\n",
        "decoder = keras.Model(encoded_input,decoder_layer(encoded_input))"
      ],
      "execution_count": 5,
      "outputs": []
    },
    {
      "cell_type": "code",
      "metadata": {
        "id": "eQ9Muv5x5iWb"
      },
      "source": [
        "autoencoder.compile(optimizer='adam', loss='binary_crossentropy')"
      ],
      "execution_count": 6,
      "outputs": []
    },
    {
      "cell_type": "code",
      "metadata": {
        "colab": {
          "base_uri": "https://localhost:8080/"
        },
        "id": "sBzJcLSp5vHt",
        "outputId": "d09c188f-f44d-4222-8a5b-778e8726514e"
      },
      "source": [
        "(X_train, _), (X_test, _) = mnist.load_data()"
      ],
      "execution_count": 7,
      "outputs": [
        {
          "output_type": "stream",
          "text": [
            "Downloading data from https://storage.googleapis.com/tensorflow/tf-keras-datasets/mnist.npz\n",
            "11493376/11490434 [==============================] - 0s 0us/step\n",
            "11501568/11490434 [==============================] - 0s 0us/step\n"
          ],
          "name": "stdout"
        }
      ]
    },
    {
      "cell_type": "code",
      "metadata": {
        "colab": {
          "base_uri": "https://localhost:8080/"
        },
        "id": "OgWzXrWgZFB9",
        "outputId": "8b8dfedb-f9e9-4844-bc1f-aa517d47fae0"
      },
      "source": [
        "X_train = X_train.astype('float32')/255.0\n",
        "X_test = X_test.astype('float32')/255.0\n",
        "X_train = X_train.reshape(len(X_train),np.prod(X_train.shape[1:]))\n",
        "X_test = X_test.reshape(len(X_test),np.prod(X_test.shape[1:]))\n",
        "print(X_train.shape)\n",
        "print(X_test.shape)"
      ],
      "execution_count": 8,
      "outputs": [
        {
          "output_type": "stream",
          "text": [
            "(60000, 784)\n",
            "(10000, 784)\n"
          ],
          "name": "stdout"
        }
      ]
    },
    {
      "cell_type": "code",
      "metadata": {
        "colab": {
          "base_uri": "https://localhost:8080/"
        },
        "id": "shj_GNGFZuuO",
        "outputId": "fbcb8236-cb04-4a76-f7bf-b3e099249cc2"
      },
      "source": [
        "autoencoder.fit(X_train,X_train,epochs=100,batch_size=256,shuffle=True,validation_data=(X_test,X_test))"
      ],
      "execution_count": 9,
      "outputs": [
        {
          "output_type": "stream",
          "text": [
            "Epoch 1/100\n",
            "235/235 [==============================] - 17s 13ms/step - loss: 0.3874 - val_loss: 0.1976\n",
            "Epoch 2/100\n",
            "235/235 [==============================] - 3s 12ms/step - loss: 0.1878 - val_loss: 0.1621\n",
            "Epoch 3/100\n",
            "235/235 [==============================] - 3s 12ms/step - loss: 0.1582 - val_loss: 0.1436\n",
            "Epoch 4/100\n",
            "235/235 [==============================] - 3s 12ms/step - loss: 0.1415 - val_loss: 0.1318\n",
            "Epoch 5/100\n",
            "235/235 [==============================] - 3s 12ms/step - loss: 0.1306 - val_loss: 0.1239\n",
            "Epoch 6/100\n",
            "235/235 [==============================] - 3s 12ms/step - loss: 0.1237 - val_loss: 0.1184\n",
            "Epoch 7/100\n",
            "235/235 [==============================] - 3s 12ms/step - loss: 0.1183 - val_loss: 0.1143\n",
            "Epoch 8/100\n",
            "235/235 [==============================] - 3s 12ms/step - loss: 0.1147 - val_loss: 0.1111\n",
            "Epoch 9/100\n",
            "235/235 [==============================] - 3s 12ms/step - loss: 0.1117 - val_loss: 0.1088\n",
            "Epoch 10/100\n",
            "235/235 [==============================] - 3s 12ms/step - loss: 0.1097 - val_loss: 0.1072\n",
            "Epoch 11/100\n",
            "235/235 [==============================] - 3s 12ms/step - loss: 0.1079 - val_loss: 0.1060\n",
            "Epoch 12/100\n",
            "235/235 [==============================] - 3s 12ms/step - loss: 0.1068 - val_loss: 0.1052\n",
            "Epoch 13/100\n",
            "235/235 [==============================] - 3s 12ms/step - loss: 0.1060 - val_loss: 0.1045\n",
            "Epoch 14/100\n",
            "235/235 [==============================] - 3s 12ms/step - loss: 0.1053 - val_loss: 0.1039\n",
            "Epoch 15/100\n",
            "235/235 [==============================] - 3s 12ms/step - loss: 0.1051 - val_loss: 0.1034\n",
            "Epoch 16/100\n",
            "235/235 [==============================] - 3s 12ms/step - loss: 0.1047 - val_loss: 0.1030\n",
            "Epoch 17/100\n",
            "235/235 [==============================] - 3s 12ms/step - loss: 0.1041 - val_loss: 0.1026\n",
            "Epoch 18/100\n",
            "235/235 [==============================] - 3s 12ms/step - loss: 0.1037 - val_loss: 0.1023\n",
            "Epoch 19/100\n",
            "235/235 [==============================] - 3s 12ms/step - loss: 0.1036 - val_loss: 0.1020\n",
            "Epoch 20/100\n",
            "235/235 [==============================] - 3s 12ms/step - loss: 0.1029 - val_loss: 0.1018\n",
            "Epoch 21/100\n",
            "235/235 [==============================] - 3s 12ms/step - loss: 0.1027 - val_loss: 0.1014\n",
            "Epoch 22/100\n",
            "235/235 [==============================] - 3s 11ms/step - loss: 0.1025 - val_loss: 0.1012\n",
            "Epoch 23/100\n",
            "235/235 [==============================] - 3s 12ms/step - loss: 0.1021 - val_loss: 0.1010\n",
            "Epoch 24/100\n",
            "235/235 [==============================] - 3s 12ms/step - loss: 0.1020 - val_loss: 0.1008\n",
            "Epoch 25/100\n",
            "235/235 [==============================] - 3s 12ms/step - loss: 0.1019 - val_loss: 0.1006\n",
            "Epoch 26/100\n",
            "235/235 [==============================] - 3s 12ms/step - loss: 0.1016 - val_loss: 0.1004\n",
            "Epoch 27/100\n",
            "235/235 [==============================] - 3s 12ms/step - loss: 0.1015 - val_loss: 0.1002\n",
            "Epoch 28/100\n",
            "235/235 [==============================] - 3s 12ms/step - loss: 0.1014 - val_loss: 0.1000\n",
            "Epoch 29/100\n",
            "235/235 [==============================] - 3s 12ms/step - loss: 0.1012 - val_loss: 0.0999\n",
            "Epoch 30/100\n",
            "235/235 [==============================] - 3s 12ms/step - loss: 0.1009 - val_loss: 0.0997\n",
            "Epoch 31/100\n",
            "235/235 [==============================] - 3s 12ms/step - loss: 0.1008 - val_loss: 0.0996\n",
            "Epoch 32/100\n",
            "235/235 [==============================] - 3s 12ms/step - loss: 0.1007 - val_loss: 0.0994\n",
            "Epoch 33/100\n",
            "235/235 [==============================] - 3s 12ms/step - loss: 0.1006 - val_loss: 0.0993\n",
            "Epoch 34/100\n",
            "235/235 [==============================] - 3s 12ms/step - loss: 0.1004 - val_loss: 0.0992\n",
            "Epoch 35/100\n",
            "235/235 [==============================] - 3s 12ms/step - loss: 0.1003 - val_loss: 0.0991\n",
            "Epoch 36/100\n",
            "235/235 [==============================] - 3s 12ms/step - loss: 0.1000 - val_loss: 0.0990\n",
            "Epoch 37/100\n",
            "235/235 [==============================] - 3s 12ms/step - loss: 0.0999 - val_loss: 0.0989\n",
            "Epoch 38/100\n",
            "235/235 [==============================] - 3s 12ms/step - loss: 0.0999 - val_loss: 0.0988\n",
            "Epoch 39/100\n",
            "235/235 [==============================] - 3s 12ms/step - loss: 0.0998 - val_loss: 0.0987\n",
            "Epoch 40/100\n",
            "235/235 [==============================] - 3s 12ms/step - loss: 0.0997 - val_loss: 0.0986\n",
            "Epoch 41/100\n",
            "235/235 [==============================] - 3s 12ms/step - loss: 0.0996 - val_loss: 0.0985\n",
            "Epoch 42/100\n",
            "235/235 [==============================] - 3s 12ms/step - loss: 0.0995 - val_loss: 0.0984\n",
            "Epoch 43/100\n",
            "235/235 [==============================] - 3s 12ms/step - loss: 0.0994 - val_loss: 0.0983\n",
            "Epoch 44/100\n",
            "235/235 [==============================] - 3s 12ms/step - loss: 0.0994 - val_loss: 0.0983\n",
            "Epoch 45/100\n",
            "235/235 [==============================] - 3s 12ms/step - loss: 0.0991 - val_loss: 0.0982\n",
            "Epoch 46/100\n",
            "235/235 [==============================] - 3s 12ms/step - loss: 0.0991 - val_loss: 0.0981\n",
            "Epoch 47/100\n",
            "235/235 [==============================] - 3s 12ms/step - loss: 0.0991 - val_loss: 0.0980\n",
            "Epoch 48/100\n",
            "235/235 [==============================] - 3s 12ms/step - loss: 0.0989 - val_loss: 0.0979\n",
            "Epoch 49/100\n",
            "235/235 [==============================] - 3s 12ms/step - loss: 0.0991 - val_loss: 0.0979\n",
            "Epoch 50/100\n",
            "235/235 [==============================] - 3s 12ms/step - loss: 0.0988 - val_loss: 0.0978\n",
            "Epoch 51/100\n",
            "235/235 [==============================] - 3s 12ms/step - loss: 0.0987 - val_loss: 0.0978\n",
            "Epoch 52/100\n",
            "235/235 [==============================] - 3s 12ms/step - loss: 0.0986 - val_loss: 0.0977\n",
            "Epoch 53/100\n",
            "235/235 [==============================] - 3s 12ms/step - loss: 0.0986 - val_loss: 0.0976\n",
            "Epoch 54/100\n",
            "235/235 [==============================] - 3s 12ms/step - loss: 0.0986 - val_loss: 0.0975\n",
            "Epoch 55/100\n",
            "235/235 [==============================] - 3s 12ms/step - loss: 0.0989 - val_loss: 0.0975\n",
            "Epoch 56/100\n",
            "235/235 [==============================] - 3s 12ms/step - loss: 0.0986 - val_loss: 0.0974\n",
            "Epoch 57/100\n",
            "235/235 [==============================] - 3s 12ms/step - loss: 0.0985 - val_loss: 0.0974\n",
            "Epoch 58/100\n",
            "235/235 [==============================] - 3s 12ms/step - loss: 0.0985 - val_loss: 0.0973\n",
            "Epoch 59/100\n",
            "235/235 [==============================] - 3s 12ms/step - loss: 0.0982 - val_loss: 0.0973\n",
            "Epoch 60/100\n",
            "235/235 [==============================] - 3s 12ms/step - loss: 0.0984 - val_loss: 0.0972\n",
            "Epoch 61/100\n",
            "235/235 [==============================] - 3s 12ms/step - loss: 0.0982 - val_loss: 0.0972\n",
            "Epoch 62/100\n",
            "235/235 [==============================] - 3s 12ms/step - loss: 0.0983 - val_loss: 0.0971\n",
            "Epoch 63/100\n",
            "235/235 [==============================] - 3s 12ms/step - loss: 0.0982 - val_loss: 0.0971\n",
            "Epoch 64/100\n",
            "235/235 [==============================] - 3s 12ms/step - loss: 0.0981 - val_loss: 0.0971\n",
            "Epoch 65/100\n",
            "235/235 [==============================] - 3s 12ms/step - loss: 0.0980 - val_loss: 0.0969\n",
            "Epoch 66/100\n",
            "235/235 [==============================] - 3s 12ms/step - loss: 0.0980 - val_loss: 0.0969\n",
            "Epoch 67/100\n",
            "235/235 [==============================] - 3s 12ms/step - loss: 0.0981 - val_loss: 0.0969\n",
            "Epoch 68/100\n",
            "235/235 [==============================] - 3s 12ms/step - loss: 0.0980 - val_loss: 0.0969\n",
            "Epoch 69/100\n",
            "235/235 [==============================] - 3s 12ms/step - loss: 0.0978 - val_loss: 0.0968\n",
            "Epoch 70/100\n",
            "235/235 [==============================] - 3s 12ms/step - loss: 0.0978 - val_loss: 0.0968\n",
            "Epoch 71/100\n",
            "235/235 [==============================] - 3s 12ms/step - loss: 0.0978 - val_loss: 0.0968\n",
            "Epoch 72/100\n",
            "235/235 [==============================] - 3s 12ms/step - loss: 0.0977 - val_loss: 0.0967\n",
            "Epoch 73/100\n",
            "235/235 [==============================] - 3s 12ms/step - loss: 0.0976 - val_loss: 0.0967\n",
            "Epoch 74/100\n",
            "235/235 [==============================] - 3s 12ms/step - loss: 0.0973 - val_loss: 0.0966\n",
            "Epoch 75/100\n",
            "235/235 [==============================] - 3s 12ms/step - loss: 0.0976 - val_loss: 0.0966\n",
            "Epoch 76/100\n",
            "235/235 [==============================] - 3s 12ms/step - loss: 0.0978 - val_loss: 0.0965\n",
            "Epoch 77/100\n",
            "235/235 [==============================] - 3s 12ms/step - loss: 0.0976 - val_loss: 0.0965\n",
            "Epoch 78/100\n",
            "235/235 [==============================] - 3s 12ms/step - loss: 0.0975 - val_loss: 0.0965\n",
            "Epoch 79/100\n",
            "235/235 [==============================] - 3s 12ms/step - loss: 0.0974 - val_loss: 0.0965\n",
            "Epoch 80/100\n",
            "235/235 [==============================] - 3s 12ms/step - loss: 0.0974 - val_loss: 0.0964\n",
            "Epoch 81/100\n",
            "235/235 [==============================] - 3s 12ms/step - loss: 0.0974 - val_loss: 0.0964\n",
            "Epoch 82/100\n",
            "235/235 [==============================] - 3s 12ms/step - loss: 0.0972 - val_loss: 0.0964\n",
            "Epoch 83/100\n",
            "235/235 [==============================] - 3s 12ms/step - loss: 0.0973 - val_loss: 0.0963\n",
            "Epoch 84/100\n",
            "235/235 [==============================] - 3s 12ms/step - loss: 0.0973 - val_loss: 0.0964\n",
            "Epoch 85/100\n",
            "235/235 [==============================] - 3s 12ms/step - loss: 0.0972 - val_loss: 0.0963\n",
            "Epoch 86/100\n",
            "235/235 [==============================] - 3s 12ms/step - loss: 0.0974 - val_loss: 0.0962\n",
            "Epoch 87/100\n",
            "235/235 [==============================] - 3s 12ms/step - loss: 0.0973 - val_loss: 0.0962\n",
            "Epoch 88/100\n",
            "235/235 [==============================] - 3s 12ms/step - loss: 0.0971 - val_loss: 0.0962\n",
            "Epoch 89/100\n",
            "235/235 [==============================] - 3s 12ms/step - loss: 0.0971 - val_loss: 0.0961\n",
            "Epoch 90/100\n",
            "235/235 [==============================] - 3s 13ms/step - loss: 0.0971 - val_loss: 0.0961\n",
            "Epoch 91/100\n",
            "235/235 [==============================] - 3s 12ms/step - loss: 0.0971 - val_loss: 0.0961\n",
            "Epoch 92/100\n",
            "235/235 [==============================] - 3s 12ms/step - loss: 0.0972 - val_loss: 0.0961\n",
            "Epoch 93/100\n",
            "235/235 [==============================] - 3s 12ms/step - loss: 0.0970 - val_loss: 0.0961\n",
            "Epoch 94/100\n",
            "235/235 [==============================] - 3s 12ms/step - loss: 0.0969 - val_loss: 0.0961\n",
            "Epoch 95/100\n",
            "235/235 [==============================] - 3s 12ms/step - loss: 0.0970 - val_loss: 0.0960\n",
            "Epoch 96/100\n",
            "235/235 [==============================] - 3s 12ms/step - loss: 0.0970 - val_loss: 0.0960\n",
            "Epoch 97/100\n",
            "235/235 [==============================] - 3s 12ms/step - loss: 0.0967 - val_loss: 0.0959\n",
            "Epoch 98/100\n",
            "235/235 [==============================] - 3s 12ms/step - loss: 0.0968 - val_loss: 0.0959\n",
            "Epoch 99/100\n",
            "235/235 [==============================] - 3s 12ms/step - loss: 0.0967 - val_loss: 0.0959\n",
            "Epoch 100/100\n",
            "235/235 [==============================] - 3s 12ms/step - loss: 0.0970 - val_loss: 0.0958\n"
          ],
          "name": "stdout"
        },
        {
          "output_type": "execute_result",
          "data": {
            "text/plain": [
              "<keras.callbacks.History at 0x7f1feffc2f90>"
            ]
          },
          "metadata": {
            "tags": []
          },
          "execution_count": 9
        }
      ]
    },
    {
      "cell_type": "code",
      "metadata": {
        "id": "iPFBFjcBao5X"
      },
      "source": [
        "encoded_imgs = encoder.predict(X_test)\n",
        "decoded_imgs = decoder.predict(encoded_imgs)"
      ],
      "execution_count": 10,
      "outputs": []
    },
    {
      "cell_type": "code",
      "metadata": {
        "colab": {
          "base_uri": "https://localhost:8080/",
          "height": 181
        },
        "id": "FML4e1yea1jt",
        "outputId": "e7f9374b-6b17-4c27-bcff-ee510a500d9d"
      },
      "source": [
        "n=10\n",
        "for i in range(n):\n",
        "  ax = plt.subplot(2,n,i+1)\n",
        "  plt.imshow(X_test[i].reshape(28,28))\n",
        "  plt.gray()\n",
        "  ax.get_xaxis().set_visible(False)\n",
        "  ax.get_yaxis().set_visible(False)\n",
        "\n",
        "  ax = plt.subplot(2, n, 1+i+n)\n",
        "  plt.imshow(decoded_imgs[i].reshape(28,28))\n",
        "  plt.gray()\n",
        "  ax.get_xaxis().set_visible(False)\n",
        "  ax.get_yaxis().set_visible(False)\n",
        "plt.show()"
      ],
      "execution_count": 11,
      "outputs": [
        {
          "output_type": "display_data",
          "data": {
            "image/png": "[encoded data removed]",
            "text/plain": [
              "<Figure size 432x288 with 20 Axes>"
            ]
          },
          "metadata": {
            "tags": [],
            "needs_background": "light"
          }
        }
      ]
    },
    {
      "cell_type": "markdown",
      "metadata": {
        "id": "ZCqqfaZPc6MD"
      },
      "source": [
        "#Deep Autoencoder"
      ]
    },
    {
      "cell_type": "code",
      "metadata": {
        "id": "5j9_1OFJc7he"
      },
      "source": [
        "input_img = Input(shape=(784,))\n",
        "encoded = Dense(128,activation='relu')(input_img)\n",
        "encoded = Dense(64,activation='relu')(encoded)\n",
        "encoded = Dense(32,activation='relu')(encoded)\n",
        "\n",
        "decoded = Dense(64, activation='relu')(encoded)\n",
        "decoded = Dense(128, activation='relu')(decoded)\n",
        "decoded = Dense(784, activation='sigmoid')(decoded)\n",
        "\n",
        "deep_autoencoder = keras.Model(input_img,decoded)\n",
        "deep_autoencoder.compile(optimizer='adam', loss='binary_crossentropy')"
      ],
      "execution_count": 12,
      "outputs": []
    },
    {
      "cell_type": "code",
      "metadata": {
        "colab": {
          "base_uri": "https://localhost:8080/"
        },
        "id": "mmLzKiBqdr-J",
        "outputId": "e5522ba5-5b25-47df-8a05-3eb7d93fe6ac"
      },
      "source": [
        "deep_autoencoder.fit(X_train,X_train,epochs=100,batch_size=256,shuffle=True,validation_data=(X_test,X_test))"
      ],
      "execution_count": 13,
      "outputs": [
        {
          "output_type": "stream",
          "text": [
            "Epoch 1/100\n",
            "235/235 [==============================] - 5s 19ms/step - loss: 0.3398 - val_loss: 0.1626\n",
            "Epoch 2/100\n",
            "235/235 [==============================] - 4s 18ms/step - loss: 0.1545 - val_loss: 0.1363\n",
            "Epoch 3/100\n",
            "235/235 [==============================] - 4s 18ms/step - loss: 0.1339 - val_loss: 0.1238\n",
            "Epoch 4/100\n",
            "235/235 [==============================] - 4s 18ms/step - loss: 0.1233 - val_loss: 0.1177\n",
            "Epoch 5/100\n",
            "235/235 [==============================] - 4s 18ms/step - loss: 0.1173 - val_loss: 0.1133\n",
            "Epoch 6/100\n",
            "235/235 [==============================] - 4s 18ms/step - loss: 0.1134 - val_loss: 0.1093\n",
            "Epoch 7/100\n",
            "235/235 [==============================] - 4s 18ms/step - loss: 0.1094 - val_loss: 0.1061\n",
            "Epoch 8/100\n",
            "235/235 [==============================] - 4s 18ms/step - loss: 0.1068 - val_loss: 0.1044\n",
            "Epoch 9/100\n",
            "235/235 [==============================] - 4s 18ms/step - loss: 0.1046 - val_loss: 0.1022\n",
            "Epoch 10/100\n",
            "235/235 [==============================] - 4s 18ms/step - loss: 0.1032 - val_loss: 0.1005\n",
            "Epoch 11/100\n",
            "235/235 [==============================] - 4s 18ms/step - loss: 0.1012 - val_loss: 0.0996\n",
            "Epoch 12/100\n",
            "235/235 [==============================] - 4s 19ms/step - loss: 0.1001 - val_loss: 0.0988\n",
            "Epoch 13/100\n",
            "235/235 [==============================] - 4s 18ms/step - loss: 0.0990 - val_loss: 0.0971\n",
            "Epoch 14/100\n",
            "235/235 [==============================] - 4s 18ms/step - loss: 0.0979 - val_loss: 0.0960\n",
            "Epoch 15/100\n",
            "235/235 [==============================] - 4s 19ms/step - loss: 0.0970 - val_loss: 0.0953\n",
            "Epoch 16/100\n",
            "235/235 [==============================] - 4s 18ms/step - loss: 0.0960 - val_loss: 0.0942\n",
            "Epoch 17/100\n",
            "235/235 [==============================] - 4s 18ms/step - loss: 0.0950 - val_loss: 0.0935\n",
            "Epoch 18/100\n",
            "235/235 [==============================] - 4s 18ms/step - loss: 0.0944 - val_loss: 0.0927\n",
            "Epoch 19/100\n",
            "235/235 [==============================] - 4s 18ms/step - loss: 0.0937 - val_loss: 0.0923\n",
            "Epoch 20/100\n",
            "235/235 [==============================] - 4s 18ms/step - loss: 0.0929 - val_loss: 0.0918\n",
            "Epoch 21/100\n",
            "235/235 [==============================] - 4s 18ms/step - loss: 0.0924 - val_loss: 0.0914\n",
            "Epoch 22/100\n",
            "235/235 [==============================] - 4s 18ms/step - loss: 0.0919 - val_loss: 0.0908\n",
            "Epoch 23/100\n",
            "235/235 [==============================] - 4s 18ms/step - loss: 0.0916 - val_loss: 0.0903\n",
            "Epoch 24/100\n",
            "235/235 [==============================] - 4s 18ms/step - loss: 0.0912 - val_loss: 0.0904\n",
            "Epoch 25/100\n",
            "235/235 [==============================] - 4s 18ms/step - loss: 0.0909 - val_loss: 0.0898\n",
            "Epoch 26/100\n",
            "235/235 [==============================] - 4s 18ms/step - loss: 0.0905 - val_loss: 0.0896\n",
            "Epoch 27/100\n",
            "235/235 [==============================] - 4s 18ms/step - loss: 0.0902 - val_loss: 0.0891\n",
            "Epoch 28/100\n",
            "235/235 [==============================] - 4s 18ms/step - loss: 0.0897 - val_loss: 0.0893\n",
            "Epoch 29/100\n",
            "235/235 [==============================] - 4s 18ms/step - loss: 0.0897 - val_loss: 0.0889\n",
            "Epoch 30/100\n",
            "235/235 [==============================] - 4s 18ms/step - loss: 0.0892 - val_loss: 0.0884\n",
            "Epoch 31/100\n",
            "235/235 [==============================] - 4s 18ms/step - loss: 0.0888 - val_loss: 0.0882\n",
            "Epoch 32/100\n",
            "235/235 [==============================] - 4s 18ms/step - loss: 0.0888 - val_loss: 0.0882\n",
            "Epoch 33/100\n",
            "235/235 [==============================] - 4s 18ms/step - loss: 0.0887 - val_loss: 0.0879\n",
            "Epoch 34/100\n",
            "235/235 [==============================] - 4s 18ms/step - loss: 0.0883 - val_loss: 0.0878\n",
            "Epoch 35/100\n",
            "235/235 [==============================] - 4s 18ms/step - loss: 0.0879 - val_loss: 0.0874\n",
            "Epoch 36/100\n",
            "235/235 [==============================] - 4s 18ms/step - loss: 0.0880 - val_loss: 0.0869\n",
            "Epoch 37/100\n",
            "235/235 [==============================] - 4s 18ms/step - loss: 0.0874 - val_loss: 0.0867\n",
            "Epoch 38/100\n",
            "235/235 [==============================] - 4s 18ms/step - loss: 0.0871 - val_loss: 0.0869\n",
            "Epoch 39/100\n",
            "235/235 [==============================] - 4s 18ms/step - loss: 0.0872 - val_loss: 0.0863\n",
            "Epoch 40/100\n",
            "235/235 [==============================] - 4s 18ms/step - loss: 0.0868 - val_loss: 0.0862\n",
            "Epoch 41/100\n",
            "235/235 [==============================] - 4s 18ms/step - loss: 0.0867 - val_loss: 0.0860\n",
            "Epoch 42/100\n",
            "235/235 [==============================] - 4s 18ms/step - loss: 0.0866 - val_loss: 0.0862\n",
            "Epoch 43/100\n",
            "235/235 [==============================] - 4s 18ms/step - loss: 0.0865 - val_loss: 0.0860\n",
            "Epoch 44/100\n",
            "235/235 [==============================] - 4s 18ms/step - loss: 0.0863 - val_loss: 0.0856\n",
            "Epoch 45/100\n",
            "235/235 [==============================] - 4s 18ms/step - loss: 0.0860 - val_loss: 0.0861\n",
            "Epoch 46/100\n",
            "235/235 [==============================] - 4s 18ms/step - loss: 0.0862 - val_loss: 0.0856\n",
            "Epoch 47/100\n",
            "235/235 [==============================] - 4s 18ms/step - loss: 0.0858 - val_loss: 0.0853\n",
            "Epoch 48/100\n",
            "235/235 [==============================] - 4s 18ms/step - loss: 0.0858 - val_loss: 0.0855\n",
            "Epoch 49/100\n",
            "235/235 [==============================] - 4s 18ms/step - loss: 0.0858 - val_loss: 0.0853\n",
            "Epoch 50/100\n",
            "235/235 [==============================] - 4s 18ms/step - loss: 0.0855 - val_loss: 0.0853\n",
            "Epoch 51/100\n",
            "235/235 [==============================] - 4s 18ms/step - loss: 0.0853 - val_loss: 0.0847\n",
            "Epoch 52/100\n",
            "235/235 [==============================] - 4s 19ms/step - loss: 0.0853 - val_loss: 0.0848\n",
            "Epoch 53/100\n",
            "235/235 [==============================] - 4s 19ms/step - loss: 0.0852 - val_loss: 0.0847\n",
            "Epoch 54/100\n",
            "235/235 [==============================] - 4s 19ms/step - loss: 0.0854 - val_loss: 0.0850\n",
            "Epoch 55/100\n",
            "235/235 [==============================] - 4s 18ms/step - loss: 0.0853 - val_loss: 0.0846\n",
            "Epoch 56/100\n",
            "235/235 [==============================] - 4s 18ms/step - loss: 0.0848 - val_loss: 0.0847\n",
            "Epoch 57/100\n",
            "235/235 [==============================] - 4s 19ms/step - loss: 0.0850 - val_loss: 0.0845\n",
            "Epoch 58/100\n",
            "235/235 [==============================] - 4s 18ms/step - loss: 0.0849 - val_loss: 0.0844\n",
            "Epoch 59/100\n",
            "235/235 [==============================] - 4s 18ms/step - loss: 0.0845 - val_loss: 0.0843\n",
            "Epoch 60/100\n",
            "235/235 [==============================] - 4s 19ms/step - loss: 0.0847 - val_loss: 0.0842\n",
            "Epoch 61/100\n",
            "235/235 [==============================] - 4s 19ms/step - loss: 0.0845 - val_loss: 0.0843\n",
            "Epoch 62/100\n",
            "235/235 [==============================] - 4s 18ms/step - loss: 0.0844 - val_loss: 0.0843\n",
            "Epoch 63/100\n",
            "235/235 [==============================] - 4s 18ms/step - loss: 0.0843 - val_loss: 0.0841\n",
            "Epoch 64/100\n",
            "235/235 [==============================] - 4s 18ms/step - loss: 0.0842 - val_loss: 0.0842\n",
            "Epoch 65/100\n",
            "235/235 [==============================] - 4s 18ms/step - loss: 0.0846 - val_loss: 0.0840\n",
            "Epoch 66/100\n",
            "235/235 [==============================] - 4s 18ms/step - loss: 0.0843 - val_loss: 0.0839\n",
            "Epoch 67/100\n",
            "235/235 [==============================] - 4s 18ms/step - loss: 0.0842 - val_loss: 0.0839\n",
            "Epoch 68/100\n",
            "235/235 [==============================] - 4s 18ms/step - loss: 0.0842 - val_loss: 0.0840\n",
            "Epoch 69/100\n",
            "235/235 [==============================] - 4s 18ms/step - loss: 0.0841 - val_loss: 0.0837\n",
            "Epoch 70/100\n",
            "235/235 [==============================] - 4s 18ms/step - loss: 0.0842 - val_loss: 0.0839\n",
            "Epoch 71/100\n",
            "235/235 [==============================] - 4s 18ms/step - loss: 0.0841 - val_loss: 0.0838\n",
            "Epoch 72/100\n",
            "235/235 [==============================] - 4s 18ms/step - loss: 0.0841 - val_loss: 0.0839\n",
            "Epoch 73/100\n",
            "235/235 [==============================] - 4s 18ms/step - loss: 0.0839 - val_loss: 0.0837\n",
            "Epoch 74/100\n",
            "235/235 [==============================] - 4s 18ms/step - loss: 0.0836 - val_loss: 0.0837\n",
            "Epoch 75/100\n",
            "235/235 [==============================] - 4s 18ms/step - loss: 0.0838 - val_loss: 0.0835\n",
            "Epoch 76/100\n",
            "235/235 [==============================] - 4s 18ms/step - loss: 0.0838 - val_loss: 0.0837\n",
            "Epoch 77/100\n",
            "235/235 [==============================] - 4s 19ms/step - loss: 0.0838 - val_loss: 0.0835\n",
            "Epoch 78/100\n",
            "235/235 [==============================] - 4s 18ms/step - loss: 0.0839 - val_loss: 0.0833\n",
            "Epoch 79/100\n",
            "235/235 [==============================] - 4s 19ms/step - loss: 0.0835 - val_loss: 0.0833\n",
            "Epoch 80/100\n",
            "235/235 [==============================] - 4s 19ms/step - loss: 0.0836 - val_loss: 0.0833\n",
            "Epoch 81/100\n",
            "235/235 [==============================] - 4s 18ms/step - loss: 0.0837 - val_loss: 0.0831\n",
            "Epoch 82/100\n",
            "235/235 [==============================] - 4s 19ms/step - loss: 0.0834 - val_loss: 0.0832\n",
            "Epoch 83/100\n",
            "235/235 [==============================] - 4s 18ms/step - loss: 0.0835 - val_loss: 0.0833\n",
            "Epoch 84/100\n",
            "235/235 [==============================] - 4s 19ms/step - loss: 0.0834 - val_loss: 0.0833\n",
            "Epoch 85/100\n",
            "235/235 [==============================] - 4s 19ms/step - loss: 0.0836 - val_loss: 0.0832\n",
            "Epoch 86/100\n",
            "235/235 [==============================] - 4s 19ms/step - loss: 0.0832 - val_loss: 0.0830\n",
            "Epoch 87/100\n",
            "235/235 [==============================] - 4s 18ms/step - loss: 0.0833 - val_loss: 0.0832\n",
            "Epoch 88/100\n",
            "235/235 [==============================] - 4s 19ms/step - loss: 0.0833 - val_loss: 0.0830\n",
            "Epoch 89/100\n",
            "235/235 [==============================] - 4s 19ms/step - loss: 0.0833 - val_loss: 0.0830\n",
            "Epoch 90/100\n",
            "235/235 [==============================] - 4s 19ms/step - loss: 0.0832 - val_loss: 0.0833\n",
            "Epoch 91/100\n",
            "235/235 [==============================] - 4s 19ms/step - loss: 0.0830 - val_loss: 0.0829\n",
            "Epoch 92/100\n",
            "235/235 [==============================] - 4s 19ms/step - loss: 0.0831 - val_loss: 0.0828\n",
            "Epoch 93/100\n",
            "235/235 [==============================] - 4s 18ms/step - loss: 0.0832 - val_loss: 0.0830\n",
            "Epoch 94/100\n",
            "235/235 [==============================] - 4s 18ms/step - loss: 0.0829 - val_loss: 0.0831\n",
            "Epoch 95/100\n",
            "235/235 [==============================] - 4s 18ms/step - loss: 0.0831 - val_loss: 0.0828\n",
            "Epoch 96/100\n",
            "235/235 [==============================] - 4s 18ms/step - loss: 0.0828 - val_loss: 0.0829\n",
            "Epoch 97/100\n",
            "235/235 [==============================] - 4s 18ms/step - loss: 0.0831 - val_loss: 0.0831\n",
            "Epoch 98/100\n",
            "235/235 [==============================] - 4s 18ms/step - loss: 0.0831 - val_loss: 0.0827\n",
            "Epoch 99/100\n",
            "235/235 [==============================] - 4s 19ms/step - loss: 0.0828 - val_loss: 0.0828\n",
            "Epoch 100/100\n",
            "235/235 [==============================] - 4s 18ms/step - loss: 0.0831 - val_loss: 0.0830\n"
          ],
          "name": "stdout"
        },
        {
          "output_type": "execute_result",
          "data": {
            "text/plain": [
              "<keras.callbacks.History at 0x7f1fef000e90>"
            ]
          },
          "metadata": {
            "tags": []
          },
          "execution_count": 13
        }
      ]
    },
    {
      "cell_type": "code",
      "metadata": {
        "id": "RyIzw968dzcs"
      },
      "source": [
        "encoded_imgs = deep_autoencoder.predict(X_test)\n",
        "decoded_imgs = deep_autoencoder.predict(encoded_imgs)"
      ],
      "execution_count": 14,
      "outputs": []
    },
    {
      "cell_type": "code",
      "metadata": {
        "colab": {
          "base_uri": "https://localhost:8080/",
          "height": 181
        },
        "id": "NpSKsfRXd-j2",
        "outputId": "1aee1328-e378-45af-d3c3-a1dc2e5f85ef"
      },
      "source": [
        "n=10\n",
        "for i in range(n):\n",
        "  ax = plt.subplot(2,n,i+1)\n",
        "  plt.imshow(X_test[i].reshape(28,28))\n",
        "  plt.gray()\n",
        "  ax.get_xaxis().set_visible(False)\n",
        "  ax.get_yaxis().set_visible(False)\n",
        "\n",
        "  ax = plt.subplot(2, n, 1+i+n)\n",
        "  plt.imshow(decoded_imgs[i].reshape(28,28))\n",
        "  plt.gray()\n",
        "  ax.get_xaxis().set_visible(False)\n",
        "  ax.get_yaxis().set_visible(False)\n",
        "plt.show()"
      ],
      "execution_count": 15,
      "outputs": [
        {
          "output_type": "display_data",
          "data": {
            "image/png": "[encoded data removed]",
            "text/plain": [
              "<Figure size 432x288 with 20 Axes>"
            ]
          },
          "metadata": {
            "tags": [],
            "needs_background": "light"
          }
        }
      ]
    },
    {
      "cell_type": "markdown",
      "metadata": {
        "id": "LEWVK34MeE7q"
      },
      "source": [
        "#Convolutional Autoencoder"
      ]
    },
    {
      "cell_type": "code",
      "metadata": {
        "id": "Y-rXupM3ehsw"
      },
      "source": [
        "input_img = Input(shape=(28,28,1))\n",
        "x = Conv2D(16,(3,3),activation='relu', padding='same')(input_img)\n",
        "x = MaxPooling2D((2,2), padding='same')(x)\n",
        "x = Conv2D(8,(3,3), activation='relu', padding='same')(x)\n",
        "x = MaxPooling2D((2,2), padding='same')(x)\n",
        "x = Conv2D(8, (3,3),activation='relu', padding='same')(x)\n",
        "encoded = MaxPooling2D((2,2), padding='same')(x)\n",
        "#representation = (4,4,8) or 128 dimensional\n",
        "\n",
        "x = Conv2D(8,(3,3),activation='relu', padding='same')(encoded)\n",
        "x = UpSampling2D((2,2))(x)\n",
        "x = Conv2D(8,(3,3), activation='relu', padding='same')(x)\n",
        "x = UpSampling2D((2,2))(x)\n",
        "x = Conv2D(16, (3,3),activation='relu')(x)\n",
        "x = UpSampling2D((2,2))(x)\n",
        "\n",
        "decoded = Conv2D(1,(3,3), activation='sigmoid', padding='same')(x)\n",
        "\n",
        "conv_autoencoder = keras.Model(input_img, decoded)\n",
        "conv_autoencoder.compile(optimizer='adam', loss='binary_crossentropy')"
      ],
      "execution_count": 16,
      "outputs": []
    },
    {
      "cell_type": "code",
      "metadata": {
        "id": "SEDv7rqwgd5_"
      },
      "source": [
        "(X_train,_), (X_test,_) = mnist.load_data()\n",
        "X_train = X_train.astype('float32')/255.0\n",
        "X_test = X_test.astype('float32')/255.0\n",
        "X_train = X_train.reshape(len(X_train),28,28,1)\n",
        "X_test = X_test.reshape(len(X_test), 28,28,1)"
      ],
      "execution_count": 17,
      "outputs": []
    },
    {
      "cell_type": "code",
      "metadata": {
        "colab": {
          "base_uri": "https://localhost:8080/"
        },
        "id": "7lhX81Jpg8Bk",
        "outputId": "4301fd92-081a-4194-d55e-bf6096cf3474"
      },
      "source": [
        "conv_autoencoder.fit(X_train,X_train,epochs=50,batch_size=128,shuffle=True,validation_data=(X_test,X_test))"
      ],
      "execution_count": 18,
      "outputs": [
        {
          "output_type": "stream",
          "text": [
            "Epoch 1/50\n",
            "469/469 [==============================] - 81s 167ms/step - loss: 0.2842 - val_loss: 0.1439\n",
            "Epoch 2/50\n",
            "469/469 [==============================] - 78s 166ms/step - loss: 0.1387 - val_loss: 0.1267\n",
            "Epoch 3/50\n",
            "469/469 [==============================] - 78s 165ms/step - loss: 0.1243 - val_loss: 0.1173\n",
            "Epoch 4/50\n",
            "469/469 [==============================] - 78s 165ms/step - loss: 0.1170 - val_loss: 0.1119\n",
            "Epoch 5/50\n",
            "469/469 [==============================] - 78s 166ms/step - loss: 0.1124 - val_loss: 0.1085\n",
            "Epoch 6/50\n",
            "469/469 [==============================] - 78s 165ms/step - loss: 0.1090 - val_loss: 0.1060\n",
            "Epoch 7/50\n",
            "469/469 [==============================] - 78s 165ms/step - loss: 0.1066 - val_loss: 0.1042\n",
            "Epoch 8/50\n",
            "469/469 [==============================] - 78s 166ms/step - loss: 0.1045 - val_loss: 0.1020\n",
            "Epoch 9/50\n",
            "469/469 [==============================] - 78s 166ms/step - loss: 0.1030 - val_loss: 0.1014\n",
            "Epoch 10/50\n",
            "469/469 [==============================] - 77s 165ms/step - loss: 0.1018 - val_loss: 0.0999\n",
            "Epoch 11/50\n",
            "469/469 [==============================] - 77s 165ms/step - loss: 0.1007 - val_loss: 0.0985\n",
            "Epoch 12/50\n",
            "469/469 [==============================] - 78s 165ms/step - loss: 0.0994 - val_loss: 0.0974\n",
            "Epoch 13/50\n",
            "469/469 [==============================] - 77s 165ms/step - loss: 0.0985 - val_loss: 0.0969\n",
            "Epoch 14/50\n",
            "469/469 [==============================] - 78s 165ms/step - loss: 0.0978 - val_loss: 0.0962\n",
            "Epoch 15/50\n",
            "469/469 [==============================] - 77s 165ms/step - loss: 0.0972 - val_loss: 0.0955\n",
            "Epoch 16/50\n",
            "469/469 [==============================] - 77s 165ms/step - loss: 0.0966 - val_loss: 0.0952\n",
            "Epoch 17/50\n",
            "469/469 [==============================] - 77s 165ms/step - loss: 0.0958 - val_loss: 0.0944\n",
            "Epoch 18/50\n",
            "469/469 [==============================] - 78s 166ms/step - loss: 0.0956 - val_loss: 0.0939\n",
            "Epoch 19/50\n",
            "469/469 [==============================] - 78s 165ms/step - loss: 0.0951 - val_loss: 0.0934\n",
            "Epoch 20/50\n",
            "469/469 [==============================] - 78s 165ms/step - loss: 0.0949 - val_loss: 0.0937\n",
            "Epoch 21/50\n",
            "469/469 [==============================] - 78s 166ms/step - loss: 0.0943 - val_loss: 0.0928\n",
            "Epoch 22/50\n",
            "469/469 [==============================] - 78s 166ms/step - loss: 0.0940 - val_loss: 0.0925\n",
            "Epoch 23/50\n",
            "469/469 [==============================] - 77s 164ms/step - loss: 0.0934 - val_loss: 0.0922\n",
            "Epoch 24/50\n",
            "469/469 [==============================] - 77s 165ms/step - loss: 0.0934 - val_loss: 0.0920\n",
            "Epoch 25/50\n",
            "469/469 [==============================] - 77s 165ms/step - loss: 0.0930 - val_loss: 0.0917\n",
            "Epoch 26/50\n",
            "469/469 [==============================] - 78s 166ms/step - loss: 0.0928 - val_loss: 0.0913\n",
            "Epoch 27/50\n",
            "469/469 [==============================] - 77s 165ms/step - loss: 0.0924 - val_loss: 0.0910\n",
            "Epoch 28/50\n",
            "469/469 [==============================] - 77s 165ms/step - loss: 0.0922 - val_loss: 0.0907\n",
            "Epoch 29/50\n",
            "469/469 [==============================] - 77s 165ms/step - loss: 0.0919 - val_loss: 0.0910\n",
            "Epoch 30/50\n",
            "469/469 [==============================] - 78s 165ms/step - loss: 0.0915 - val_loss: 0.0902\n",
            "Epoch 31/50\n",
            "469/469 [==============================] - 77s 165ms/step - loss: 0.0914 - val_loss: 0.0902\n",
            "Epoch 32/50\n",
            "469/469 [==============================] - 78s 166ms/step - loss: 0.0911 - val_loss: 0.0900\n",
            "Epoch 33/50\n",
            "469/469 [==============================] - 77s 165ms/step - loss: 0.0913 - val_loss: 0.0903\n",
            "Epoch 34/50\n",
            "469/469 [==============================] - 78s 166ms/step - loss: 0.0910 - val_loss: 0.0895\n",
            "Epoch 35/50\n",
            "469/469 [==============================] - 77s 165ms/step - loss: 0.0907 - val_loss: 0.0893\n",
            "Epoch 36/50\n",
            "469/469 [==============================] - 77s 164ms/step - loss: 0.0906 - val_loss: 0.0892\n",
            "Epoch 37/50\n",
            "469/469 [==============================] - 77s 164ms/step - loss: 0.0905 - val_loss: 0.0891\n",
            "Epoch 38/50\n",
            "469/469 [==============================] - 77s 164ms/step - loss: 0.0905 - val_loss: 0.0891\n",
            "Epoch 39/50\n",
            "469/469 [==============================] - 77s 165ms/step - loss: 0.0902 - val_loss: 0.0888\n",
            "Epoch 40/50\n",
            "469/469 [==============================] - 77s 165ms/step - loss: 0.0900 - val_loss: 0.0892\n",
            "Epoch 41/50\n",
            "469/469 [==============================] - 78s 166ms/step - loss: 0.0897 - val_loss: 0.0886\n",
            "Epoch 42/50\n",
            "469/469 [==============================] - 78s 165ms/step - loss: 0.0897 - val_loss: 0.0885\n",
            "Epoch 43/50\n",
            "469/469 [==============================] - 77s 165ms/step - loss: 0.0898 - val_loss: 0.0888\n",
            "Epoch 44/50\n",
            "469/469 [==============================] - 78s 165ms/step - loss: 0.0895 - val_loss: 0.0882\n",
            "Epoch 45/50\n",
            "469/469 [==============================] - 78s 166ms/step - loss: 0.0893 - val_loss: 0.0884\n",
            "Epoch 46/50\n",
            "469/469 [==============================] - 78s 166ms/step - loss: 0.0891 - val_loss: 0.0879\n",
            "Epoch 47/50\n",
            "469/469 [==============================] - 78s 166ms/step - loss: 0.0889 - val_loss: 0.0880\n",
            "Epoch 48/50\n",
            "469/469 [==============================] - 78s 166ms/step - loss: 0.0890 - val_loss: 0.0877\n",
            "Epoch 49/50\n",
            "469/469 [==============================] - 78s 166ms/step - loss: 0.0890 - val_loss: 0.0877\n",
            "Epoch 50/50\n",
            "469/469 [==============================] - 78s 166ms/step - loss: 0.0888 - val_loss: 0.0876\n"
          ],
          "name": "stdout"
        },
        {
          "output_type": "execute_result",
          "data": {
            "text/plain": [
              "<keras.callbacks.History at 0x7f1fe9252f90>"
            ]
          },
          "metadata": {
            "tags": []
          },
          "execution_count": 18
        }
      ]
    },
    {
      "cell_type": "code",
      "metadata": {
        "id": "pXrPs8i_hHef"
      },
      "source": [
        "decoded_imgs = conv_autoencoder.predict(X_test)"
      ],
      "execution_count": 19,
      "outputs": []
    },
    {
      "cell_type": "code",
      "metadata": {
        "colab": {
          "base_uri": "https://localhost:8080/",
          "height": 181
        },
        "id": "80cLmTQfhoXO",
        "outputId": "237132a7-0e01-48ac-c224-73f8098e58e6"
      },
      "source": [
        "n=10\n",
        "for i in range(n):\n",
        "  ax = plt.subplot(2,n,i+1)\n",
        "  plt.imshow(X_test[i].reshape(28,28))\n",
        "  plt.gray()\n",
        "  ax.get_xaxis().set_visible(False)\n",
        "  ax.get_yaxis().set_visible(False)\n",
        "\n",
        "  ax = plt.subplot(2, n, 1+i+n)\n",
        "  plt.imshow(decoded_imgs[i].reshape(28,28))\n",
        "  plt.gray()\n",
        "  ax.get_xaxis().set_visible(False)\n",
        "  ax.get_yaxis().set_visible(False)\n",
        "plt.show()"
      ],
      "execution_count": 20,
      "outputs": [
        {
          "output_type": "display_data",
          "data": {
            "image/png": "[encoded data removed]",
            "text/plain": [
              "<Figure size 432x288 with 20 Axes>"
            ]
          },
          "metadata": {
            "tags": [],
            "needs_background": "light"
          }
        }
      ]
    },
    {
      "cell_type": "code",
      "metadata": {
        "colab": {
          "base_uri": "https://localhost:8080/",
          "height": 488
        },
        "id": "HYGu84RXjIqH",
        "outputId": "45601826-8506-497f-a012-52f97fc7b106"
      },
      "source": [
        "encoder = keras.Model(input_img,encoded)\n",
        "encoder_imgs = encoder.predict(X_test)\n",
        "\n",
        "n=10\n",
        "for i in range(1,n+1):\n",
        "  ax = plt.subplot(1,n,i)\n",
        "  plt.imshow(encoded_imgs[i].reshape((4,4*8)).T) #what does .T do?\n",
        "  plt.gray()\n",
        "  ax.get_xaxis().set_visible(False)\n",
        "  ax.get_yaxis().set_visible(False)\n",
        "\n",
        "plt.show()"
      ],
      "execution_count": 21,
      "outputs": [
        {
          "output_type": "error",
          "ename": "ValueError",
          "evalue": "ignored",
          "traceback": [
            "\u001b[0;31m---------------------------------------------------------------------------\u001b[0m",
            "\u001b[0;31mValueError\u001b[0m                                Traceback (most recent call last)",
            "\u001b[0;32m<ipython-input-21-119ed5b54a67>\u001b[0m in \u001b[0;36m<module>\u001b[0;34m()\u001b[0m\n\u001b[1;32m      5\u001b[0m \u001b[0;32mfor\u001b[0m \u001b[0mi\u001b[0m \u001b[0;32min\u001b[0m \u001b[0mrange\u001b[0m\u001b[0;34m(\u001b[0m\u001b[0;36m1\u001b[0m\u001b[0;34m,\u001b[0m\u001b[0mn\u001b[0m\u001b[0;34m+\u001b[0m\u001b[0;36m1\u001b[0m\u001b[0;34m)\u001b[0m\u001b[0;34m:\u001b[0m\u001b[0;34m\u001b[0m\u001b[0;34m\u001b[0m\u001b[0m\n\u001b[1;32m      6\u001b[0m   \u001b[0max\u001b[0m \u001b[0;34m=\u001b[0m \u001b[0mplt\u001b[0m\u001b[0;34m.\u001b[0m\u001b[0msubplot\u001b[0m\u001b[0;34m(\u001b[0m\u001b[0;36m1\u001b[0m\u001b[0;34m,\u001b[0m\u001b[0mn\u001b[0m\u001b[0;34m,\u001b[0m\u001b[0mi\u001b[0m\u001b[0;34m)\u001b[0m\u001b[0;34m\u001b[0m\u001b[0;34m\u001b[0m\u001b[0m\n\u001b[0;32m----> 7\u001b[0;31m   \u001b[0mplt\u001b[0m\u001b[0;34m.\u001b[0m\u001b[0mimshow\u001b[0m\u001b[0;34m(\u001b[0m\u001b[0mencoded_imgs\u001b[0m\u001b[0;34m[\u001b[0m\u001b[0mi\u001b[0m\u001b[0;34m]\u001b[0m\u001b[0;34m.\u001b[0m\u001b[0mreshape\u001b[0m\u001b[0;34m(\u001b[0m\u001b[0;34m(\u001b[0m\u001b[0;36m4\u001b[0m\u001b[0;34m,\u001b[0m\u001b[0;36m4\u001b[0m\u001b[0;34m*\u001b[0m\u001b[0;36m8\u001b[0m\u001b[0;34m)\u001b[0m\u001b[0;34m)\u001b[0m\u001b[0;34m.\u001b[0m\u001b[0mT\u001b[0m\u001b[0;34m)\u001b[0m \u001b[0;31m#what does .T do?\u001b[0m\u001b[0;34m\u001b[0m\u001b[0;34m\u001b[0m\u001b[0m\n\u001b[0m\u001b[1;32m      8\u001b[0m   \u001b[0mplt\u001b[0m\u001b[0;34m.\u001b[0m\u001b[0mgray\u001b[0m\u001b[0;34m(\u001b[0m\u001b[0;34m)\u001b[0m\u001b[0;34m\u001b[0m\u001b[0;34m\u001b[0m\u001b[0m\n\u001b[1;32m      9\u001b[0m   \u001b[0max\u001b[0m\u001b[0;34m.\u001b[0m\u001b[0mget_xaxis\u001b[0m\u001b[0;34m(\u001b[0m\u001b[0;34m)\u001b[0m\u001b[0;34m.\u001b[0m\u001b[0mset_visible\u001b[0m\u001b[0;34m(\u001b[0m\u001b[0;32mFalse\u001b[0m\u001b[0;34m)\u001b[0m\u001b[0;34m\u001b[0m\u001b[0;34m\u001b[0m\u001b[0m\n",
            "\u001b[0;31mValueError\u001b[0m: cannot reshape array of size 784 into shape (4,32)"
          ]
        },
        {
          "output_type": "display_data",
          "data": {
            "image/png": "[encoded data removed]",
            "text/plain": [
              "<Figure size 432x288 with 1 Axes>"
            ]
          },
          "metadata": {
            "tags": [],
            "needs_background": "light"
          }
        }
      ]
    },
    {
      "cell_type": "markdown",
      "metadata": {
        "id": "s-Z1LgCfjrjh"
      },
      "source": [
        "#Application to image denoising"
      ]
    },
    {
      "cell_type": "code",
      "metadata": {
        "id": "ZdSyGl3MjtUP"
      },
      "source": [
        "(X_train,_), (X_test,_) = mnist.load_data()\n",
        "X_train = X_train.astype('float32')/255.0\n",
        "X_test = X_test.astype('float32')/255.0\n",
        "X_train = X_train.reshape(len(X_train),28,28,1)\n",
        "X_test = X_test.reshape(len(X_test),28,28,1)\n",
        "\n",
        "noise_factor = .5\n",
        "X_train_noisy = X_train + noise_factor * np.random.normal(loc=0.0,scale=1.0, size=X_train.shape)\n",
        "X_test_noisy = X_test + noise_factor * np.random.normal(loc=0.0,scale=1.0, size=X_test.shape)\n",
        "\n",
        "X_train_noisy = np.clip(X_train_noisy,0.,1.)\n",
        "X_test_noisy = np.clip(X_test_noisy,0.,1.)"
      ],
      "execution_count": 22,
      "outputs": []
    },
    {
      "cell_type": "code",
      "metadata": {
        "colab": {
          "base_uri": "https://localhost:8080/",
          "height": 63
        },
        "id": "wnVDILvMk5Gu",
        "outputId": "eb6cc496-88fd-4fc3-f2cf-854e87c2e797"
      },
      "source": [
        "n=10\n",
        "for i in range(1,n+1):\n",
        "  ax = plt.subplot(1,n,i)\n",
        "  plt.imshow(X_test_noisy[i].reshape(28,28))\n",
        "  plt.gray()\n",
        "  ax.get_xaxis().set_visible(False)\n",
        "  ax.get_yaxis().set_visible(False)\n",
        "\n",
        "plt.show()"
      ],
      "execution_count": 23,
      "outputs": [
        {
          "output_type": "display_data",
          "data": {
            "image/png": "[encoded data removed]",
            "text/plain": [
              "<Figure size 432x288 with 10 Axes>"
            ]
          },
          "metadata": {
            "tags": [],
            "needs_background": "light"
          }
        }
      ]
    },
    {
      "cell_type": "code",
      "metadata": {
        "id": "pr25Q_dhlLaq"
      },
      "source": [
        "input_img = Input(shape=(28,28,1))\n",
        "x = Conv2D(32,(3,3),activation='relu', padding='same')(input_img)\n",
        "x = MaxPooling2D((2,2), padding='same')(x)\n",
        "x = Conv2D(32,(3,3), activation='relu', padding='same')(x)\n",
        "encoded = MaxPooling2D((2,2), padding='same')(x)\n",
        "#representation = (4,4,8) or 128 dimensional\n",
        "\n",
        "x = Conv2D(32,(3,3),activation='relu', padding='same')(encoded)\n",
        "x = UpSampling2D((2,2))(x)\n",
        "x = Conv2D(32,(3,3), activation='relu', padding='same')(x)\n",
        "x = UpSampling2D((2,2))(x)\n",
        "\n",
        "decoded = Conv2D(1,(3,3), activation='sigmoid', padding='same')(x)\n",
        "\n",
        "noise_autoencoder = keras.Model(input_img, decoded)\n",
        "noise_autoencoder.compile(optimizer='adam', loss='binary_crossentropy')"
      ],
      "execution_count": 24,
      "outputs": []
    },
    {
      "cell_type": "code",
      "metadata": {
        "colab": {
          "base_uri": "https://localhost:8080/"
        },
        "id": "ykrtwMDUlnXF",
        "outputId": "13118ec3-2476-468e-a742-8c40d615f656"
      },
      "source": [
        "noise_autoencoder.fit(X_train_noisy,X_train,epochs=100,batch_size=128,shuffle=True,validation_data=(X_test_noisy,X_test))"
      ],
      "execution_count": null,
      "outputs": [
        {
          "output_type": "stream",
          "text": [
            "Epoch 1/100\n",
            "469/469 [==============================] - 149s 317ms/step - loss: 0.2569 - val_loss: 0.1188\n",
            "Epoch 2/100\n",
            "469/469 [==============================] - 149s 317ms/step - loss: 0.1171 - val_loss: 0.1099\n",
            "Epoch 3/100\n",
            "469/469 [==============================] - 149s 318ms/step - loss: 0.1103 - val_loss: 0.1059\n",
            "Epoch 4/100\n",
            "469/469 [==============================] - 149s 317ms/step - loss: 0.1060 - val_loss: 0.1033\n",
            "Epoch 5/100\n",
            "469/469 [==============================] - 149s 318ms/step - loss: 0.1039 - val_loss: 0.1014\n",
            "Epoch 6/100\n",
            "469/469 [==============================] - 150s 320ms/step - loss: 0.1021 - val_loss: 0.1002\n",
            "Epoch 7/100\n",
            "469/469 [==============================] - 150s 319ms/step - loss: 0.1011 - val_loss: 0.1004\n",
            "Epoch 8/100\n",
            "469/469 [==============================] - 150s 320ms/step - loss: 0.1002 - val_loss: 0.0985\n",
            "Epoch 9/100\n",
            "469/469 [==============================] - 150s 320ms/step - loss: 0.0993 - val_loss: 0.0979\n",
            "Epoch 10/100\n",
            "469/469 [==============================] - 150s 320ms/step - loss: 0.0985 - val_loss: 0.0974\n",
            "Epoch 11/100\n",
            "469/469 [==============================] - 148s 315ms/step - loss: 0.0981 - val_loss: 0.0971\n",
            "Epoch 12/100\n",
            "469/469 [==============================] - 144s 308ms/step - loss: 0.0979 - val_loss: 0.0966\n",
            "Epoch 13/100\n",
            "469/469 [==============================] - 144s 308ms/step - loss: 0.0974 - val_loss: 0.0965\n",
            "Epoch 14/100\n",
            "469/469 [==============================] - 144s 307ms/step - loss: 0.0970 - val_loss: 0.0960\n",
            "Epoch 15/100\n",
            "469/469 [==============================] - 144s 308ms/step - loss: 0.0970 - val_loss: 0.0959\n",
            "Epoch 16/100\n",
            "469/469 [==============================] - 144s 307ms/step - loss: 0.0965 - val_loss: 0.0958\n",
            "Epoch 17/100\n",
            "469/469 [==============================] - 144s 307ms/step - loss: 0.0963 - val_loss: 0.0954\n",
            "Epoch 18/100\n",
            "469/469 [==============================] - 143s 306ms/step - loss: 0.0962 - val_loss: 0.0961\n",
            "Epoch 19/100\n",
            "469/469 [==============================] - 143s 306ms/step - loss: 0.0962 - val_loss: 0.0951\n",
            "Epoch 20/100\n",
            "469/469 [==============================] - 143s 305ms/step - loss: 0.0957 - val_loss: 0.0950\n",
            "Epoch 21/100\n",
            "469/469 [==============================] - 143s 306ms/step - loss: 0.0957 - val_loss: 0.0949\n",
            "Epoch 22/100\n",
            "469/469 [==============================] - 143s 305ms/step - loss: 0.0956 - val_loss: 0.0949\n",
            "Epoch 23/100\n",
            "469/469 [==============================] - 144s 307ms/step - loss: 0.0957 - val_loss: 0.0948\n",
            "Epoch 24/100\n",
            "469/469 [==============================] - 148s 316ms/step - loss: 0.0957 - val_loss: 0.0948\n",
            "Epoch 25/100\n",
            "469/469 [==============================] - 149s 317ms/step - loss: 0.0952 - val_loss: 0.0946\n",
            "Epoch 26/100\n",
            "469/469 [==============================] - 149s 317ms/step - loss: 0.0952 - val_loss: 0.0947\n",
            "Epoch 27/100\n",
            "469/469 [==============================] - 149s 317ms/step - loss: 0.0950 - val_loss: 0.0944\n",
            "Epoch 28/100\n",
            "469/469 [==============================] - 148s 317ms/step - loss: 0.0951 - val_loss: 0.0945\n",
            "Epoch 29/100\n",
            "469/469 [==============================] - 149s 317ms/step - loss: 0.0950 - val_loss: 0.0944\n",
            "Epoch 30/100\n",
            "469/469 [==============================] - 149s 319ms/step - loss: 0.0949 - val_loss: 0.0944\n",
            "Epoch 31/100\n",
            "469/469 [==============================] - 150s 319ms/step - loss: 0.0947 - val_loss: 0.0943\n",
            "Epoch 32/100\n",
            "469/469 [==============================] - 150s 320ms/step - loss: 0.0946 - val_loss: 0.0942\n",
            "Epoch 33/100\n",
            "469/469 [==============================] - 150s 319ms/step - loss: 0.0946 - val_loss: 0.0950\n",
            "Epoch 34/100\n",
            "469/469 [==============================] - 149s 318ms/step - loss: 0.0947 - val_loss: 0.0945\n",
            "Epoch 35/100\n",
            "469/469 [==============================] - 149s 318ms/step - loss: 0.0947 - val_loss: 0.0941\n",
            "Epoch 36/100\n",
            "469/469 [==============================] - 150s 320ms/step - loss: 0.0946 - val_loss: 0.0944\n",
            "Epoch 37/100\n",
            "469/469 [==============================] - 148s 317ms/step - loss: 0.0945 - val_loss: 0.0947\n",
            "Epoch 38/100\n",
            "469/469 [==============================] - 150s 320ms/step - loss: 0.0945 - val_loss: 0.0942\n",
            "Epoch 39/100\n",
            "469/469 [==============================] - 150s 319ms/step - loss: 0.0944 - val_loss: 0.0941\n",
            "Epoch 40/100\n",
            "469/469 [==============================] - 149s 318ms/step - loss: 0.0945 - val_loss: 0.0943\n",
            "Epoch 41/100\n",
            "469/469 [==============================] - 149s 319ms/step - loss: 0.0943 - val_loss: 0.0940\n",
            "Epoch 42/100\n",
            "469/469 [==============================] - 149s 317ms/step - loss: 0.0943 - val_loss: 0.0940\n",
            "Epoch 43/100\n",
            "469/469 [==============================] - 149s 318ms/step - loss: 0.0942 - val_loss: 0.0940\n",
            "Epoch 44/100\n",
            "469/469 [==============================] - 149s 318ms/step - loss: 0.0944 - val_loss: 0.0943\n",
            "Epoch 45/100\n",
            "469/469 [==============================] - 149s 319ms/step - loss: 0.0943 - val_loss: 0.0940\n",
            "Epoch 46/100\n",
            "469/469 [==============================] - 149s 317ms/step - loss: 0.0944 - val_loss: 0.0940\n",
            "Epoch 47/100\n",
            "469/469 [==============================] - 148s 316ms/step - loss: 0.0941 - val_loss: 0.0938\n",
            "Epoch 48/100\n",
            "469/469 [==============================] - 149s 317ms/step - loss: 0.0943 - val_loss: 0.0939\n",
            "Epoch 49/100\n",
            "469/469 [==============================] - 149s 317ms/step - loss: 0.0943 - val_loss: 0.0940\n",
            "Epoch 50/100\n",
            "469/469 [==============================] - 148s 316ms/step - loss: 0.0943 - val_loss: 0.0939\n",
            "Epoch 51/100\n",
            "469/469 [==============================] - 148s 317ms/step - loss: 0.0941 - val_loss: 0.0939\n",
            "Epoch 52/100\n",
            "469/469 [==============================] - 149s 317ms/step - loss: 0.0941 - val_loss: 0.0941\n",
            "Epoch 53/100\n",
            "469/469 [==============================] - 149s 318ms/step - loss: 0.0940 - val_loss: 0.0939\n",
            "Epoch 54/100\n",
            "469/469 [==============================] - 148s 317ms/step - loss: 0.0941 - val_loss: 0.0937\n",
            "Epoch 55/100\n",
            "469/469 [==============================] - 149s 317ms/step - loss: 0.0939 - val_loss: 0.0940\n",
            "Epoch 56/100\n",
            "469/469 [==============================] - 149s 318ms/step - loss: 0.0941 - val_loss: 0.0938\n",
            "Epoch 57/100\n",
            "469/469 [==============================] - 149s 318ms/step - loss: 0.0941 - val_loss: 0.0940\n",
            "Epoch 58/100\n",
            "469/469 [==============================] - 149s 317ms/step - loss: 0.0941 - val_loss: 0.0937\n",
            "Epoch 59/100\n",
            "469/469 [==============================] - 149s 317ms/step - loss: 0.0938 - val_loss: 0.0937\n",
            "Epoch 60/100\n",
            "469/469 [==============================] - 149s 317ms/step - loss: 0.0940 - val_loss: 0.0937\n",
            "Epoch 61/100\n",
            "469/469 [==============================] - 149s 317ms/step - loss: 0.0940 - val_loss: 0.0937\n",
            "Epoch 62/100\n",
            "469/469 [==============================] - 149s 317ms/step - loss: 0.0940 - val_loss: 0.0937\n",
            "Epoch 63/100\n",
            "469/469 [==============================] - 150s 320ms/step - loss: 0.0940 - val_loss: 0.0938\n",
            "Epoch 64/100\n",
            "469/469 [==============================] - 150s 320ms/step - loss: 0.0940 - val_loss: 0.0937\n",
            "Epoch 65/100\n",
            "469/469 [==============================] - 150s 319ms/step - loss: 0.0940 - val_loss: 0.0936\n",
            "Epoch 66/100\n",
            "469/469 [==============================] - 151s 321ms/step - loss: 0.0938 - val_loss: 0.0938\n",
            "Epoch 67/100\n",
            "469/469 [==============================] - 150s 321ms/step - loss: 0.0938 - val_loss: 0.0936\n",
            "Epoch 68/100\n",
            "469/469 [==============================] - 150s 319ms/step - loss: 0.0938 - val_loss: 0.0939\n",
            "Epoch 69/100\n",
            "469/469 [==============================] - 149s 318ms/step - loss: 0.0937 - val_loss: 0.0937\n",
            "Epoch 70/100\n",
            "469/469 [==============================] - 149s 317ms/step - loss: 0.0939 - val_loss: 0.0936\n",
            "Epoch 71/100\n",
            "469/469 [==============================] - 148s 315ms/step - loss: 0.0938 - val_loss: 0.0937\n",
            "Epoch 72/100\n",
            "469/469 [==============================] - 148s 316ms/step - loss: 0.0938 - val_loss: 0.0936\n",
            "Epoch 73/100\n",
            "469/469 [==============================] - 148s 315ms/step - loss: 0.0937 - val_loss: 0.0935\n",
            "Epoch 74/100\n",
            "469/469 [==============================] - 148s 315ms/step - loss: 0.0937 - val_loss: 0.0935\n",
            "Epoch 75/100\n",
            "469/469 [==============================] - 149s 318ms/step - loss: 0.0938 - val_loss: 0.0935\n",
            "Epoch 76/100\n",
            "469/469 [==============================] - 148s 317ms/step - loss: 0.0937 - val_loss: 0.0935\n",
            "Epoch 77/100\n",
            "469/469 [==============================] - 149s 317ms/step - loss: 0.0938 - val_loss: 0.0936\n",
            "Epoch 78/100\n",
            "469/469 [==============================] - 149s 317ms/step - loss: 0.0936 - val_loss: 0.0934\n",
            "Epoch 79/100\n",
            "469/469 [==============================] - 149s 317ms/step - loss: 0.0938 - val_loss: 0.0935\n",
            "Epoch 80/100\n",
            "469/469 [==============================] - 149s 318ms/step - loss: 0.0937 - val_loss: 0.0935\n",
            "Epoch 81/100\n",
            "469/469 [==============================] - 145s 309ms/step - loss: 0.0934 - val_loss: 0.0936\n",
            "Epoch 82/100\n",
            "469/469 [==============================] - 149s 317ms/step - loss: 0.0937 - val_loss: 0.0938\n",
            "Epoch 83/100\n",
            "469/469 [==============================] - 149s 317ms/step - loss: 0.0936 - val_loss: 0.0934\n",
            "Epoch 84/100\n",
            "469/469 [==============================] - 150s 319ms/step - loss: 0.0936 - val_loss: 0.0935\n",
            "Epoch 85/100\n",
            "469/469 [==============================] - 148s 316ms/step - loss: 0.0936 - val_loss: 0.0934\n",
            "Epoch 86/100\n",
            "469/469 [==============================] - 149s 317ms/step - loss: 0.0935 - val_loss: 0.0936\n",
            "Epoch 87/100\n",
            "469/469 [==============================] - 149s 317ms/step - loss: 0.0938 - val_loss: 0.0935\n",
            "Epoch 88/100\n",
            "469/469 [==============================] - 150s 319ms/step - loss: 0.0936 - val_loss: 0.0934\n",
            "Epoch 89/100\n",
            "469/469 [==============================] - 149s 317ms/step - loss: 0.0935 - val_loss: 0.0936\n",
            "Epoch 90/100\n",
            "469/469 [==============================] - 149s 318ms/step - loss: 0.0934 - val_loss: 0.0938\n",
            "Epoch 91/100\n",
            "469/469 [==============================] - 149s 318ms/step - loss: 0.0935 - val_loss: 0.0934\n",
            "Epoch 92/100\n",
            "469/469 [==============================] - 150s 320ms/step - loss: 0.0935 - val_loss: 0.0935\n",
            "Epoch 93/100\n",
            "469/469 [==============================] - 149s 317ms/step - loss: 0.0935 - val_loss: 0.0933\n",
            "Epoch 94/100\n",
            "469/469 [==============================] - 149s 318ms/step - loss: 0.0935 - val_loss: 0.0934\n",
            "Epoch 95/100\n",
            "327/469 [===================>..........] - ETA: 44s - loss: 0.0933"
          ],
          "name": "stdout"
        }
      ]
    },
    {
      "cell_type": "code",
      "metadata": {
        "id": "EqJnNnzDl_zi"
      },
      "source": [
        "decoded_imgs = autoencoder(X_test_noisy)"
      ],
      "execution_count": null,
      "outputs": []
    },
    {
      "cell_type": "code",
      "metadata": {
        "id": "UTZAxeeEl7MY"
      },
      "source": [
        "n=10\n",
        "for i in range(n):\n",
        "  ax = plt.subplot(2,n,i+1)\n",
        "  plt.imshow(X_test[i].reshape(28,28))\n",
        "  plt.gray()\n",
        "  ax.get_xaxis().set_visible(False)\n",
        "  ax.get_yaxis().set_visible(False)\n",
        "\n",
        "  ax = plt.subplot(2, n, 1+i+n)\n",
        "  plt.imshow(decoded_imgs[i].reshape(28,28))\n",
        "  plt.gray()\n",
        "  ax.get_xaxis().set_visible(False)\n",
        "  ax.get_yaxis().set_visible(False)\n",
        "plt.show()"
      ],
      "execution_count": null,
      "outputs": []
    },
    {
      "cell_type": "markdown",
      "metadata": {
        "id": "gbvR5fAYmKEZ"
      },
      "source": [
        "#Variational autoencoder"
      ]
    },
    {
      "cell_type": "code",
      "metadata": {
        "id": "xdIKVzKemNHA"
      },
      "source": [
        "oringal_dim = 28*28\n",
        "intermediete_dim = 64\n",
        "latent_dim=2\n",
        "\n",
        "inputs = Input(shape=(original_dim,))\n",
        "h = Dense(intermediete_dim,activation='relu')(inputs)\n",
        "z_mean = Dense(latent_dim)(h)\n",
        "z_log_sigma = Dense(latent_dim)(h)"
      ],
      "execution_count": null,
      "outputs": []
    },
    {
      "cell_type": "code",
      "metadata": {
        "id": "HMCful_CnuKr"
      },
      "source": [
        "def sampling(args):\n",
        "  z_mean,z_log_sigma = args\n",
        "  epsilon = K.random_normal(shape=(K.shape(z_mean)[0],latent_dim,\n",
        "                                   mean-0,stddev=.1))\n",
        "  return z_mean + K.exp(z_log_sigma) * epsilon\n",
        "\n",
        "z = Lambda(sampling)([z_mea,z_log_sigma])"
      ],
      "execution_count": null,
      "outputs": []
    },
    {
      "cell_type": "code",
      "metadata": {
        "id": "P_nVnT3VoZqE"
      },
      "source": [
        "encoder = Model(inputs,[z_mean,z_log_sigma], name='encoder')\n",
        "\n",
        "latent_inputs = Input(shape=(latent_dim),name='z_sampling')\n",
        "x = Dense(intermediete_dim,activation='relu')(latent_inputs)\n",
        "outputs = Dense(original_dim,activation='sigmoid')(x)\n",
        "decoder = Model(latent_inputs,outputs, name='decoder')\n",
        "\n",
        "#create VAE model\n",
        "outputs = decoder(encoder(inputs)[2])\n",
        "vae = Model(inputs,outputs,name='val_mlp')"
      ],
      "execution_count": null,
      "outputs": []
    },
    {
      "cell_type": "code",
      "metadata": {
        "id": "PKhNnd4wpOkV"
      },
      "source": [
        "reconstruction_loss = losses.binary_crossentropy(inputs,outputs)\n",
        "reconstruction_loss *= orginal_dim\n",
        "kl_loss = 1 + z_log_sigma - K.square(z_mean) - K.exp(z_log_sigma)\n",
        "kl_loss = K.sum(kl_loss,axis=1)\n",
        "kl_loss *= -.5\n",
        "vae_loss = K.mean(reconstruction_loss + kl_loss)\n",
        "vae.add_loss(vae_loss)\n",
        "vae.compile(optimizer='adam')"
      ],
      "execution_count": null,
      "outputs": []
    },
    {
      "cell_type": "code",
      "metadata": {
        "id": "NuyFXinvp9ZZ"
      },
      "source": [
        "(X_train,_), (X_test,_) = mnist.load_data()\n",
        "X_train = X_train.astype('float32')/255.0\n",
        "X_test = X_test.astype('float32')/255.0\n",
        "X_train = X_train.reshape(len(X_train),np.prod(X_train.shape[1:]))\n",
        "X_test = X_test.reshape(len(X_test), np.prod(X_test.shape[1:]))"
      ],
      "execution_count": null,
      "outputs": []
    },
    {
      "cell_type": "code",
      "metadata": {
        "id": "piu888lHqVMg"
      },
      "source": [
        "vae.fit(X_train,X_train,epochs=100,batch_size=32,validation_data=(X_test,X_test))"
      ],
      "execution_count": null,
      "outputs": []
    },
    {
      "cell_type": "code",
      "metadata": {
        "id": "xznIIeUEqfuY"
      },
      "source": [
        "X_test_encoded = encoder.predict(X_test,batch_size=batch_size)\n",
        "plt.figure(figsize=(6,6))\n",
        "plt.scatter(X_test_encoded[:,0], x_test_encoded[:,1], c=y_test)\n",
        "plt.colorbar()\n",
        "plt.show()"
      ],
      "execution_count": null,
      "outputs": []
    },
    {
      "cell_type": "code",
      "metadata": {
        "id": "72rxZA4_rKSW"
      },
      "source": [
        "# Display a 2D manifold of the digits\n",
        "n = 15  # figure with 15x15 digits\n",
        "digit_size = 28\n",
        "figure = np.zeros((digit_size * n, digit_size * n))\n",
        "# sample n points within [-15, 15] standard deviations\n",
        "grid_x = np.linspace(-15, 15, n)\n",
        "grid_y = np.linspace(-15, 15, n)\n",
        "\n",
        "for i, yi in enumerate(grid_x):\n",
        "    for j, xi in enumerate(grid_y):\n",
        "        z_sample = np.array([[xi, yi]])\n",
        "        x_decoded = decoder.predict(z_sample)\n",
        "        digit = x_decoded[0].reshape(digit_size, digit_size)\n",
        "        figure[i * digit_size: (i + 1) * digit_size,\n",
        "               j * digit_size: (j + 1) * digit_size] = digit\n",
        "\n",
        "plt.figure(figsize=(10, 10))\n",
        "plt.imshow(figure)\n",
        "plt.show()"
      ],
      "execution_count": null,
      "outputs": []
    }
  ]
}