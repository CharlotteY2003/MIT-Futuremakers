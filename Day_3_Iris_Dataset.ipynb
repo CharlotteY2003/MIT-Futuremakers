{
  "nbformat": 4,
  "nbformat_minor": 0,
  "metadata": {
    "colab": {
      "name": "Day 3 - Iris Dataset.ipynb",
      "provenance": [],
      "authorship_tag": "ABX9TyNRwZlotepKK3TUtMFUTYn0",
      "include_colab_link": true
    },
    "kernelspec": {
      "name": "python3",
      "display_name": "Python 3"
    },
    "language_info": {
      "name": "python"
    }
  },
  "cells": [
    {
      "cell_type": "markdown",
      "metadata": {
        "id": "view-in-github",
        "colab_type": "text"
      },
      "source": [
        "<a href=\"https://colab.research.google.com/github/CharlotteY2003/MIT-Futuremakers/blob/main/Day_3_Iris_Dataset.ipynb\" target=\"_parent\"><img src=\"https://colab.research.google.com/assets/colab-badge.svg\" alt=\"Open In Colab\"/></a>"
      ]
    },
    {
      "cell_type": "code",
      "metadata": {
        "id": "Z6HN4aTKpZUR"
      },
      "source": [
        "from sklearn.datasets import load_iris\n",
        "from sklearn import tree\n",
        "import graphviz"
      ],
      "execution_count": 7,
      "outputs": []
    },
    {
      "cell_type": "code",
      "metadata": {
        "id": "Ppg5Z1hEpp_C"
      },
      "source": [
        "iris_dataset = load_iris()"
      ],
      "execution_count": 8,
      "outputs": []
    },
    {
      "cell_type": "code",
      "metadata": {
        "id": "XxxxbrQkpuCS"
      },
      "source": [
        "classification_tree = tree.DecisionTreeClassifier()"
      ],
      "execution_count": 9,
      "outputs": []
    },
    {
      "cell_type": "code",
      "metadata": {
        "id": "TC2D0IejpyyQ"
      },
      "source": [
        "classification_tree = classification_tree.fit(iris_dataset.data, iris_dataset.target)"
      ],
      "execution_count": 10,
      "outputs": []
    },
    {
      "cell_type": "code",
      "metadata": {
        "colab": {
          "base_uri": "https://localhost:8080/",
          "height": 35
        },
        "id": "KmYz2rjOqWWG",
        "outputId": "6533dbf4-c86a-40d1-c06c-9b622236ba71"
      },
      "source": [
        "dot_data = tree.export_graphviz(classification_tree, out_file = None, \n",
        "                                feature_names = iris_dataset.feature_names,\n",
        "                                class_names = iris_dataset.target_names,\n",
        "                                filled = True, rounded = True,\n",
        "                                special_characters = True)\n",
        "graph = graphviz.Source(dot_data)\n",
        "graph.render('iris')"
      ],
      "execution_count": 12,
      "outputs": [
        {
          "output_type": "execute_result",
          "data": {
            "application/vnd.google.colaboratory.intrinsic+json": {
              "type": "string"
            },
            "text/plain": [
              "'iris.pdf'"
            ]
          },
          "metadata": {
            "tags": []
          },
          "execution_count": 12
        }
      ]
    }
  ]
}