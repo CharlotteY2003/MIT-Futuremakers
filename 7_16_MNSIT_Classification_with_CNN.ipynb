{
  "nbformat": 4,
  "nbformat_minor": 0,
  "metadata": {
    "colab": {
      "name": "7/16 - MNSIT Classification with CNN.ipynb",
      "provenance": [],
      "authorship_tag": "ABX9TyOqAVSqbtHcNJag6GbP9L9e",
      "include_colab_link": true
    },
    "kernelspec": {
      "name": "python3",
      "display_name": "Python 3"
    },
    "language_info": {
      "name": "python"
    }
  },
  "cells": [
    {
      "cell_type": "markdown",
      "metadata": {
        "id": "view-in-github",
        "colab_type": "text"
      },
      "source": [
        "<a href=\"https://colab.research.google.com/github/CharlotteY2003/MIT-Futuremakers/blob/main/7_16_MNSIT_Classification_with_CNN.ipynb\" target=\"_parent\"><img src=\"https://colab.research.google.com/assets/colab-badge.svg\" alt=\"Open In Colab\"/></a>"
      ]
    },
    {
      "cell_type": "code",
      "metadata": {
        "id": "GFAHm1hmzeN7"
      },
      "source": [
        "import numpy as np\n",
        "from numpy import mean, std\n",
        "import pandas as pd\n",
        "from keras.preprocessing.image import load_img\n",
        "from tensorflow import keras\n",
        "import matplotlib.pyplot as plt\n",
        "from keras.models import Sequential, load_model\n",
        "from keras.layers import *\n",
        "from keras.datasets import mnist\n",
        "from sklearn.model_selection import train_test_split, KFold\n",
        "from keras.utils.all_utils import to_categorical\n",
        "from keras.optimizers import SGD"
      ],
      "execution_count": null,
      "outputs": []
    },
    {
      "cell_type": "code",
      "metadata": {
        "id": "Lg02mD4N_IiN"
      },
      "source": [
        "#(X_train, y_train), (X_test, y_test) = mnist.load_data()"
      ],
      "execution_count": null,
      "outputs": []
    },
    {
      "cell_type": "code",
      "metadata": {
        "id": "u2xRTBAM_Uqi"
      },
      "source": [
        "#for num in range(9):\n",
        "#  plt.subplot(330+1+num)\n",
        "#  plt.imshow(X_train[num], cmap = plt.get_cmap('gray'))\n",
        "#  plt.xticks([])\n",
        "#  plt.yticks([])\n",
        "\n",
        "\n",
        "#plt.show()"
      ],
      "execution_count": null,
      "outputs": []
    },
    {
      "cell_type": "code",
      "metadata": {
        "id": "Jssynd8NC2ok"
      },
      "source": [
        "#print(X_train.shape, X_test.shape)\n",
        "#print(y_train.shape, y_test.shape)"
      ],
      "execution_count": null,
      "outputs": []
    },
    {
      "cell_type": "code",
      "metadata": {
        "id": "z8gOuOgvWicW"
      },
      "source": [
        "def load_data(classes=10):\n",
        "  (X_train, y_train), (X_test, y_test) = mnist.load_data()\n",
        "  X_train = X_train.reshape(X_train.shape[0], 28, 28, 1)\n",
        "  X_test = X_test.reshape(X_test.shape[0], 28, 28, 1)\n",
        "  y_train = to_categorical(y_train, num_classes = classes)\n",
        "  y_test = to_categorical(y_test, num_classes=classes)\n",
        "  return X_train, y_train, X_test, y_test"
      ],
      "execution_count": null,
      "outputs": []
    },
    {
      "cell_type": "code",
      "metadata": {
        "id": "9ikslLCvWzyC"
      },
      "source": [
        "def prepare_data(train,test):\n",
        "  #Convert unassigned int to double\n",
        "  train = train.astype('float32')\n",
        "  test = test.astype('float32')\n",
        "  #Normalize to range 0-1\n",
        "  train = train / 255.0\n",
        "  test = test / 255.0\n",
        "  #Return results\n",
        "  return train, test"
      ],
      "execution_count": null,
      "outputs": []
    },
    {
      "cell_type": "code",
      "metadata": {
        "id": "sNqiGubDYpzL"
      },
      "source": [
        "def define_model():\n",
        "  model = Sequential()\n",
        "  model.add(Conv2D(filters= 32, kernel_size= (3,3), input_shape=(28,28,1), activation='relu', kernel_initializer='he_uniform'))\n",
        "  model.add(MaxPool2D())\n",
        "  model.add(Conv2D(filters = 64, kernel_size = (3,3), input_shape = (28,28,1), activation = 'relu', kernel_initializer='he_uniform'))\n",
        "  model.add(Conv2D(filters = 64, kernel_size = (3,3), input_shape = (28,28,1), activation = 'relu', kernel_initializer='he_uniform'))\n",
        "  model.add(MaxPool2D())\n",
        "  model.add(Flatten())\n",
        "  model.add(Dense(units=100, activation='relu', kernel_initializer='he_uniform'))\n",
        "  model.add(BatchNormalization())\n",
        "  model.add(Dense(units = 10, activation='softmax', kernel_initializer='he_uniform'))\n",
        "\n",
        "  optimizer = SGD(lr=.01, momentum = .9)\n",
        "  model.compile(optimizer = optimizer, loss = 'categorical_crossentropy', metrics = ['accuracy'])\n",
        "\n",
        "  return model"
      ],
      "execution_count": null,
      "outputs": []
    },
    {
      "cell_type": "code",
      "metadata": {
        "id": "yZtvAHzDRzrY"
      },
      "source": [
        "def evaluate_model(model, datax, datay, nfolds=5):\n",
        "  scores, histories = list(), list()\n",
        "  kf = KFold(nfolds, shuffle=True, random_state=1)\n",
        "  \n",
        "  for trainix, testix in kf.split(datax):\n",
        "    model = define_model()\n",
        "    X_train, y_train, X_test, y_test = datax[trainix], datay[trainix], datax[testix], datay[testix]\n",
        "    history = model.fit(X_train, y_train, epochs = 10, batch_size = 32, validation_data = (X_test, y_test), verbose=0)\n",
        "    _, acc = model.evaluate(X_test, y_test, verbose=0) #Confused - why evaluate on data model has already seen?\n",
        "    print(acc)                                         #explanation = some ML models only have train + val set -> need to save actual test data for final model\n",
        "    scores.append(acc)\n",
        "    histories.append(history)\n",
        "  return scores, histories"
      ],
      "execution_count": null,
      "outputs": []
    },
    {
      "cell_type": "code",
      "metadata": {
        "id": "cLv7G8kuWHPe"
      },
      "source": [
        "def summarize_diagnosis(histories):\n",
        "  print(len(histories))\n",
        "  for i in range(len(histories)):\n",
        "    plt.subplot(2,1,1)\n",
        "    plt.title('Cross Entropy Loss')\n",
        "    plt.plot(histories[i].history['loss'], color = 'blue', label = 'train')\n",
        "    plt.plot(histories[i].history['val_loss'], color = 'red', label = 'test')\n",
        "    plt.subplot(2,1,2)\n",
        "    plt.title('Model Accuracy')\n",
        "    plt.plot(histories[i].history['accuracy'], color = 'blue', label = 'train')\n",
        "    plt.plot(histories[i].history['val_accuracy'], color = 'red', label = 'test')\n",
        "  plt.show()"
      ],
      "execution_count": null,
      "outputs": []
    },
    {
      "cell_type": "code",
      "metadata": {
        "id": "2T61_k-wXKqO"
      },
      "source": [
        "def summarize_performance(scores):\n",
        "  print('Mean: ' + str(mean(scores)))\n",
        "  print('Standard deviation: ' + str(std(scores)))\n",
        "  plt.boxplot(scores)\n",
        "  plt.show()"
      ],
      "execution_count": null,
      "outputs": []
    },
    {
      "cell_type": "code",
      "metadata": {
        "id": "gIGrBspYYJXk"
      },
      "source": [
        "def run_test_harness():\n",
        "  X_train, y_train, X_test, y_test = load_data()\n",
        "  X_train, X_test = prepare_data(X_train, X_test)\n",
        "  model = load_model('final_model.h5')\n",
        "  _, acc = model.evaluate(X_test, y_test, verbose=0)\n",
        "  print(acc)\n",
        "  #model = define_model()\n",
        "  #model.fit(X_train, y_train, epochs=10, batch_size = 32, verbose=0)\n",
        "  #model.save('final_model.h5')\n",
        "  #scores, histories = evaluate_model(model, X_train, y_train)\n",
        "  #summarize_diagnosis(histories)\n",
        "  #summarize_performance(scores)"
      ],
      "execution_count": null,
      "outputs": []
    },
    {
      "cell_type": "code",
      "metadata": {
        "id": "qJLVbZA2ZD7l"
      },
      "source": [
        "#run_test_harness()"
      ],
      "execution_count": null,
      "outputs": []
    },
    {
      "cell_type": "code",
      "metadata": {
        "id": "GT3OYNVhFrsB"
      },
      "source": [
        "def load_image(filename):\n",
        "  image = load_img(filename,grayscale=True, target_size = (28,28))\n",
        "  image = np.array(image)\n",
        "  image = image.reshape(1, 28,28,1)\n",
        "  image = image.astype('float32')\n",
        "  image = image/255.0\n",
        "  return image"
      ],
      "execution_count": null,
      "outputs": []
    },
    {
      "cell_type": "code",
      "metadata": {
        "id": "gGg9yW3hGp_A"
      },
      "source": [
        "def run_example():\n",
        "  img = load_image('sample_image.png')\n",
        "  model = load_model('final_model.h5')\n",
        "  digit = model.predict_classes(img)\n",
        "  print(digit)"
      ],
      "execution_count": null,
      "outputs": []
    },
    {
      "cell_type": "code",
      "metadata": {
        "colab": {
          "base_uri": "https://localhost:8080/"
        },
        "id": "GV01L6hbG-Tz",
        "outputId": "e7e05cc8-0825-42bc-a408-14ec3366474a"
      },
      "source": [
        "run_example()"
      ],
      "execution_count": null,
      "outputs": [
        {
          "output_type": "stream",
          "text": [
            "/usr/local/lib/python3.7/dist-packages/keras_preprocessing/image/utils.py:107: UserWarning: grayscale is deprecated. Please use color_mode = \"grayscale\"\n",
            "  warnings.warn('grayscale is deprecated. Please use '\n",
            "/usr/local/lib/python3.7/dist-packages/keras/engine/sequential.py:450: UserWarning: `model.predict_classes()` is deprecated and will be removed after 2021-01-01. Please use instead:* `np.argmax(model.predict(x), axis=-1)`,   if your model does multi-class classification   (e.g. if it uses a `softmax` last-layer activation).* `(model.predict(x) > 0.5).astype(\"int32\")`,   if your model does binary classification   (e.g. if it uses a `sigmoid` last-layer activation).\n",
            "  warnings.warn('`model.predict_classes()` is deprecated and '\n"
          ],
          "name": "stderr"
        },
        {
          "output_type": "stream",
          "text": [
            "[7]\n"
          ],
          "name": "stdout"
        }
      ]
    }
  ]
}